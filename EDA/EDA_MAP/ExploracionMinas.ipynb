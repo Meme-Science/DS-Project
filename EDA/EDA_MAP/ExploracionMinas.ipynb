{
 "cells": [
  {
   "cell_type": "code",
   "execution_count": 1,
   "metadata": {
    "executionInfo": {
     "elapsed": 5642,
     "status": "ok",
     "timestamp": 1605571170658,
     "user": {
      "displayName": "Andrés Felipe Zapata Palacio",
      "photoUrl": "https://lh3.googleusercontent.com/a-/AOh14Gg27ktUZjg3Y67XH7nk7T5SVNYSn7FVSbaInnj5WQ=s64",
      "userId": "08596469446073364407"
     },
     "user_tz": 300
    },
    "id": "6JpXIckcDinL"
   },
   "outputs": [],
   "source": [
    "!wget 'https://www.datos.gov.co/api/views/jbqm-s5tn/rows.csv?accessType=DOWNLOAD' -O 'SituacionDesminadoHumanitario.csv' &> /dev/null\n",
    "!wget 'https://www.datos.gov.co/api/views/4nyw-8qqq/rows.csv?accessType=DOWNLOAD' -O 'EducacionRiesgoMinas.csv'  &> /dev/null\n",
    "!wget 'https://www.datos.gov.co/api/views/sgp4-3e6k/rows.csv?accessType=DOWNLOAD' -O 'EventosMinas.csv' &> /dev/null\n",
    "!wget 'https://www.datos.gov.co/api/views/yhxn-eqqw/rows.csv?accessType=DOWNLOAD' -O 'VictimasMinas.csv' &> /dev/null\n",
    "!wget 'https://www.datos.gov.co/api/views/xdk5-pm3f/rows.csv?accessType=DOWNLOAD' -O 'MunicipiosDANE.csv' &> /dev/null"
   ]
  },
  {
   "cell_type": "code",
   "execution_count": 2,
   "metadata": {
    "executionInfo": {
     "elapsed": 5632,
     "status": "ok",
     "timestamp": 1605571170662,
     "user": {
      "displayName": "Andrés Felipe Zapata Palacio",
      "photoUrl": "https://lh3.googleusercontent.com/a-/AOh14Gg27ktUZjg3Y67XH7nk7T5SVNYSn7FVSbaInnj5WQ=s64",
      "userId": "08596469446073364407"
     },
     "user_tz": 300
    },
    "id": "Vj02-6xdEVaL"
   },
   "outputs": [],
   "source": [
    "import pandas as pd"
   ]
  },
  {
   "cell_type": "code",
   "execution_count": 3,
   "metadata": {
    "executionInfo": {
     "elapsed": 5925,
     "status": "ok",
     "timestamp": 1605571170962,
     "user": {
      "displayName": "Andrés Felipe Zapata Palacio",
      "photoUrl": "https://lh3.googleusercontent.com/a-/AOh14Gg27ktUZjg3Y67XH7nk7T5SVNYSn7FVSbaInnj5WQ=s64",
      "userId": "08596469446073364407"
     },
     "user_tz": 300
    },
    "id": "qblT8HQhD7fy"
   },
   "outputs": [],
   "source": [
    "desminado  = pd.read_csv('SituacionDesminadoHumanitario.csv')\n",
    "educacion  = pd.read_csv('EducacionRiesgoMinas.csv')\n",
    "casos      = pd.read_csv('EventosMinas.csv')\n",
    "victimas   = pd.read_csv('VictimasMinas.csv')\n",
    "municipios = pd.read_csv('MunicipiosDANE.csv')"
   ]
  },
  {
   "cell_type": "code",
   "execution_count": 4,
   "metadata": {
    "executionInfo": {
     "elapsed": 6252,
     "status": "ok",
     "timestamp": 1605571171294,
     "user": {
      "displayName": "Andrés Felipe Zapata Palacio",
      "photoUrl": "https://lh3.googleusercontent.com/a-/AOh14Gg27ktUZjg3Y67XH7nk7T5SVNYSn7FVSbaInnj5WQ=s64",
      "userId": "08596469446073364407"
     },
     "user_tz": 300
    },
    "id": "_VFPHokgKRTs"
   },
   "outputs": [],
   "source": [
    "educacion[\"FECHA_FINALIZACION\"] = pd.to_datetime(educacion[\"FECHA_FINALIZACION\"])\n",
    "educacion[\"FECHA_INICIO\"] = pd.to_datetime(educacion[\"FECHA_INICIO\"], format=\"%m/%d/%Y %I:%M:%S %p\", infer_datetime_format=False)   # 11/13/2019 12:00:00 AM    \"%m/%d/%Y %I:%M:%S %p\"\n",
    "educacion[\"DURACION\"] = educacion[\"FECHA_FINALIZACION\"] - educacion[\"FECHA_INICIO\"]\n",
    "educacion[\"DURACION\"] = educacion[\"DURACION\"].apply(lambda x: x.days+1)\n",
    "educacion = educacion[educacion[\"DURACION\"] == 1]"
   ]
  },
  {
   "cell_type": "code",
   "execution_count": 5,
   "metadata": {
    "executionInfo": {
     "elapsed": 6249,
     "status": "ok",
     "timestamp": 1605571171295,
     "user": {
      "displayName": "Andrés Felipe Zapata Palacio",
      "photoUrl": "https://lh3.googleusercontent.com/a-/AOh14Gg27ktUZjg3Y67XH7nk7T5SVNYSn7FVSbaInnj5WQ=s64",
      "userId": "08596469446073364407"
     },
     "user_tz": 300
    },
    "id": "vnwoSK_GhDB4"
   },
   "outputs": [],
   "source": [
    "victimas = victimas.rename(columns={\"ano\":\"AÑO\",\"mes\":\"MES\",\"codigodanemunicipio\":\"CODIGO_DANE_MUNICIPIO\"})"
   ]
  },
  {
   "cell_type": "code",
   "execution_count": 6,
   "metadata": {
    "executionInfo": {
     "elapsed": 6247,
     "status": "ok",
     "timestamp": 1605571171296,
     "user": {
      "displayName": "Andrés Felipe Zapata Palacio",
      "photoUrl": "https://lh3.googleusercontent.com/a-/AOh14Gg27ktUZjg3Y67XH7nk7T5SVNYSn7FVSbaInnj5WQ=s64",
      "userId": "08596469446073364407"
     },
     "user_tz": 300
    },
    "id": "4m9RTrWJHQVN"
   },
   "outputs": [],
   "source": [
    "# date: month,year\n",
    "def filterData(df, mun_dane_code=None, date=(None,None)):\n",
    "  victimas = df\n",
    "  month, year = date\n",
    "  if month != None and year != None:\n",
    "    victimas = victimas[(victimas[\"AÑO\"]==year) & (victimas[\"MES\"]==month)]\n",
    "  if mun_dane_code != None:\n",
    "    victimas = victimas[victimas[\"CODIGO_DANE_MUNICIPIO\"] == mun_dane_code]\n",
    "  return victimas\n"
   ]
  },
  {
   "cell_type": "code",
   "execution_count": 7,
   "metadata": {
    "executionInfo": {
     "elapsed": 6244,
     "status": "ok",
     "timestamp": 1605571171298,
     "user": {
      "displayName": "Andrés Felipe Zapata Palacio",
      "photoUrl": "https://lh3.googleusercontent.com/a-/AOh14Gg27ktUZjg3Y67XH7nk7T5SVNYSn7FVSbaInnj5WQ=s64",
      "userId": "08596469446073364407"
     },
     "user_tz": 300
    },
    "id": "yRdjy7EMo3S1"
   },
   "outputs": [],
   "source": [
    "import math\n",
    "\n",
    "# currentDate: month,year\n",
    "def getPreviousDate(currentDate, nMonthsBefore):\n",
    "  month, year = currentDate\n",
    "  if nMonthsBefore < 0:\n",
    "    nMonthsAfter = -nMonthsBefore\n",
    "    month = month + nMonthsAfter\n",
    "    newYear = year + math.floor(month / 12)\n",
    "    newMonth = month % 12\n",
    "    if newMonth == 0:\n",
    "      return 12,newYear-1\n",
    "  elif nMonthsBefore >= month:\n",
    "    nYearsBefore = math.floor(nMonthsBefore / 12)\n",
    "    #nMonthsBefore = nMonthsBefore - month\n",
    "    nMonthsBefore = nMonthsBefore % 12\n",
    "    newYear = year - nYearsBefore\n",
    "    if nMonthsBefore >= month:\n",
    "      newMonth = 12 - (nMonthsBefore - month)\n",
    "      newYear = newYear - 1\n",
    "    else:\n",
    "      newMonth = month - nMonthsBefore\n",
    "  else:\n",
    "    newYear = year\n",
    "    newMonth = month - nMonthsBefore\n",
    "  return newMonth,newYear"
   ]
  },
  {
   "cell_type": "code",
   "execution_count": 8,
   "metadata": {
    "colab": {
     "base_uri": "https://localhost:8080/"
    },
    "executionInfo": {
     "elapsed": 6239,
     "status": "ok",
     "timestamp": 1605571171299,
     "user": {
      "displayName": "Andrés Felipe Zapata Palacio",
      "photoUrl": "https://lh3.googleusercontent.com/a-/AOh14Gg27ktUZjg3Y67XH7nk7T5SVNYSn7FVSbaInnj5WQ=s64",
      "userId": "08596469446073364407"
     },
     "user_tz": 300
    },
    "id": "5wSCiQwNKPiF",
    "outputId": "843a04ed-a5c0-4d9b-eca6-106decbc5eb5"
   },
   "outputs": [
    {
     "name": "stdout",
     "output_type": "stream",
     "text": [
      "(9, 2019)\n",
      "(10, 2019)\n",
      "(11, 2019)\n",
      "(12, 2019)\n",
      "(1, 2020)\n",
      "(2, 2020)\n",
      "(3, 2020)\n",
      "(4, 2020)\n",
      "(5, 2020)\n",
      "(6, 2020)\n",
      "(7, 2020)\n",
      "(8, 2020)\n",
      "(9, 2020)\n",
      "(10, 2020)\n",
      "(11, 2020)\n",
      "(12, 2020)\n",
      "(1, 2021)\n",
      "(2, 2021)\n",
      "(3, 2021)\n",
      "(4, 2021)\n",
      "(5, 2021)\n",
      "(6, 2021)\n",
      "(7, 2021)\n",
      "(8, 2021)\n",
      "(9, 2021)\n",
      "(10, 2021)\n",
      "(11, 2021)\n",
      "(12, 2021)\n"
     ]
    }
   ],
   "source": [
    "for i in range(14,-14,-1):\n",
    "  a = getPreviousDate((11,2020),i)\n",
    "  print(a)"
   ]
  },
  {
   "cell_type": "markdown",
   "metadata": {
    "id": "T5TmL4M54Rt8"
   },
   "source": [
    "# Descripción Datasets\n",
    "\n",
    "__/!\\__ Curiosamente hay muchos más casos que víctimas registradas (36899 vs 11892)\n",
    "\n",
    "**<h2><center>Casos/Eventos</center></h2>**\n",
    "\n",
    "* TIPO_EVENTO (Desminado, Accidente por MAP, Incautaciones,...)\n",
    "* CODIGO_DANE_MUNICIPIO\n",
    "* AÑO,MES\n",
    "\n",
    "**Campos Descartados**\n",
    "\n",
    "* DEPARTAMENTO, CODIGO_DANE_DEPARTAMENTO, MUNICIPIO, SITIO (Vereda)\n",
    "* EVENTO (100% Nulo)\n",
    "* TIPO_LUGAR (95% Nulo) TIPO_AREA (Rural,Urbana)\n",
    "* UBICACIÓN, LATITUD_CABECERA, LONGITUD_CABECERA\n",
    "\n",
    "**<h2><center>Víctimas</center></h2>**\n",
    "\n",
    "* codigodanemunicipio\n",
    "* tipoevento (Accidente por MAP/Accidente por MUSE) -> agg(count)\n",
    "* ano, mes (filter)\n",
    "* condicion (Fuerza pública/Civil)\n",
    "* estado (Herido,Muerto)\n",
    "\n",
    "**Campos Descartados**\n",
    "\n",
    "* departamento, municipio, codigodanedepartamento\n",
    "* sitio (vereda), tipoarea (Urbana,Rural)\n",
    "* grupoetnico (4% no nulo)\n",
    "* Actividad (muy informativo pero dificil de manejar para el condensado)\n",
    "* Ubicación, latitudcabecera, longitudcabecera (Potencialmente útil)\n",
    "* rangoedad, genero (Potencialmente util para compararlo con el tipo de población formada en MAP)"
   ]
  },
  {
   "cell_type": "code",
   "execution_count": 9,
   "metadata": {
    "colab": {
     "base_uri": "https://localhost:8080/",
     "height": 808
    },
    "executionInfo": {
     "elapsed": 576,
     "status": "ok",
     "timestamp": 1605578012245,
     "user": {
      "displayName": "Andrés Felipe Zapata Palacio",
      "photoUrl": "https://lh3.googleusercontent.com/a-/AOh14Gg27ktUZjg3Y67XH7nk7T5SVNYSn7FVSbaInnj5WQ=s64",
      "userId": "08596469446073364407"
     },
     "user_tz": 300
    },
    "id": "TkpV0dkb6CKI",
    "outputId": "d24cc6dc-bc89-4aa7-b91b-605a29d9c3fd"
   },
   "outputs": [
    {
     "data": {
      "text/html": [
       "<div>\n",
       "<style scoped>\n",
       "    .dataframe tbody tr th:only-of-type {\n",
       "        vertical-align: middle;\n",
       "    }\n",
       "\n",
       "    .dataframe tbody tr th {\n",
       "        vertical-align: top;\n",
       "    }\n",
       "\n",
       "    .dataframe thead th {\n",
       "        text-align: right;\n",
       "    }\n",
       "</style>\n",
       "<table border=\"1\" class=\"dataframe\">\n",
       "  <thead>\n",
       "    <tr style=\"text-align: right;\">\n",
       "      <th></th>\n",
       "      <th>TIPO_EVENTO</th>\n",
       "      <th>DEPARTAMENTO</th>\n",
       "      <th>CODIGO_DANE_DEPARTAMENTO</th>\n",
       "      <th>MUNICIPIO</th>\n",
       "      <th>CODIGO_DANE_MUNICIPIO</th>\n",
       "      <th>AÑO</th>\n",
       "      <th>MES</th>\n",
       "      <th>EVENTO</th>\n",
       "      <th>TIPO_LUGAR</th>\n",
       "      <th>TIPO_AREA</th>\n",
       "      <th>LATITUD_CABECERA</th>\n",
       "      <th>LONGITUD_CABECERA</th>\n",
       "      <th>SITIO</th>\n",
       "      <th>UBICACION</th>\n",
       "    </tr>\n",
       "  </thead>\n",
       "  <tbody>\n",
       "    <tr>\n",
       "      <th>0</th>\n",
       "      <td>Sospecha de campo minado</td>\n",
       "      <td>ANTIOQUIA</td>\n",
       "      <td>5</td>\n",
       "      <td>BRICEÑO</td>\n",
       "      <td>5107</td>\n",
       "      <td>2015</td>\n",
       "      <td>5</td>\n",
       "      <td>Sin información</td>\n",
       "      <td>En cerca a edificio residencial</td>\n",
       "      <td>Rural</td>\n",
       "      <td>7.099828</td>\n",
       "      <td>-75.658672</td>\n",
       "      <td>Camino a Chirí 2</td>\n",
       "      <td>POINT (-75.65867172 7.099828)</td>\n",
       "    </tr>\n",
       "    <tr>\n",
       "      <th>1</th>\n",
       "      <td>Accidente por MAP</td>\n",
       "      <td>ANTIOQUIA</td>\n",
       "      <td>5</td>\n",
       "      <td>YOLOMBÓ</td>\n",
       "      <td>5890</td>\n",
       "      <td>2002</td>\n",
       "      <td>1</td>\n",
       "      <td>Sin información</td>\n",
       "      <td>Sin informacion</td>\n",
       "      <td>Rural</td>\n",
       "      <td>6.730556</td>\n",
       "      <td>-75.062500</td>\n",
       "      <td>Vereda San Rafael</td>\n",
       "      <td>POINT (-75.0625 6.730556)</td>\n",
       "    </tr>\n",
       "    <tr>\n",
       "      <th>2</th>\n",
       "      <td>Accidente por MAP</td>\n",
       "      <td>CAQUETA</td>\n",
       "      <td>18</td>\n",
       "      <td>SAN VICENTE DEL CAGUÁN</td>\n",
       "      <td>18753</td>\n",
       "      <td>2008</td>\n",
       "      <td>10</td>\n",
       "      <td>Sin información</td>\n",
       "      <td>Sin informacion</td>\n",
       "      <td>Rural</td>\n",
       "      <td>2.169444</td>\n",
       "      <td>-74.783889</td>\n",
       "      <td>Platanillo</td>\n",
       "      <td>POINT (-74.78388889 2.169444444)</td>\n",
       "    </tr>\n",
       "    <tr>\n",
       "      <th>3</th>\n",
       "      <td>Accidente por MAP</td>\n",
       "      <td>CALDAS</td>\n",
       "      <td>17</td>\n",
       "      <td>RIOSUCIO</td>\n",
       "      <td>17614</td>\n",
       "      <td>2006</td>\n",
       "      <td>3</td>\n",
       "      <td>Sin información</td>\n",
       "      <td>Sin informacion</td>\n",
       "      <td>Rural</td>\n",
       "      <td>5.424265</td>\n",
       "      <td>-75.703599</td>\n",
       "      <td>Vereda La Sierra</td>\n",
       "      <td>POINT (-75.703599 5.424265)</td>\n",
       "    </tr>\n",
       "    <tr>\n",
       "      <th>4</th>\n",
       "      <td>Accidente por MAP</td>\n",
       "      <td>CESAR</td>\n",
       "      <td>20</td>\n",
       "      <td>SAN ALBERTO</td>\n",
       "      <td>20710</td>\n",
       "      <td>1996</td>\n",
       "      <td>4</td>\n",
       "      <td>Sin información</td>\n",
       "      <td>Sin informacion</td>\n",
       "      <td>Rural</td>\n",
       "      <td>7.763693</td>\n",
       "      <td>-73.396100</td>\n",
       "      <td>Sin información</td>\n",
       "      <td>POINT (-73.3961001 7.76369293)</td>\n",
       "    </tr>\n",
       "    <tr>\n",
       "      <th>...</th>\n",
       "      <td>...</td>\n",
       "      <td>...</td>\n",
       "      <td>...</td>\n",
       "      <td>...</td>\n",
       "      <td>...</td>\n",
       "      <td>...</td>\n",
       "      <td>...</td>\n",
       "      <td>...</td>\n",
       "      <td>...</td>\n",
       "      <td>...</td>\n",
       "      <td>...</td>\n",
       "      <td>...</td>\n",
       "      <td>...</td>\n",
       "      <td>...</td>\n",
       "    </tr>\n",
       "    <tr>\n",
       "      <th>36894</th>\n",
       "      <td>Desminado militar en operaciones</td>\n",
       "      <td>ANTIOQUIA</td>\n",
       "      <td>5</td>\n",
       "      <td>CÁCERES</td>\n",
       "      <td>5120</td>\n",
       "      <td>2020</td>\n",
       "      <td>2</td>\n",
       "      <td>Sin información</td>\n",
       "      <td>Sin informacion</td>\n",
       "      <td>Rural</td>\n",
       "      <td>7.559167</td>\n",
       "      <td>-75.213611</td>\n",
       "      <td>ALTO DEL TIGRE-BAJO</td>\n",
       "      <td>POINT (-75.213611 7.559167)</td>\n",
       "    </tr>\n",
       "    <tr>\n",
       "      <th>36895</th>\n",
       "      <td>Desminado militar en operaciones</td>\n",
       "      <td>NARIÑO</td>\n",
       "      <td>52</td>\n",
       "      <td>TUMACO</td>\n",
       "      <td>52835</td>\n",
       "      <td>2020</td>\n",
       "      <td>3</td>\n",
       "      <td>Sin información</td>\n",
       "      <td>Sin informacion</td>\n",
       "      <td>Rural</td>\n",
       "      <td>1.307500</td>\n",
       "      <td>-78.604167</td>\n",
       "      <td>LOS OLIVOS</td>\n",
       "      <td>POINT (-78.60416667 1.3075)</td>\n",
       "    </tr>\n",
       "    <tr>\n",
       "      <th>36896</th>\n",
       "      <td>Desminado militar en operaciones</td>\n",
       "      <td>CORDOBA</td>\n",
       "      <td>23</td>\n",
       "      <td>PUERTO LIBERTADOR</td>\n",
       "      <td>23580</td>\n",
       "      <td>2020</td>\n",
       "      <td>5</td>\n",
       "      <td>Sin información</td>\n",
       "      <td>Sin informacion</td>\n",
       "      <td>Rural</td>\n",
       "      <td>7.849167</td>\n",
       "      <td>-75.742778</td>\n",
       "      <td>VILLANUEVA</td>\n",
       "      <td>POINT (-75.742778 7.849167)</td>\n",
       "    </tr>\n",
       "    <tr>\n",
       "      <th>36897</th>\n",
       "      <td>Desminado militar en operaciones</td>\n",
       "      <td>ANTIOQUIA</td>\n",
       "      <td>5</td>\n",
       "      <td>FRONTINO</td>\n",
       "      <td>5284</td>\n",
       "      <td>2020</td>\n",
       "      <td>5</td>\n",
       "      <td>Sin información</td>\n",
       "      <td>Sin informacion</td>\n",
       "      <td>Rural</td>\n",
       "      <td>6.613611</td>\n",
       "      <td>-76.524444</td>\n",
       "      <td>PANTANOS - OCCIDENTE</td>\n",
       "      <td>POINT (-76.524444 6.613611)</td>\n",
       "    </tr>\n",
       "    <tr>\n",
       "      <th>36898</th>\n",
       "      <td>Desminado militar en operaciones</td>\n",
       "      <td>CAUCA</td>\n",
       "      <td>19</td>\n",
       "      <td>JAMBALÓ</td>\n",
       "      <td>19364</td>\n",
       "      <td>2020</td>\n",
       "      <td>6</td>\n",
       "      <td>Sin información</td>\n",
       "      <td>Sin informacion</td>\n",
       "      <td>Rural</td>\n",
       "      <td>2.902500</td>\n",
       "      <td>-76.344167</td>\n",
       "      <td>EL TRAPICHE</td>\n",
       "      <td>POINT (-76.344167 2.9025)</td>\n",
       "    </tr>\n",
       "  </tbody>\n",
       "</table>\n",
       "<p>36899 rows × 14 columns</p>\n",
       "</div>"
      ],
      "text/plain": [
       "                            TIPO_EVENTO DEPARTAMENTO  \\\n",
       "0              Sospecha de campo minado    ANTIOQUIA   \n",
       "1                     Accidente por MAP    ANTIOQUIA   \n",
       "2                     Accidente por MAP      CAQUETA   \n",
       "3                     Accidente por MAP       CALDAS   \n",
       "4                     Accidente por MAP        CESAR   \n",
       "...                                 ...          ...   \n",
       "36894  Desminado militar en operaciones    ANTIOQUIA   \n",
       "36895  Desminado militar en operaciones       NARIÑO   \n",
       "36896  Desminado militar en operaciones      CORDOBA   \n",
       "36897  Desminado militar en operaciones    ANTIOQUIA   \n",
       "36898  Desminado militar en operaciones        CAUCA   \n",
       "\n",
       "       CODIGO_DANE_DEPARTAMENTO               MUNICIPIO  \\\n",
       "0                             5                 BRICEÑO   \n",
       "1                             5                 YOLOMBÓ   \n",
       "2                            18  SAN VICENTE DEL CAGUÁN   \n",
       "3                            17                RIOSUCIO   \n",
       "4                            20             SAN ALBERTO   \n",
       "...                         ...                     ...   \n",
       "36894                         5                 CÁCERES   \n",
       "36895                        52                  TUMACO   \n",
       "36896                        23       PUERTO LIBERTADOR   \n",
       "36897                         5                FRONTINO   \n",
       "36898                        19                 JAMBALÓ   \n",
       "\n",
       "       CODIGO_DANE_MUNICIPIO   AÑO  MES           EVENTO  \\\n",
       "0                       5107  2015    5  Sin información   \n",
       "1                       5890  2002    1  Sin información   \n",
       "2                      18753  2008   10  Sin información   \n",
       "3                      17614  2006    3  Sin información   \n",
       "4                      20710  1996    4  Sin información   \n",
       "...                      ...   ...  ...              ...   \n",
       "36894                   5120  2020    2  Sin información   \n",
       "36895                  52835  2020    3  Sin información   \n",
       "36896                  23580  2020    5  Sin información   \n",
       "36897                   5284  2020    5  Sin información   \n",
       "36898                  19364  2020    6  Sin información   \n",
       "\n",
       "                            TIPO_LUGAR TIPO_AREA  LATITUD_CABECERA  \\\n",
       "0      En cerca a edificio residencial     Rural          7.099828   \n",
       "1                      Sin informacion     Rural          6.730556   \n",
       "2                      Sin informacion     Rural          2.169444   \n",
       "3                      Sin informacion     Rural          5.424265   \n",
       "4                      Sin informacion     Rural          7.763693   \n",
       "...                                ...       ...               ...   \n",
       "36894                  Sin informacion     Rural          7.559167   \n",
       "36895                  Sin informacion     Rural          1.307500   \n",
       "36896                  Sin informacion     Rural          7.849167   \n",
       "36897                  Sin informacion     Rural          6.613611   \n",
       "36898                  Sin informacion     Rural          2.902500   \n",
       "\n",
       "       LONGITUD_CABECERA                 SITIO  \\\n",
       "0             -75.658672      Camino a Chirí 2   \n",
       "1             -75.062500     Vereda San Rafael   \n",
       "2             -74.783889            Platanillo   \n",
       "3             -75.703599      Vereda La Sierra   \n",
       "4             -73.396100       Sin información   \n",
       "...                  ...                   ...   \n",
       "36894         -75.213611   ALTO DEL TIGRE-BAJO   \n",
       "36895         -78.604167            LOS OLIVOS   \n",
       "36896         -75.742778            VILLANUEVA   \n",
       "36897         -76.524444  PANTANOS - OCCIDENTE   \n",
       "36898         -76.344167           EL TRAPICHE   \n",
       "\n",
       "                              UBICACION  \n",
       "0         POINT (-75.65867172 7.099828)  \n",
       "1             POINT (-75.0625 6.730556)  \n",
       "2      POINT (-74.78388889 2.169444444)  \n",
       "3           POINT (-75.703599 5.424265)  \n",
       "4        POINT (-73.3961001 7.76369293)  \n",
       "...                                 ...  \n",
       "36894       POINT (-75.213611 7.559167)  \n",
       "36895       POINT (-78.60416667 1.3075)  \n",
       "36896       POINT (-75.742778 7.849167)  \n",
       "36897       POINT (-76.524444 6.613611)  \n",
       "36898         POINT (-76.344167 2.9025)  \n",
       "\n",
       "[36899 rows x 14 columns]"
      ]
     },
     "execution_count": 9,
     "metadata": {},
     "output_type": "execute_result"
    }
   ],
   "source": [
    "casos"
   ]
  },
  {
   "cell_type": "code",
   "execution_count": 10,
   "metadata": {
    "executionInfo": {
     "elapsed": 6235,
     "status": "ok",
     "timestamp": 1605571171300,
     "user": {
      "displayName": "Andrés Felipe Zapata Palacio",
      "photoUrl": "https://lh3.googleusercontent.com/a-/AOh14Gg27ktUZjg3Y67XH7nk7T5SVNYSn7FVSbaInnj5WQ=s64",
      "userId": "08596469446073364407"
     },
     "user_tz": 300
    },
    "id": "aajPnT7QCevb"
   },
   "outputs": [],
   "source": [
    "import matplotlib.pyplot as plt\n",
    "import numpy as np"
   ]
  },
  {
   "cell_type": "code",
   "execution_count": 11,
   "metadata": {
    "colab": {
     "base_uri": "https://localhost:8080/",
     "height": 282
    },
    "executionInfo": {
     "elapsed": 6642,
     "status": "ok",
     "timestamp": 1605571171713,
     "user": {
      "displayName": "Andrés Felipe Zapata Palacio",
      "photoUrl": "https://lh3.googleusercontent.com/a-/AOh14Gg27ktUZjg3Y67XH7nk7T5SVNYSn7FVSbaInnj5WQ=s64",
      "userId": "08596469446073364407"
     },
     "user_tz": 300
    },
    "id": "Mp9bD0KeCYsB",
    "outputId": "a575ad9e-d65d-45ec-e73a-d4d147f18c52"
   },
   "outputs": [
    {
     "data": {
      "text/plain": [
       "[<matplotlib.lines.Line2D at 0x7f18b0c5abe0>]"
      ]
     },
     "execution_count": 11,
     "metadata": {},
     "output_type": "execute_result"
    },
    {
     "data": {
      "image/png": "[encoded data removed]",
      "text/plain": [
       "<Figure size 432x288 with 1 Axes>"
      ]
     },
     "metadata": {
      "needs_background": "light"
     },
     "output_type": "display_data"
    }
   ],
   "source": [
    "d1 = casos.groupby(\"AÑO\").size()\n",
    "d2 = victimas[victimas[\"condicion\"] == \"Fuerza pública\"].groupby(\"AÑO\").size()\n",
    "d3 = educacion.groupby(\"AÑO\").size()\n",
    "d4 = desminado.groupby(\"ano\").size()\n",
    "plt.scatter(d1.index,d1.values)\n",
    "plt.scatter(d2.index,d2.values,c=\"red\")\n",
    "plt.scatter(d3.index, d3.values, c=\"green\")\n",
    "plt.scatter(d4.index,d4.values, c=\"purple\")\n",
    "plt.plot(d1)\n",
    "plt.plot(d2,color=\"red\")\n",
    "plt.plot(d3,color=\"green\")\n",
    "plt.plot(d4,color=\"purple\")"
   ]
  },
  {
   "cell_type": "code",
   "execution_count": 12,
   "metadata": {
    "colab": {
     "base_uri": "https://localhost:8080/"
    },
    "executionInfo": {
     "elapsed": 6638,
     "status": "ok",
     "timestamp": 1605571171715,
     "user": {
      "displayName": "Andrés Felipe Zapata Palacio",
      "photoUrl": "https://lh3.googleusercontent.com/a-/AOh14Gg27ktUZjg3Y67XH7nk7T5SVNYSn7FVSbaInnj5WQ=s64",
      "userId": "08596469446073364407"
     },
     "user_tz": 300
    },
    "id": "FNRJdpk9CgJG",
    "outputId": "61225a9c-f466-4ed3-ff0a-d107d3dfb1c7"
   },
   "outputs": [
    {
     "data": {
      "text/plain": [
       "Index(['ID_ERM', 'DEPARTAMENTO', 'CODIGO_DANE_DEPARTAMENTO', 'MUNICIPIO',\n",
       "       'CODIGO_DANE_MUNICIPIO', 'ORGANIZACIÓN', 'MOTIVO_ACTIVIDAD',\n",
       "       'FECHA_INICIO', 'AÑO', 'FECHA_FINALIZACION', 'SITIO', 'TIPO',\n",
       "       'INDIGENASHOMBRESEDAD0A5', 'INDIGENASHOMBRESEDAD6A11',\n",
       "       'INDIGENASHOMBRESEDAD12A17', 'INDIGENASHOMBRESEDAD18A23',\n",
       "       'INDIGENASHOMBRESEDAD24OMAS', 'INDIGENASHOMBRESEDADTOTALH',\n",
       "       'INDIGENASMUJERESEDAD0A5', 'INDIGENASMUJERESEDAD6A11',\n",
       "       'INDIGENASMUJERESEDAD12A17', 'INDIGENASMUJERESEDAD18A23',\n",
       "       'INDIGENASMUJERESEDAD24OMAS', 'INDIGENASMUJERESEDADTOTALM',\n",
       "       'AFROSHOMBRESEDAD0A5', 'AFROSHOMBRESEDAD6A11', 'AFROSHOMBRESEDAD12A17',\n",
       "       'AFROSHOMBRESEDAD18A23', 'AFROSHOMBRESEDAD24OMAS',\n",
       "       'AFROSHOMBRESEDADTOTALH', 'AFROSMUJERESEDAD0A5', 'AFROSMUJERESEDAD6A11',\n",
       "       'AFROSMUJERESEDAD12A17', 'AFROSMUJERESEDAD18A23',\n",
       "       'AFROSMUJERESEDAD24OMAS', 'AFROSMUJERESEDADTOTALM',\n",
       "       'MESTIZOSHOMBRESEDAD0A5', 'MESTIZOSHOMBRESEDAD6A11',\n",
       "       'MESTIZOSHOMBRESEDAD12A17', 'MESTIZOSHOMBRESEDAD18A23',\n",
       "       'MESTIZOSHOMBRESEDAD24OMAS', 'MESTIZOSHOMBRESEDADTOTALH',\n",
       "       'MESTIZOSMUJERESEDAD0A5', 'MESTIZOSMUJERESEDAD6A11',\n",
       "       'MESTIZOSMUJERESEDAD12A17', 'MESTIZOSMUJERESEDAD18A23',\n",
       "       'MESTIZOSMUJERESEDAD24OMAS', 'MESTIZOSMUJERESEDADTOTALM',\n",
       "       'PERSONAS_SINESPECIFICAR', 'TOTAL_PERSONAS', 'TotalHombres',\n",
       "       'TotalMujeres', 'TotalMenores', 'TotalMayores', 'DURACION'],\n",
       "      dtype='object')"
      ]
     },
     "execution_count": 12,
     "metadata": {},
     "output_type": "execute_result"
    }
   ],
   "source": [
    "educacion.keys()"
   ]
  },
  {
   "cell_type": "code",
   "execution_count": 13,
   "metadata": {
    "colab": {
     "base_uri": "https://localhost:8080/"
    },
    "executionInfo": {
     "elapsed": 704,
     "status": "ok",
     "timestamp": 1605577366540,
     "user": {
      "displayName": "Andrés Felipe Zapata Palacio",
      "photoUrl": "https://lh3.googleusercontent.com/a-/AOh14Gg27ktUZjg3Y67XH7nk7T5SVNYSn7FVSbaInnj5WQ=s64",
      "userId": "08596469446073364407"
     },
     "user_tz": 300
    },
    "id": "s1nAmExX3T7r",
    "outputId": "6385c1a7-47d5-4cfc-ea26-26c9d680cd71"
   },
   "outputs": [
    {
     "name": "stdout",
     "output_type": "stream",
     "text": [
      "ID_ERM -> ERM_ACT_686\n",
      "DEPARTAMENTO -> META\n",
      "CODIGO_DANE_DEPARTAMENTO -> 50\n",
      "MUNICIPIO -> VISTAHERMOSA\n",
      "CODIGO_DANE_MUNICIPIO -> 50711\n",
      "ORGANIZACIÓN -> THE HALO TRUST\n",
      "MOTIVO_ACTIVIDAD -> Enlace comunitario\n",
      "FECHA_INICIO -> 2017-05-07 00:00:00\n",
      "AÑO -> 2017\n",
      "FECHA_FINALIZACION -> 2017-05-07 00:00:00\n",
      "SITIO -> Sin especificar\n",
      "TIPO -> ERM en Desminado Humanitario\n",
      "INDIGENASHOMBRESEDAD0A5 -> 0\n",
      "INDIGENASHOMBRESEDAD6A11 -> 0\n",
      "INDIGENASHOMBRESEDAD12A17 -> 0\n",
      "INDIGENASHOMBRESEDAD18A23 -> 0\n",
      "INDIGENASHOMBRESEDAD24OMAS -> 0\n",
      "INDIGENASHOMBRESEDADTOTALH -> 0\n",
      "INDIGENASMUJERESEDAD0A5 -> 0\n",
      "INDIGENASMUJERESEDAD6A11 -> 0\n",
      "INDIGENASMUJERESEDAD12A17 -> 0\n",
      "INDIGENASMUJERESEDAD18A23 -> 0\n",
      "INDIGENASMUJERESEDAD24OMAS -> 0\n",
      "INDIGENASMUJERESEDADTOTALM -> 0\n",
      "AFROSHOMBRESEDAD0A5 -> 0\n",
      "AFROSHOMBRESEDAD6A11 -> 0\n",
      "AFROSHOMBRESEDAD12A17 -> 0\n",
      "AFROSHOMBRESEDAD18A23 -> 0\n",
      "AFROSHOMBRESEDAD24OMAS -> 0\n",
      "AFROSHOMBRESEDADTOTALH -> 0\n",
      "AFROSMUJERESEDAD0A5 -> 0\n",
      "AFROSMUJERESEDAD6A11 -> 0\n",
      "AFROSMUJERESEDAD12A17 -> 0\n",
      "AFROSMUJERESEDAD18A23 -> 0\n",
      "AFROSMUJERESEDAD24OMAS -> 0\n",
      "AFROSMUJERESEDADTOTALM -> 0\n",
      "MESTIZOSHOMBRESEDAD0A5 -> 0\n",
      "MESTIZOSHOMBRESEDAD6A11 -> 0\n",
      "MESTIZOSHOMBRESEDAD12A17 -> 0\n",
      "MESTIZOSHOMBRESEDAD18A23 -> 0\n",
      "MESTIZOSHOMBRESEDAD24OMAS -> 12\n",
      "MESTIZOSHOMBRESEDADTOTALH -> 12\n",
      "MESTIZOSMUJERESEDAD0A5 -> 0\n",
      "MESTIZOSMUJERESEDAD6A11 -> 0\n",
      "MESTIZOSMUJERESEDAD12A17 -> 0\n",
      "MESTIZOSMUJERESEDAD18A23 -> 3\n",
      "MESTIZOSMUJERESEDAD24OMAS -> 4\n",
      "MESTIZOSMUJERESEDADTOTALM -> 7\n",
      "PERSONAS_SINESPECIFICAR -> 0\n",
      "TOTAL_PERSONAS -> 19\n",
      "TotalHombres -> 12\n",
      "TotalMujeres -> 7\n",
      "TotalMenores -> 0\n",
      "TotalMayores -> 19\n",
      "DURACION -> 1\n"
     ]
    }
   ],
   "source": [
    "for key in educacion.keys():\n",
    "  print(key,\"->\",educacion.loc[1000][key])"
   ]
  },
  {
   "cell_type": "code",
   "execution_count": 14,
   "metadata": {
    "colab": {
     "base_uri": "https://localhost:8080/"
    },
    "executionInfo": {
     "elapsed": 6632,
     "status": "ok",
     "timestamp": 1605571171716,
     "user": {
      "displayName": "Andrés Felipe Zapata Palacio",
      "photoUrl": "https://lh3.googleusercontent.com/a-/AOh14Gg27ktUZjg3Y67XH7nk7T5SVNYSn7FVSbaInnj5WQ=s64",
      "userId": "08596469446073364407"
     },
     "user_tz": 300
    },
    "id": "3IHk7d9OkARX",
    "outputId": "2a9739ed-57cb-457f-ec4f-7c3771b559c1"
   },
   "outputs": [
    {
     "data": {
      "text/plain": [
       "[-5, -4, -3, -2, -1, 0, 1, 2, 3, 4]"
      ]
     },
     "execution_count": 14,
     "metadata": {},
     "output_type": "execute_result"
    }
   ],
   "source": [
    "[x for x in range(-5,5,1)]"
   ]
  },
  {
   "cell_type": "code",
   "execution_count": 15,
   "metadata": {},
   "outputs": [],
   "source": [
    "import swifter"
   ]
  },
  {
   "cell_type": "code",
   "execution_count": 16,
   "metadata": {
    "executionInfo": {
     "elapsed": 6634,
     "status": "ok",
     "timestamp": 1605571171723,
     "user": {
      "displayName": "Andrés Felipe Zapata Palacio",
      "photoUrl": "https://lh3.googleusercontent.com/a-/AOh14Gg27ktUZjg3Y67XH7nk7T5SVNYSn7FVSbaInnj5WQ=s64",
      "userId": "08596469446073364407"
     },
     "user_tz": 300
    },
    "id": "5XH88UZh8r0a"
   },
   "outputs": [],
   "source": [
    "def agregarCasosVictimas(df,nMonthsBefore):\n",
    "  #getPreviousDate(currentDate, nMonthsBefore)\n",
    "  colName = \"CASOS_MES_\" + str(nMonthsBefore)\n",
    "  df[colName] = educacion.swifter.apply(lambda x: len(filterData(casos,x[\"CODIGO_DANE_MUNICIPIO\"],getPreviousDate((x[\"FECHA_INICIO\"].month,x[\"FECHA_INICIO\"].year),nMonthsBefore))), axis=1)\n",
    "  colName = \"VICTIMAS_MES_\" + str(nMonthsBefore)\n",
    "  df[colName] = educacion.swifter.apply(lambda x: len(filterData(victimas,x[\"CODIGO_DANE_MUNICIPIO\"],getPreviousDate((x[\"FECHA_INICIO\"].month,x[\"FECHA_INICIO\"].year),nMonthsBefore))), axis=1)\n",
    "  return df"
   ]
  },
  {
   "cell_type": "code",
   "execution_count": 17,
   "metadata": {
    "colab": {
     "base_uri": "https://localhost:8080/"
    },
    "executionInfo": {
     "elapsed": 279898,
     "status": "ok",
     "timestamp": 1605571444992,
     "user": {
      "displayName": "Andrés Felipe Zapata Palacio",
      "photoUrl": "https://lh3.googleusercontent.com/a-/AOh14Gg27ktUZjg3Y67XH7nk7T5SVNYSn7FVSbaInnj5WQ=s64",
      "userId": "08596469446073364407"
     },
     "user_tz": 300
    },
    "id": "jsRQUdYB9gBw",
    "outputId": "17ae8069-8959-43c4-9253-1c951853740f",
    "scrolled": true
   },
   "outputs": [
    {
     "name": "stdout",
     "output_type": "stream",
     "text": [
      "4 / -4\n"
     ]
    },
    {
     "data": {
      "application/vnd.jupyter.widget-view+json": {
       "model_id": "868125be6bf04be19774aa827c4b3755",
       "version_major": 2,
       "version_minor": 0
      },
      "text/plain": [
       "HBox(children=(HTML(value='Pandas Apply'), FloatProgress(value=0.0, max=15064.0), HTML(value='')))"
      ]
     },
     "metadata": {},
     "output_type": "display_data"
    },
    {
     "name": "stdout",
     "output_type": "stream",
     "text": [
      "\n"
     ]
    },
    {
     "data": {
      "application/vnd.jupyter.widget-view+json": {
       "model_id": "dbb472d5d57647bda5a9d85de5b2e5d8",
       "version_major": 2,
       "version_minor": 0
      },
      "text/plain": [
       "HBox(children=(HTML(value='Pandas Apply'), FloatProgress(value=0.0, max=15064.0), HTML(value='')))"
      ]
     },
     "metadata": {},
     "output_type": "display_data"
    },
    {
     "name": "stdout",
     "output_type": "stream",
     "text": [
      "\n",
      "3 / -4\n"
     ]
    },
    {
     "data": {
      "application/vnd.jupyter.widget-view+json": {
       "model_id": "bf8adc297f5b47d182decacc1cc9280a",
       "version_major": 2,
       "version_minor": 0
      },
      "text/plain": [
       "HBox(children=(HTML(value='Pandas Apply'), FloatProgress(value=0.0, max=15064.0), HTML(value='')))"
      ]
     },
     "metadata": {},
     "output_type": "display_data"
    },
    {
     "name": "stdout",
     "output_type": "stream",
     "text": [
      "\n"
     ]
    },
    {
     "data": {
      "application/vnd.jupyter.widget-view+json": {
       "model_id": "ea167eb93094404381b3e1709ba3de8e",
       "version_major": 2,
       "version_minor": 0
      },
      "text/plain": [
       "HBox(children=(HTML(value='Pandas Apply'), FloatProgress(value=0.0, max=15064.0), HTML(value='')))"
      ]
     },
     "metadata": {},
     "output_type": "display_data"
    },
    {
     "name": "stdout",
     "output_type": "stream",
     "text": [
      "\n",
      "2 / -4\n"
     ]
    },
    {
     "data": {
      "application/vnd.jupyter.widget-view+json": {
       "model_id": "c55c43310eb445cb80505554fa156f3d",
       "version_major": 2,
       "version_minor": 0
      },
      "text/plain": [
       "HBox(children=(HTML(value='Pandas Apply'), FloatProgress(value=0.0, max=15064.0), HTML(value='')))"
      ]
     },
     "metadata": {},
     "output_type": "display_data"
    },
    {
     "name": "stdout",
     "output_type": "stream",
     "text": [
      "\n"
     ]
    },
    {
     "data": {
      "application/vnd.jupyter.widget-view+json": {
       "model_id": "15488014b6614591bc10d3cc23315bf1",
       "version_major": 2,
       "version_minor": 0
      },
      "text/plain": [
       "HBox(children=(HTML(value='Pandas Apply'), FloatProgress(value=0.0, max=15064.0), HTML(value='')))"
      ]
     },
     "metadata": {},
     "output_type": "display_data"
    },
    {
     "name": "stdout",
     "output_type": "stream",
     "text": [
      "\n",
      "1 / -4\n"
     ]
    },
    {
     "data": {
      "application/vnd.jupyter.widget-view+json": {
       "model_id": "0f00216ef79e439486dfe61f8677f93d",
       "version_major": 2,
       "version_minor": 0
      },
      "text/plain": [
       "HBox(children=(HTML(value='Pandas Apply'), FloatProgress(value=0.0, max=15064.0), HTML(value='')))"
      ]
     },
     "metadata": {},
     "output_type": "display_data"
    },
    {
     "name": "stdout",
     "output_type": "stream",
     "text": [
      "\n"
     ]
    },
    {
     "data": {
      "application/vnd.jupyter.widget-view+json": {
       "model_id": "2914d6168d4c4a22b30f9259ca453cc1",
       "version_major": 2,
       "version_minor": 0
      },
      "text/plain": [
       "HBox(children=(HTML(value='Pandas Apply'), FloatProgress(value=0.0, max=15064.0), HTML(value='')))"
      ]
     },
     "metadata": {},
     "output_type": "display_data"
    },
    {
     "name": "stdout",
     "output_type": "stream",
     "text": [
      "\n",
      "0 / -4\n"
     ]
    },
    {
     "data": {
      "application/vnd.jupyter.widget-view+json": {
       "model_id": "2d967801d7fe49dd810809edf7b020d1",
       "version_major": 2,
       "version_minor": 0
      },
      "text/plain": [
       "HBox(children=(HTML(value='Pandas Apply'), FloatProgress(value=0.0, max=15064.0), HTML(value='')))"
      ]
     },
     "metadata": {},
     "output_type": "display_data"
    },
    {
     "name": "stdout",
     "output_type": "stream",
     "text": [
      "\n"
     ]
    },
    {
     "data": {
      "application/vnd.jupyter.widget-view+json": {
       "model_id": "07576e813afe4ba99a69513f8af66f96",
       "version_major": 2,
       "version_minor": 0
      },
      "text/plain": [
       "HBox(children=(HTML(value='Pandas Apply'), FloatProgress(value=0.0, max=15064.0), HTML(value='')))"
      ]
     },
     "metadata": {},
     "output_type": "display_data"
    },
    {
     "name": "stdout",
     "output_type": "stream",
     "text": [
      "\n",
      "-1 / -4\n"
     ]
    },
    {
     "data": {
      "application/vnd.jupyter.widget-view+json": {
       "model_id": "4c877cb2d4534bd9a55dbb9596533c7b",
       "version_major": 2,
       "version_minor": 0
      },
      "text/plain": [
       "HBox(children=(HTML(value='Pandas Apply'), FloatProgress(value=0.0, max=15064.0), HTML(value='')))"
      ]
     },
     "metadata": {},
     "output_type": "display_data"
    },
    {
     "name": "stdout",
     "output_type": "stream",
     "text": [
      "\n"
     ]
    },
    {
     "data": {
      "application/vnd.jupyter.widget-view+json": {
       "model_id": "2a60ffa8d5eb4193a32a1daab62e9593",
       "version_major": 2,
       "version_minor": 0
      },
      "text/plain": [
       "HBox(children=(HTML(value='Pandas Apply'), FloatProgress(value=0.0, max=15064.0), HTML(value='')))"
      ]
     },
     "metadata": {},
     "output_type": "display_data"
    },
    {
     "name": "stdout",
     "output_type": "stream",
     "text": [
      "\n",
      "-2 / -4\n"
     ]
    },
    {
     "data": {
      "application/vnd.jupyter.widget-view+json": {
       "model_id": "d0011eadd603481ba03b0b2c6b8ed823",
       "version_major": 2,
       "version_minor": 0
      },
      "text/plain": [
       "HBox(children=(HTML(value='Pandas Apply'), FloatProgress(value=0.0, max=15064.0), HTML(value='')))"
      ]
     },
     "metadata": {},
     "output_type": "display_data"
    },
    {
     "name": "stdout",
     "output_type": "stream",
     "text": [
      "\n"
     ]
    },
    {
     "data": {
      "application/vnd.jupyter.widget-view+json": {
       "model_id": "4e43e9f1bca84f259813c74a7e21bd88",
       "version_major": 2,
       "version_minor": 0
      },
      "text/plain": [
       "HBox(children=(HTML(value='Pandas Apply'), FloatProgress(value=0.0, max=15064.0), HTML(value='')))"
      ]
     },
     "metadata": {},
     "output_type": "display_data"
    },
    {
     "name": "stdout",
     "output_type": "stream",
     "text": [
      "\n",
      "-3 / -4\n"
     ]
    },
    {
     "data": {
      "application/vnd.jupyter.widget-view+json": {
       "model_id": "4a668a451800471b943bc71c0143220b",
       "version_major": 2,
       "version_minor": 0
      },
      "text/plain": [
       "HBox(children=(HTML(value='Pandas Apply'), FloatProgress(value=0.0, max=15064.0), HTML(value='')))"
      ]
     },
     "metadata": {},
     "output_type": "display_data"
    },
    {
     "name": "stdout",
     "output_type": "stream",
     "text": [
      "\n"
     ]
    },
    {
     "data": {
      "application/vnd.jupyter.widget-view+json": {
       "model_id": "446b67582fee4a5abdedfb39b6b694da",
       "version_major": 2,
       "version_minor": 0
      },
      "text/plain": [
       "HBox(children=(HTML(value='Pandas Apply'), FloatProgress(value=0.0, max=15064.0), HTML(value='')))"
      ]
     },
     "metadata": {},
     "output_type": "display_data"
    },
    {
     "name": "stdout",
     "output_type": "stream",
     "text": [
      "\n",
      "-4 / -4\n"
     ]
    },
    {
     "data": {
      "application/vnd.jupyter.widget-view+json": {
       "model_id": "086426212bd74085abb0079f41f2bce6",
       "version_major": 2,
       "version_minor": 0
      },
      "text/plain": [
       "HBox(children=(HTML(value='Pandas Apply'), FloatProgress(value=0.0, max=15064.0), HTML(value='')))"
      ]
     },
     "metadata": {},
     "output_type": "display_data"
    },
    {
     "name": "stdout",
     "output_type": "stream",
     "text": [
      "\n"
     ]
    },
    {
     "data": {
      "application/vnd.jupyter.widget-view+json": {
       "model_id": "b493b630a95046fa9993bd8340236e4e",
       "version_major": 2,
       "version_minor": 0
      },
      "text/plain": [
       "HBox(children=(HTML(value='Pandas Apply'), FloatProgress(value=0.0, max=15064.0), HTML(value='')))"
      ]
     },
     "metadata": {},
     "output_type": "display_data"
    },
    {
     "name": "stdout",
     "output_type": "stream",
     "text": [
      "\n"
     ]
    }
   ],
   "source": [
    "edu = educacion\n",
    "for i in range(4,-5,-1):\n",
    "  print(i,\"/\",-4)\n",
    "  edu = agregarCasosVictimas(edu,i)"
   ]
  },
  {
   "cell_type": "code",
   "execution_count": 21,
   "metadata": {
    "colab": {
     "base_uri": "https://localhost:8080/",
     "height": 756
    },
    "executionInfo": {
     "elapsed": 279897,
     "status": "ok",
     "timestamp": 1605571445002,
     "user": {
      "displayName": "Andrés Felipe Zapata Palacio",
      "photoUrl": "https://lh3.googleusercontent.com/a-/AOh14Gg27ktUZjg3Y67XH7nk7T5SVNYSn7FVSbaInnj5WQ=s64",
      "userId": "08596469446073364407"
     },
     "user_tz": 300
    },
    "id": "IxVwYeoQBvB3",
    "outputId": "c7c7d74f-b3e9-4ea3-bf63-2647787392e1"
   },
   "outputs": [],
   "source": [
    "def agregarTasaCrecimiento(df,n1,n2):\n",
    "    n1, n2 = str(n1), str(n2)\n",
    "    colName = \"INCR_CASOS_\" + n1 + \"_\" + n2\n",
    "    col1 = \"CASOS_MES_\" + n1\n",
    "    col2 = \"CASOS_MES_\" + n2\n",
    "    df[colName] = df.swifter.apply(\n",
    "        lambda x: (x[col2]-x[col1]), axis=1)\n",
    "    \n",
    "    n1, n2 = str(n1), str(n2)\n",
    "    colName = \"INCR_VICTIMAS_\" + n1 + \"_\" + n2\n",
    "    col1 = \"VICTIMAS_MES_\" + n1\n",
    "    col2 = \"VICTIMAS_MES_\" + n2\n",
    "    df[colName] = df.swifter.apply(\n",
    "        lambda x: (x[col2]-x[col1]), axis=1)\n",
    "    return df"
   ]
  },
  {
   "cell_type": "code",
   "execution_count": 31,
   "metadata": {},
   "outputs": [],
   "source": [
    "for month in range(-4,4):\n",
    "    nextMonth = month+1\n",
    "    edu = agregarTasaCrecimiento(edu,month,nextMonth)"
   ]
  },
  {
   "cell_type": "markdown",
   "metadata": {
    "id": "IZeWc3QB9A3M"
   },
   "source": [
    "## Análisis de Correlaciones"
   ]
  },
  {
   "cell_type": "code",
   "execution_count": 32,
   "metadata": {
    "executionInfo": {
     "elapsed": 279886,
     "status": "ok",
     "timestamp": 1605571445005,
     "user": {
      "displayName": "Andrés Felipe Zapata Palacio",
      "photoUrl": "https://lh3.googleusercontent.com/a-/AOh14Gg27ktUZjg3Y67XH7nk7T5SVNYSn7FVSbaInnj5WQ=s64",
      "userId": "08596469446073364407"
     },
     "user_tz": 300
    },
    "id": "kXa5DfGA-3uy"
   },
   "outputs": [],
   "source": [
    "import pandas as _pd\n",
    "import numpy as _np\n",
    "\n",
    "from matplotlib import pyplot as plt\n",
    "from matplotlib.collections import EllipseCollection\n",
    "def plot_corr_ellipses(data, ax=None, **kwargs):\n",
    "\n",
    "    M = _np.array(data)\n",
    "    if not M.ndim == 2:\n",
    "        raise ValueError('data must be a 2D array')\n",
    "    if ax is None:\n",
    "        fig, ax = plt.subplots(1, 1, subplot_kw={'aspect':'equal'})\n",
    "        ax.set_xlim(-0.5, M.shape[1] - 0.5)\n",
    "        ax.set_ylim(-0.5, M.shape[0] - 0.5)\n",
    "\n",
    "    # xy locations of each ellipse center\n",
    "    xy = _np.indices(M.shape)[::-1].reshape(2, -1).T\n",
    "\n",
    "    # set the relative sizes of the major/minor axes according to the strength of\n",
    "    # the positive/negative correlation\n",
    "    w = _np.ones_like(M).ravel()\n",
    "    h = 1 - _np.abs(M).ravel()\n",
    "    a = 45 * _np.sign(M).ravel()\n",
    "\n",
    "    ec = EllipseCollection(widths=w, heights=h, angles=a, units='x', offsets=xy,\n",
    "                           transOffset=ax.transData, array=M.ravel(), **kwargs)\n",
    "    ax.add_collection(ec)\n",
    "\n",
    "    # if data is a DataFrame, use the row/column names as tick labels\n",
    "    if isinstance(data, _pd.DataFrame):\n",
    "        ax.set_xticks(_np.arange(M.shape[1]))\n",
    "        ax.set_xticklabels(data.columns, rotation=90)\n",
    "        ax.set_yticks(_np.arange(M.shape[0]))\n",
    "        ax.set_yticklabels(data.index)\n",
    "\n",
    "    return ec\n",
    "\n",
    "\n",
    "def corr_partial(df):\n",
    "    S = df.cov()\n",
    "    S_1 = _np.linalg.inv(S)\n",
    "    diag_matrix_s_1_sqrt = _np.diag(1/_np.sqrt(_np.diag(S_1)))\n",
    "    ones_mask=-_np.ones((len(S),len(S)))\n",
    "    _np.fill_diagonal(ones_mask,_np.ones(len(S)))\n",
    "    almost_P = diag_matrix_s_1_sqrt@S_1@diag_matrix_s_1_sqrt\n",
    "    return _pd.DataFrame(_np.multiply(ones_mask,almost_P), columns = df.columns, index = df.columns)\n",
    "\n",
    "def R_2(df):\n",
    "  if isinstance(df, _pd.DataFrame):\n",
    "    df = df.to_numpy()\n",
    "  S = _np.cov(df, rowvar=False)\n",
    "  S_inv = _np.linalg.inv(S)\n",
    "  return 1 - (1/(_np.diag(S)*_np.diag(S_inv)))"
   ]
  },
  {
   "cell_type": "code",
   "execution_count": 33,
   "metadata": {
    "colab": {
     "base_uri": "https://localhost:8080/"
    },
    "executionInfo": {
     "elapsed": 568,
     "status": "ok",
     "timestamp": 1605577606131,
     "user": {
      "displayName": "Andrés Felipe Zapata Palacio",
      "photoUrl": "https://lh3.googleusercontent.com/a-/AOh14Gg27ktUZjg3Y67XH7nk7T5SVNYSn7FVSbaInnj5WQ=s64",
      "userId": "08596469446073364407"
     },
     "user_tz": 300
    },
    "id": "ykhDyeYL4ear",
    "outputId": "a1d7b014-2f31-40c6-e1ff-314151a55ed1"
   },
   "outputs": [
    {
     "data": {
      "text/plain": [
       "Index(['ID_ERM', 'DEPARTAMENTO', 'CODIGO_DANE_DEPARTAMENTO', 'MUNICIPIO',\n",
       "       'CODIGO_DANE_MUNICIPIO', 'ORGANIZACIÓN', 'MOTIVO_ACTIVIDAD',\n",
       "       'FECHA_INICIO', 'AÑO', 'FECHA_FINALIZACION', 'SITIO', 'TIPO',\n",
       "       'INDIGENASHOMBRESEDAD0A5', 'INDIGENASHOMBRESEDAD6A11',\n",
       "       'INDIGENASHOMBRESEDAD12A17', 'INDIGENASHOMBRESEDAD18A23',\n",
       "       'INDIGENASHOMBRESEDAD24OMAS', 'INDIGENASHOMBRESEDADTOTALH',\n",
       "       'INDIGENASMUJERESEDAD0A5', 'INDIGENASMUJERESEDAD6A11',\n",
       "       'INDIGENASMUJERESEDAD12A17', 'INDIGENASMUJERESEDAD18A23',\n",
       "       'INDIGENASMUJERESEDAD24OMAS', 'INDIGENASMUJERESEDADTOTALM',\n",
       "       'AFROSHOMBRESEDAD0A5', 'AFROSHOMBRESEDAD6A11', 'AFROSHOMBRESEDAD12A17',\n",
       "       'AFROSHOMBRESEDAD18A23', 'AFROSHOMBRESEDAD24OMAS',\n",
       "       'AFROSHOMBRESEDADTOTALH', 'AFROSMUJERESEDAD0A5', 'AFROSMUJERESEDAD6A11',\n",
       "       'AFROSMUJERESEDAD12A17', 'AFROSMUJERESEDAD18A23',\n",
       "       'AFROSMUJERESEDAD24OMAS', 'AFROSMUJERESEDADTOTALM',\n",
       "       'MESTIZOSHOMBRESEDAD0A5', 'MESTIZOSHOMBRESEDAD6A11',\n",
       "       'MESTIZOSHOMBRESEDAD12A17', 'MESTIZOSHOMBRESEDAD18A23',\n",
       "       'MESTIZOSHOMBRESEDAD24OMAS', 'MESTIZOSHOMBRESEDADTOTALH',\n",
       "       'MESTIZOSMUJERESEDAD0A5', 'MESTIZOSMUJERESEDAD6A11',\n",
       "       'MESTIZOSMUJERESEDAD12A17', 'MESTIZOSMUJERESEDAD18A23',\n",
       "       'MESTIZOSMUJERESEDAD24OMAS', 'MESTIZOSMUJERESEDADTOTALM',\n",
       "       'PERSONAS_SINESPECIFICAR', 'TOTAL_PERSONAS', 'TotalHombres',\n",
       "       'TotalMujeres', 'TotalMenores', 'TotalMayores', 'DURACION',\n",
       "       'CASOS_MES_4', 'VICTIMAS_MES_4', 'CASOS_MES_3', 'VICTIMAS_MES_3',\n",
       "       'CASOS_MES_2', 'VICTIMAS_MES_2', 'CASOS_MES_1', 'VICTIMAS_MES_1',\n",
       "       'CASOS_MES_0', 'VICTIMAS_MES_0', 'CASOS_MES_-1', 'VICTIMAS_MES_-1',\n",
       "       'CASOS_MES_-2', 'VICTIMAS_MES_-2', 'CASOS_MES_-3', 'VICTIMAS_MES_-3',\n",
       "       'CASOS_MES_-4', 'VICTIMAS_MES_-4', 'INCR_CASOS_-4_-3',\n",
       "       'INCR_VICTIMAS_-4_-3', 'INCR_CASOS_-3_-2', 'INCR_VICTIMAS_-3_-2',\n",
       "       'INCR_CASOS_-2_-1', 'INCR_VICTIMAS_-2_-1', 'INCR_CASOS_-1_0',\n",
       "       'INCR_VICTIMAS_-1_0', 'INCR_CASOS_0_1', 'INCR_VICTIMAS_0_1',\n",
       "       'INCR_CASOS_1_2', 'INCR_VICTIMAS_1_2', 'INCR_CASOS_2_3',\n",
       "       'INCR_VICTIMAS_2_3', 'INCR_CASOS_3_4', 'INCR_VICTIMAS_3_4'],\n",
       "      dtype='object')"
      ]
     },
     "execution_count": 33,
     "metadata": {},
     "output_type": "execute_result"
    }
   ],
   "source": [
    "educacion.keys()"
   ]
  },
  {
   "cell_type": "code",
   "execution_count": 45,
   "metadata": {
    "executionInfo": {
     "elapsed": 527,
     "status": "ok",
     "timestamp": 1605578501400,
     "user": {
      "displayName": "Andrés Felipe Zapata Palacio",
      "photoUrl": "https://lh3.googleusercontent.com/a-/AOh14Gg27ktUZjg3Y67XH7nk7T5SVNYSn7FVSbaInnj5WQ=s64",
      "userId": "08596469446073364407"
     },
     "user_tz": 300
    },
    "id": "L2k_mXTPk3g6"
   },
   "outputs": [],
   "source": [
    "cols = [#'TotalHombres','TotalMujeres',\n",
    "      #  'CASOS_MES_-2','CASOS_MES_-1','CASOS_MES_0','CASOS_MES_1','CASOS_MES_2',\n",
    "    'INCR_CASOS_-4_-3','INCR_CASOS_-3_-2','INCR_CASOS_-2_-1','INCR_CASOS_-1_0',\n",
    "    'INCR_CASOS_0_1','INCR_CASOS_1_2','INCR_CASOS_2_3','INCR_CASOS_3_4'\n",
    "      #  'VICTIMAS_MES_-2','VICTIMAS_MES_-1','VICTIMAS_MES_0','VICTIMAS_MES_1','VICTIMAS_MES_2',\n",
    "      ]\n",
    "df = edu[cols]\n",
    "r2 = R_2(df)\n",
    "corr = df.corr()"
   ]
  },
  {
   "cell_type": "code",
   "execution_count": 46,
   "metadata": {
    "colab": {
     "base_uri": "https://localhost:8080/"
    },
    "executionInfo": {
     "elapsed": 839,
     "status": "ok",
     "timestamp": 1605578658765,
     "user": {
      "displayName": "Andrés Felipe Zapata Palacio",
      "photoUrl": "https://lh3.googleusercontent.com/a-/AOh14Gg27ktUZjg3Y67XH7nk7T5SVNYSn7FVSbaInnj5WQ=s64",
      "userId": "08596469446073364407"
     },
     "user_tz": 300
    },
    "id": "DUzMquPu72sS",
    "outputId": "38f80784-9a24-43bc-b276-654f4274a736"
   },
   "outputs": [
    {
     "data": {
      "text/plain": [
       "TUMACO          607\n",
       "FORTUL          397\n",
       "SARAVENA        368\n",
       "VISTAHERMOSA    351\n",
       "EL TARRA        326\n",
       "CUMBAL          325\n",
       "TIBÚ            311\n",
       "SUÁREZ          290\n",
       "ARAUQUITA       266\n",
       "RIOSUCIO        257\n",
       "Name: MUNICIPIO, dtype: int64"
      ]
     },
     "execution_count": 46,
     "metadata": {},
     "output_type": "execute_result"
    }
   ],
   "source": [
    "educacion[\"MUNICIPIO\"].value_counts()[:10]"
   ]
  },
  {
   "cell_type": "code",
   "execution_count": 47,
   "metadata": {
    "colab": {
     "base_uri": "https://localhost:8080/"
    },
    "executionInfo": {
     "elapsed": 586,
     "status": "ok",
     "timestamp": 1605578823053,
     "user": {
      "displayName": "Andrés Felipe Zapata Palacio",
      "photoUrl": "https://lh3.googleusercontent.com/a-/AOh14Gg27ktUZjg3Y67XH7nk7T5SVNYSn7FVSbaInnj5WQ=s64",
      "userId": "08596469446073364407"
     },
     "user_tz": 300
    },
    "id": "Q6RY4ACY8kzT",
    "outputId": "9b9370c3-261b-4b37-a4f3-999246e3a219"
   },
   "outputs": [
    {
     "data": {
      "text/plain": [
       "VISTAHERMOSA              370\n",
       "TAME                      348\n",
       "TUMACO                    308\n",
       "TARAZÁ                    269\n",
       "SAN VICENTE DEL CAGUÁN    262\n",
       "MONTAÑITA                 250\n",
       "ITUANGO                   245\n",
       "PUERTO RICO               245\n",
       "TEORAMA                   184\n",
       "SAN CARLOS                172\n",
       "Name: municipio, dtype: int64"
      ]
     },
     "execution_count": 47,
     "metadata": {},
     "output_type": "execute_result"
    }
   ],
   "source": [
    "victimas[\"municipio\"].value_counts()[:10]"
   ]
  },
  {
   "cell_type": "code",
   "execution_count": 48,
   "metadata": {
    "colab": {
     "base_uri": "https://localhost:8080/",
     "height": 365
    },
    "executionInfo": {
     "elapsed": 1009,
     "status": "ok",
     "timestamp": 1605578398891,
     "user": {
      "displayName": "Andrés Felipe Zapata Palacio",
      "photoUrl": "https://lh3.googleusercontent.com/a-/AOh14Gg27ktUZjg3Y67XH7nk7T5SVNYSn7FVSbaInnj5WQ=s64",
      "userId": "08596469446073364407"
     },
     "user_tz": 300
    },
    "id": "p_6M5ZqJ-ISr",
    "outputId": "929e93ee-0241-4ec4-9a5b-a90d54c031c5"
   },
   "outputs": [
    {
     "data": {
      "text/plain": [
       "<AxesSubplot:>"
      ]
     },
     "execution_count": 48,
     "metadata": {},
     "output_type": "execute_result"
    },
    {
     "data": {
      "image/png": "[encoded data removed]",
      "text/plain": [
       "<Figure size 432x288 with 2 Axes>"
      ]
     },
     "metadata": {
      "needs_background": "light"
     },
     "output_type": "display_data"
    }
   ],
   "source": [
    "import seaborn as sns\n",
    "sns.heatmap(corr)"
   ]
  },
  {
   "cell_type": "code",
   "execution_count": 49,
   "metadata": {
    "colab": {
     "base_uri": "https://localhost:8080/",
     "height": 361
    },
    "executionInfo": {
     "elapsed": 1173,
     "status": "ok",
     "timestamp": 1605578400454,
     "user": {
      "displayName": "Andrés Felipe Zapata Palacio",
      "photoUrl": "https://lh3.googleusercontent.com/a-/AOh14Gg27ktUZjg3Y67XH7nk7T5SVNYSn7FVSbaInnj5WQ=s64",
      "userId": "08596469446073364407"
     },
     "user_tz": 300
    },
    "id": "RI9vLG4b-Rva",
    "outputId": "d6a77abe-2b7a-4352-b0d1-9767c3975090"
   },
   "outputs": [
    {
     "data": {
      "text/plain": [
       "<matplotlib.collections.EllipseCollection at 0x7f172e4600a0>"
      ]
     },
     "execution_count": 49,
     "metadata": {},
     "output_type": "execute_result"
    },
    {
     "data": {
      "image/png": "[encoded data removed]",
      "text/plain": [
       "<Figure size 432x288 with 1 Axes>"
      ]
     },
     "metadata": {
      "needs_background": "light"
     },
     "output_type": "display_data"
    }
   ],
   "source": [
    "plot_corr_ellipses(corr,cmap='Greens')"
   ]
  },
  {
   "cell_type": "code",
   "execution_count": 60,
   "metadata": {},
   "outputs": [
    {
     "data": {
      "text/html": [
       "<div>\n",
       "<style scoped>\n",
       "    .dataframe tbody tr th:only-of-type {\n",
       "        vertical-align: middle;\n",
       "    }\n",
       "\n",
       "    .dataframe tbody tr th {\n",
       "        vertical-align: top;\n",
       "    }\n",
       "\n",
       "    .dataframe thead th {\n",
       "        text-align: right;\n",
       "    }\n",
       "</style>\n",
       "<table border=\"1\" class=\"dataframe\">\n",
       "  <thead>\n",
       "    <tr style=\"text-align: right;\">\n",
       "      <th></th>\n",
       "      <th>ID_ERM</th>\n",
       "      <th>DEPARTAMENTO</th>\n",
       "      <th>CODIGO_DANE_DEPARTAMENTO</th>\n",
       "      <th>MUNICIPIO</th>\n",
       "      <th>CODIGO_DANE_MUNICIPIO</th>\n",
       "      <th>ORGANIZACIÓN</th>\n",
       "      <th>MOTIVO_ACTIVIDAD</th>\n",
       "      <th>FECHA_INICIO</th>\n",
       "      <th>AÑO</th>\n",
       "      <th>FECHA_FINALIZACION</th>\n",
       "      <th>...</th>\n",
       "      <th>INCR_CASOS_-1_0</th>\n",
       "      <th>INCR_VICTIMAS_-1_0</th>\n",
       "      <th>INCR_CASOS_0_1</th>\n",
       "      <th>INCR_VICTIMAS_0_1</th>\n",
       "      <th>INCR_CASOS_1_2</th>\n",
       "      <th>INCR_VICTIMAS_1_2</th>\n",
       "      <th>INCR_CASOS_2_3</th>\n",
       "      <th>INCR_VICTIMAS_2_3</th>\n",
       "      <th>INCR_CASOS_3_4</th>\n",
       "      <th>INCR_VICTIMAS_3_4</th>\n",
       "    </tr>\n",
       "  </thead>\n",
       "  <tbody>\n",
       "    <tr>\n",
       "      <th>31</th>\n",
       "      <td>ERM_ACT_275</td>\n",
       "      <td>ANTIOQUIA</td>\n",
       "      <td>5</td>\n",
       "      <td>CÁCERES</td>\n",
       "      <td>5120</td>\n",
       "      <td>Campaña Colombiana Contra Minas</td>\n",
       "      <td>Sin especificar</td>\n",
       "      <td>2017-10-05</td>\n",
       "      <td>2017</td>\n",
       "      <td>2017-10-05</td>\n",
       "      <td>...</td>\n",
       "      <td>0</td>\n",
       "      <td>0</td>\n",
       "      <td>0</td>\n",
       "      <td>0</td>\n",
       "      <td>0</td>\n",
       "      <td>0</td>\n",
       "      <td>0</td>\n",
       "      <td>0</td>\n",
       "      <td>1</td>\n",
       "      <td>0</td>\n",
       "    </tr>\n",
       "    <tr>\n",
       "      <th>36</th>\n",
       "      <td>ERM_ACT_280</td>\n",
       "      <td>ANTIOQUIA</td>\n",
       "      <td>5</td>\n",
       "      <td>VALDIVIA</td>\n",
       "      <td>5854</td>\n",
       "      <td>Campaña Colombiana Contra Minas</td>\n",
       "      <td>Sin especificar</td>\n",
       "      <td>2017-05-19</td>\n",
       "      <td>2017</td>\n",
       "      <td>2017-05-19</td>\n",
       "      <td>...</td>\n",
       "      <td>1</td>\n",
       "      <td>0</td>\n",
       "      <td>-1</td>\n",
       "      <td>0</td>\n",
       "      <td>1</td>\n",
       "      <td>0</td>\n",
       "      <td>0</td>\n",
       "      <td>2</td>\n",
       "      <td>1</td>\n",
       "      <td>-2</td>\n",
       "    </tr>\n",
       "    <tr>\n",
       "      <th>37</th>\n",
       "      <td>ERM_ACT_281</td>\n",
       "      <td>ANTIOQUIA</td>\n",
       "      <td>5</td>\n",
       "      <td>YARUMAL</td>\n",
       "      <td>5887</td>\n",
       "      <td>Campaña Colombiana Contra Minas</td>\n",
       "      <td>Sin especificar</td>\n",
       "      <td>2017-10-05</td>\n",
       "      <td>2017</td>\n",
       "      <td>2017-10-05</td>\n",
       "      <td>...</td>\n",
       "      <td>0</td>\n",
       "      <td>0</td>\n",
       "      <td>0</td>\n",
       "      <td>0</td>\n",
       "      <td>0</td>\n",
       "      <td>0</td>\n",
       "      <td>1</td>\n",
       "      <td>0</td>\n",
       "      <td>1</td>\n",
       "      <td>0</td>\n",
       "    </tr>\n",
       "    <tr>\n",
       "      <th>39</th>\n",
       "      <td>ERM_ACT_287</td>\n",
       "      <td>ANTIOQUIA</td>\n",
       "      <td>5</td>\n",
       "      <td>DABEIBA</td>\n",
       "      <td>5234</td>\n",
       "      <td>Campaña Colombiana Contra Minas</td>\n",
       "      <td>Sin especificar</td>\n",
       "      <td>2017-05-17</td>\n",
       "      <td>2017</td>\n",
       "      <td>2017-05-17</td>\n",
       "      <td>...</td>\n",
       "      <td>0</td>\n",
       "      <td>0</td>\n",
       "      <td>0</td>\n",
       "      <td>0</td>\n",
       "      <td>0</td>\n",
       "      <td>0</td>\n",
       "      <td>0</td>\n",
       "      <td>0</td>\n",
       "      <td>0</td>\n",
       "      <td>0</td>\n",
       "    </tr>\n",
       "    <tr>\n",
       "      <th>44</th>\n",
       "      <td>ERM_ACT_292</td>\n",
       "      <td>ANTIOQUIA</td>\n",
       "      <td>5</td>\n",
       "      <td>ANGOSTURA</td>\n",
       "      <td>5038</td>\n",
       "      <td>Campaña Colombiana Contra Minas</td>\n",
       "      <td>Sin especificar</td>\n",
       "      <td>2017-05-19</td>\n",
       "      <td>2017</td>\n",
       "      <td>2017-05-19</td>\n",
       "      <td>...</td>\n",
       "      <td>0</td>\n",
       "      <td>0</td>\n",
       "      <td>0</td>\n",
       "      <td>0</td>\n",
       "      <td>0</td>\n",
       "      <td>0</td>\n",
       "      <td>0</td>\n",
       "      <td>0</td>\n",
       "      <td>0</td>\n",
       "      <td>0</td>\n",
       "    </tr>\n",
       "    <tr>\n",
       "      <th>...</th>\n",
       "      <td>...</td>\n",
       "      <td>...</td>\n",
       "      <td>...</td>\n",
       "      <td>...</td>\n",
       "      <td>...</td>\n",
       "      <td>...</td>\n",
       "      <td>...</td>\n",
       "      <td>...</td>\n",
       "      <td>...</td>\n",
       "      <td>...</td>\n",
       "      <td>...</td>\n",
       "      <td>...</td>\n",
       "      <td>...</td>\n",
       "      <td>...</td>\n",
       "      <td>...</td>\n",
       "      <td>...</td>\n",
       "      <td>...</td>\n",
       "      <td>...</td>\n",
       "      <td>...</td>\n",
       "      <td>...</td>\n",
       "      <td>...</td>\n",
       "    </tr>\n",
       "    <tr>\n",
       "      <th>17466</th>\n",
       "      <td>ERM_ACT_54759</td>\n",
       "      <td>NARIÑO</td>\n",
       "      <td>52</td>\n",
       "      <td>LEIVA</td>\n",
       "      <td>52405</td>\n",
       "      <td>CORPORACION PAZ Y DEMOCRACIA</td>\n",
       "      <td>Sin especificar</td>\n",
       "      <td>2019-10-23</td>\n",
       "      <td>2019</td>\n",
       "      <td>2019-10-23</td>\n",
       "      <td>...</td>\n",
       "      <td>0</td>\n",
       "      <td>0</td>\n",
       "      <td>0</td>\n",
       "      <td>0</td>\n",
       "      <td>0</td>\n",
       "      <td>0</td>\n",
       "      <td>0</td>\n",
       "      <td>0</td>\n",
       "      <td>0</td>\n",
       "      <td>0</td>\n",
       "    </tr>\n",
       "    <tr>\n",
       "      <th>17467</th>\n",
       "      <td>ERM_ACT_54760</td>\n",
       "      <td>NARIÑO</td>\n",
       "      <td>52</td>\n",
       "      <td>RICAURTE</td>\n",
       "      <td>52612</td>\n",
       "      <td>CORPORACION PAZ Y DEMOCRACIA</td>\n",
       "      <td>Sin especificar</td>\n",
       "      <td>2019-10-24</td>\n",
       "      <td>2019</td>\n",
       "      <td>2019-10-24</td>\n",
       "      <td>...</td>\n",
       "      <td>0</td>\n",
       "      <td>0</td>\n",
       "      <td>0</td>\n",
       "      <td>0</td>\n",
       "      <td>0</td>\n",
       "      <td>0</td>\n",
       "      <td>0</td>\n",
       "      <td>0</td>\n",
       "      <td>0</td>\n",
       "      <td>0</td>\n",
       "    </tr>\n",
       "    <tr>\n",
       "      <th>17482</th>\n",
       "      <td>ERM_ACT_54757</td>\n",
       "      <td>NARIÑO</td>\n",
       "      <td>52</td>\n",
       "      <td>RICAURTE</td>\n",
       "      <td>52612</td>\n",
       "      <td>CORPORACION PAZ Y DEMOCRACIA</td>\n",
       "      <td>Sin especificar</td>\n",
       "      <td>2019-10-15</td>\n",
       "      <td>2019</td>\n",
       "      <td>2019-10-15</td>\n",
       "      <td>...</td>\n",
       "      <td>0</td>\n",
       "      <td>0</td>\n",
       "      <td>0</td>\n",
       "      <td>0</td>\n",
       "      <td>0</td>\n",
       "      <td>0</td>\n",
       "      <td>0</td>\n",
       "      <td>0</td>\n",
       "      <td>0</td>\n",
       "      <td>0</td>\n",
       "    </tr>\n",
       "    <tr>\n",
       "      <th>17483</th>\n",
       "      <td>ERM_ACT_54909</td>\n",
       "      <td>NARIÑO</td>\n",
       "      <td>52</td>\n",
       "      <td>SAMANIEGO</td>\n",
       "      <td>52678</td>\n",
       "      <td>PASTORAL SOCIAL PASTO</td>\n",
       "      <td>Sin especificar</td>\n",
       "      <td>2020-02-24</td>\n",
       "      <td>2020</td>\n",
       "      <td>2020-02-24</td>\n",
       "      <td>...</td>\n",
       "      <td>0</td>\n",
       "      <td>0</td>\n",
       "      <td>0</td>\n",
       "      <td>0</td>\n",
       "      <td>0</td>\n",
       "      <td>0</td>\n",
       "      <td>0</td>\n",
       "      <td>0</td>\n",
       "      <td>0</td>\n",
       "      <td>0</td>\n",
       "    </tr>\n",
       "    <tr>\n",
       "      <th>17484</th>\n",
       "      <td>ERM_ACT_54935</td>\n",
       "      <td>NARIÑO</td>\n",
       "      <td>52</td>\n",
       "      <td>SAMANIEGO</td>\n",
       "      <td>52678</td>\n",
       "      <td>PASTORAL SOCIAL PASTO</td>\n",
       "      <td>Sin especificar</td>\n",
       "      <td>2020-02-25</td>\n",
       "      <td>2020</td>\n",
       "      <td>2020-02-25</td>\n",
       "      <td>...</td>\n",
       "      <td>0</td>\n",
       "      <td>0</td>\n",
       "      <td>0</td>\n",
       "      <td>0</td>\n",
       "      <td>0</td>\n",
       "      <td>0</td>\n",
       "      <td>0</td>\n",
       "      <td>0</td>\n",
       "      <td>0</td>\n",
       "      <td>0</td>\n",
       "    </tr>\n",
       "  </tbody>\n",
       "</table>\n",
       "<p>10570 rows × 89 columns</p>\n",
       "</div>"
      ],
      "text/plain": [
       "              ID_ERM DEPARTAMENTO  CODIGO_DANE_DEPARTAMENTO  MUNICIPIO  \\\n",
       "31       ERM_ACT_275    ANTIOQUIA                         5    CÁCERES   \n",
       "36       ERM_ACT_280    ANTIOQUIA                         5   VALDIVIA   \n",
       "37       ERM_ACT_281    ANTIOQUIA                         5    YARUMAL   \n",
       "39       ERM_ACT_287    ANTIOQUIA                         5    DABEIBA   \n",
       "44       ERM_ACT_292    ANTIOQUIA                         5  ANGOSTURA   \n",
       "...              ...          ...                       ...        ...   \n",
       "17466  ERM_ACT_54759       NARIÑO                        52      LEIVA   \n",
       "17467  ERM_ACT_54760       NARIÑO                        52   RICAURTE   \n",
       "17482  ERM_ACT_54757       NARIÑO                        52   RICAURTE   \n",
       "17483  ERM_ACT_54909       NARIÑO                        52  SAMANIEGO   \n",
       "17484  ERM_ACT_54935       NARIÑO                        52  SAMANIEGO   \n",
       "\n",
       "       CODIGO_DANE_MUNICIPIO                     ORGANIZACIÓN  \\\n",
       "31                      5120  Campaña Colombiana Contra Minas   \n",
       "36                      5854  Campaña Colombiana Contra Minas   \n",
       "37                      5887  Campaña Colombiana Contra Minas   \n",
       "39                      5234  Campaña Colombiana Contra Minas   \n",
       "44                      5038  Campaña Colombiana Contra Minas   \n",
       "...                      ...                              ...   \n",
       "17466                  52405     CORPORACION PAZ Y DEMOCRACIA   \n",
       "17467                  52612     CORPORACION PAZ Y DEMOCRACIA   \n",
       "17482                  52612     CORPORACION PAZ Y DEMOCRACIA   \n",
       "17483                  52678            PASTORAL SOCIAL PASTO   \n",
       "17484                  52678            PASTORAL SOCIAL PASTO   \n",
       "\n",
       "      MOTIVO_ACTIVIDAD FECHA_INICIO   AÑO FECHA_FINALIZACION  ...  \\\n",
       "31     Sin especificar   2017-10-05  2017         2017-10-05  ...   \n",
       "36     Sin especificar   2017-05-19  2017         2017-05-19  ...   \n",
       "37     Sin especificar   2017-10-05  2017         2017-10-05  ...   \n",
       "39     Sin especificar   2017-05-17  2017         2017-05-17  ...   \n",
       "44     Sin especificar   2017-05-19  2017         2017-05-19  ...   \n",
       "...                ...          ...   ...                ...  ...   \n",
       "17466  Sin especificar   2019-10-23  2019         2019-10-23  ...   \n",
       "17467  Sin especificar   2019-10-24  2019         2019-10-24  ...   \n",
       "17482  Sin especificar   2019-10-15  2019         2019-10-15  ...   \n",
       "17483  Sin especificar   2020-02-24  2020         2020-02-24  ...   \n",
       "17484  Sin especificar   2020-02-25  2020         2020-02-25  ...   \n",
       "\n",
       "      INCR_CASOS_-1_0 INCR_VICTIMAS_-1_0  INCR_CASOS_0_1  INCR_VICTIMAS_0_1  \\\n",
       "31                  0                  0               0                  0   \n",
       "36                  1                  0              -1                  0   \n",
       "37                  0                  0               0                  0   \n",
       "39                  0                  0               0                  0   \n",
       "44                  0                  0               0                  0   \n",
       "...               ...                ...             ...                ...   \n",
       "17466               0                  0               0                  0   \n",
       "17467               0                  0               0                  0   \n",
       "17482               0                  0               0                  0   \n",
       "17483               0                  0               0                  0   \n",
       "17484               0                  0               0                  0   \n",
       "\n",
       "       INCR_CASOS_1_2  INCR_VICTIMAS_1_2  INCR_CASOS_2_3  INCR_VICTIMAS_2_3  \\\n",
       "31                  0                  0               0                  0   \n",
       "36                  1                  0               0                  2   \n",
       "37                  0                  0               1                  0   \n",
       "39                  0                  0               0                  0   \n",
       "44                  0                  0               0                  0   \n",
       "...               ...                ...             ...                ...   \n",
       "17466               0                  0               0                  0   \n",
       "17467               0                  0               0                  0   \n",
       "17482               0                  0               0                  0   \n",
       "17483               0                  0               0                  0   \n",
       "17484               0                  0               0                  0   \n",
       "\n",
       "       INCR_CASOS_3_4  INCR_VICTIMAS_3_4  \n",
       "31                  1                  0  \n",
       "36                  1                 -2  \n",
       "37                  1                  0  \n",
       "39                  0                  0  \n",
       "44                  0                  0  \n",
       "...               ...                ...  \n",
       "17466               0                  0  \n",
       "17467               0                  0  \n",
       "17482               0                  0  \n",
       "17483               0                  0  \n",
       "17484               0                  0  \n",
       "\n",
       "[10570 rows x 89 columns]"
      ]
     },
     "execution_count": 60,
     "metadata": {},
     "output_type": "execute_result"
    }
   ],
   "source": [
    "def analizeRelativeMonth(month):\n",
    "    nextMonth = str(month+1)\n",
    "    prevMonth = str(month-1)\n",
    "    month = str(month)"
   ]
  },
  {
   "cell_type": "code",
   "execution_count": 50,
   "metadata": {
    "colab": {
     "base_uri": "https://localhost:8080/",
     "height": 269
    },
    "executionInfo": {
     "elapsed": 874,
     "status": "ok",
     "timestamp": 1605578410288,
     "user": {
      "displayName": "Andrés Felipe Zapata Palacio",
      "photoUrl": "https://lh3.googleusercontent.com/a-/AOh14Gg27ktUZjg3Y67XH7nk7T5SVNYSn7FVSbaInnj5WQ=s64",
      "userId": "08596469446073364407"
     },
     "user_tz": 300
    },
    "id": "izfzOnD46IkL",
    "outputId": "94ca55da-b725-47f6-a925-390ee84fc240"
   },
   "outputs": [
    {
     "data": {
      "text/html": [
       "<div>\n",
       "<style scoped>\n",
       "    .dataframe tbody tr th:only-of-type {\n",
       "        vertical-align: middle;\n",
       "    }\n",
       "\n",
       "    .dataframe tbody tr th {\n",
       "        vertical-align: top;\n",
       "    }\n",
       "\n",
       "    .dataframe thead th {\n",
       "        text-align: right;\n",
       "    }\n",
       "</style>\n",
       "<table border=\"1\" class=\"dataframe\">\n",
       "  <thead>\n",
       "    <tr style=\"text-align: right;\">\n",
       "      <th></th>\n",
       "      <th>INCR_CASOS_-4_-3</th>\n",
       "      <th>INCR_CASOS_-3_-2</th>\n",
       "      <th>INCR_CASOS_-2_-1</th>\n",
       "      <th>INCR_CASOS_-1_0</th>\n",
       "      <th>INCR_CASOS_0_1</th>\n",
       "      <th>INCR_CASOS_1_2</th>\n",
       "      <th>INCR_CASOS_2_3</th>\n",
       "      <th>INCR_CASOS_3_4</th>\n",
       "    </tr>\n",
       "  </thead>\n",
       "  <tbody>\n",
       "    <tr>\n",
       "      <th>INCR_CASOS_-4_-3</th>\n",
       "      <td>1.000000</td>\n",
       "      <td>0.032048</td>\n",
       "      <td>-0.398181</td>\n",
       "      <td>0.034842</td>\n",
       "      <td>0.164425</td>\n",
       "      <td>-0.167135</td>\n",
       "      <td>-0.012111</td>\n",
       "      <td>0.075954</td>\n",
       "    </tr>\n",
       "    <tr>\n",
       "      <th>INCR_CASOS_-3_-2</th>\n",
       "      <td>0.032048</td>\n",
       "      <td>1.000000</td>\n",
       "      <td>-0.737860</td>\n",
       "      <td>0.018225</td>\n",
       "      <td>-0.043837</td>\n",
       "      <td>-0.102918</td>\n",
       "      <td>0.006675</td>\n",
       "      <td>0.124272</td>\n",
       "    </tr>\n",
       "    <tr>\n",
       "      <th>INCR_CASOS_-2_-1</th>\n",
       "      <td>-0.398181</td>\n",
       "      <td>-0.737860</td>\n",
       "      <td>1.000000</td>\n",
       "      <td>-0.330180</td>\n",
       "      <td>-0.043517</td>\n",
       "      <td>0.214290</td>\n",
       "      <td>-0.046419</td>\n",
       "      <td>-0.130084</td>\n",
       "    </tr>\n",
       "    <tr>\n",
       "      <th>INCR_CASOS_-1_0</th>\n",
       "      <td>0.034842</td>\n",
       "      <td>0.018225</td>\n",
       "      <td>-0.330180</td>\n",
       "      <td>1.000000</td>\n",
       "      <td>-0.379785</td>\n",
       "      <td>-0.169976</td>\n",
       "      <td>0.072670</td>\n",
       "      <td>0.105367</td>\n",
       "    </tr>\n",
       "    <tr>\n",
       "      <th>INCR_CASOS_0_1</th>\n",
       "      <td>0.164425</td>\n",
       "      <td>-0.043837</td>\n",
       "      <td>-0.043517</td>\n",
       "      <td>-0.379785</td>\n",
       "      <td>1.000000</td>\n",
       "      <td>-0.296525</td>\n",
       "      <td>-0.159527</td>\n",
       "      <td>-0.208064</td>\n",
       "    </tr>\n",
       "    <tr>\n",
       "      <th>INCR_CASOS_1_2</th>\n",
       "      <td>-0.167135</td>\n",
       "      <td>-0.102918</td>\n",
       "      <td>0.214290</td>\n",
       "      <td>-0.169976</td>\n",
       "      <td>-0.296525</td>\n",
       "      <td>1.000000</td>\n",
       "      <td>-0.477092</td>\n",
       "      <td>0.008493</td>\n",
       "    </tr>\n",
       "    <tr>\n",
       "      <th>INCR_CASOS_2_3</th>\n",
       "      <td>-0.012111</td>\n",
       "      <td>0.006675</td>\n",
       "      <td>-0.046419</td>\n",
       "      <td>0.072670</td>\n",
       "      <td>-0.159527</td>\n",
       "      <td>-0.477092</td>\n",
       "      <td>1.000000</td>\n",
       "      <td>-0.328802</td>\n",
       "    </tr>\n",
       "    <tr>\n",
       "      <th>INCR_CASOS_3_4</th>\n",
       "      <td>0.075954</td>\n",
       "      <td>0.124272</td>\n",
       "      <td>-0.130084</td>\n",
       "      <td>0.105367</td>\n",
       "      <td>-0.208064</td>\n",
       "      <td>0.008493</td>\n",
       "      <td>-0.328802</td>\n",
       "      <td>1.000000</td>\n",
       "    </tr>\n",
       "  </tbody>\n",
       "</table>\n",
       "</div>"
      ],
      "text/plain": [
       "                  INCR_CASOS_-4_-3  INCR_CASOS_-3_-2  INCR_CASOS_-2_-1  \\\n",
       "INCR_CASOS_-4_-3          1.000000          0.032048         -0.398181   \n",
       "INCR_CASOS_-3_-2          0.032048          1.000000         -0.737860   \n",
       "INCR_CASOS_-2_-1         -0.398181         -0.737860          1.000000   \n",
       "INCR_CASOS_-1_0           0.034842          0.018225         -0.330180   \n",
       "INCR_CASOS_0_1            0.164425         -0.043837         -0.043517   \n",
       "INCR_CASOS_1_2           -0.167135         -0.102918          0.214290   \n",
       "INCR_CASOS_2_3           -0.012111          0.006675         -0.046419   \n",
       "INCR_CASOS_3_4            0.075954          0.124272         -0.130084   \n",
       "\n",
       "                  INCR_CASOS_-1_0  INCR_CASOS_0_1  INCR_CASOS_1_2  \\\n",
       "INCR_CASOS_-4_-3         0.034842        0.164425       -0.167135   \n",
       "INCR_CASOS_-3_-2         0.018225       -0.043837       -0.102918   \n",
       "INCR_CASOS_-2_-1        -0.330180       -0.043517        0.214290   \n",
       "INCR_CASOS_-1_0          1.000000       -0.379785       -0.169976   \n",
       "INCR_CASOS_0_1          -0.379785        1.000000       -0.296525   \n",
       "INCR_CASOS_1_2          -0.169976       -0.296525        1.000000   \n",
       "INCR_CASOS_2_3           0.072670       -0.159527       -0.477092   \n",
       "INCR_CASOS_3_4           0.105367       -0.208064        0.008493   \n",
       "\n",
       "                  INCR_CASOS_2_3  INCR_CASOS_3_4  \n",
       "INCR_CASOS_-4_-3       -0.012111        0.075954  \n",
       "INCR_CASOS_-3_-2        0.006675        0.124272  \n",
       "INCR_CASOS_-2_-1       -0.046419       -0.130084  \n",
       "INCR_CASOS_-1_0         0.072670        0.105367  \n",
       "INCR_CASOS_0_1         -0.159527       -0.208064  \n",
       "INCR_CASOS_1_2         -0.477092        0.008493  \n",
       "INCR_CASOS_2_3          1.000000       -0.328802  \n",
       "INCR_CASOS_3_4         -0.328802        1.000000  "
      ]
     },
     "execution_count": 50,
     "metadata": {},
     "output_type": "execute_result"
    }
   ],
   "source": [
    "corr"
   ]
  },
  {
   "cell_type": "code",
   "execution_count": 51,
   "metadata": {
    "colab": {
     "base_uri": "https://localhost:8080/"
    },
    "executionInfo": {
     "elapsed": 778,
     "status": "ok",
     "timestamp": 1605578415886,
     "user": {
      "displayName": "Andrés Felipe Zapata Palacio",
      "photoUrl": "https://lh3.googleusercontent.com/a-/AOh14Gg27ktUZjg3Y67XH7nk7T5SVNYSn7FVSbaInnj5WQ=s64",
      "userId": "08596469446073364407"
     },
     "user_tz": 300
    },
    "id": "cvJDRf1I-Vfz",
    "outputId": "e9a51e40-7208-46da-8e84-e044d7f4dc4c"
   },
   "outputs": [
    {
     "data": {
      "text/plain": [
       "0.056542469515805716"
      ]
     },
     "execution_count": 51,
     "metadata": {},
     "output_type": "execute_result"
    }
   ],
   "source": [
    "np.linalg.det(corr)"
   ]
  },
  {
   "cell_type": "code",
   "execution_count": 52,
   "metadata": {
    "executionInfo": {
     "elapsed": 1239,
     "status": "ok",
     "timestamp": 1605578419120,
     "user": {
      "displayName": "Andrés Felipe Zapata Palacio",
      "photoUrl": "https://lh3.googleusercontent.com/a-/AOh14Gg27ktUZjg3Y67XH7nk7T5SVNYSn7FVSbaInnj5WQ=s64",
      "userId": "08596469446073364407"
     },
     "user_tz": 300
    },
    "id": "kVRrzSfz-cJ8"
   },
   "outputs": [],
   "source": [
    "partialCorrelation = corr_partial(df)"
   ]
  },
  {
   "cell_type": "code",
   "execution_count": 53,
   "metadata": {
    "colab": {
     "base_uri": "https://localhost:8080/",
     "height": 365
    },
    "executionInfo": {
     "elapsed": 1466,
     "status": "ok",
     "timestamp": 1605578419758,
     "user": {
      "displayName": "Andrés Felipe Zapata Palacio",
      "photoUrl": "https://lh3.googleusercontent.com/a-/AOh14Gg27ktUZjg3Y67XH7nk7T5SVNYSn7FVSbaInnj5WQ=s64",
      "userId": "08596469446073364407"
     },
     "user_tz": 300
    },
    "id": "-7gopBXZ-kkb",
    "outputId": "cc9e115b-a768-4473-ba55-b5b64fbdefb4"
   },
   "outputs": [
    {
     "data": {
      "text/plain": [
       "<AxesSubplot:>"
      ]
     },
     "execution_count": 53,
     "metadata": {},
     "output_type": "execute_result"
    },
    {
     "data": {
      "image/png": "[encoded data removed]",
      "text/plain": [
       "<Figure size 432x288 with 2 Axes>"
      ]
     },
     "metadata": {
      "needs_background": "light"
     },
     "output_type": "display_data"
    }
   ],
   "source": [
    "sns.heatmap(partialCorrelation)"
   ]
  },
  {
   "cell_type": "code",
   "execution_count": 54,
   "metadata": {
    "colab": {
     "base_uri": "https://localhost:8080/",
     "height": 361
    },
    "executionInfo": {
     "elapsed": 865,
     "status": "ok",
     "timestamp": 1605578420242,
     "user": {
      "displayName": "Andrés Felipe Zapata Palacio",
      "photoUrl": "https://lh3.googleusercontent.com/a-/AOh14Gg27ktUZjg3Y67XH7nk7T5SVNYSn7FVSbaInnj5WQ=s64",
      "userId": "08596469446073364407"
     },
     "user_tz": 300
    },
    "id": "Pm7FGBOM-qb4",
    "outputId": "25551e9f-4dce-4189-da2e-cc87ebb203bd"
   },
   "outputs": [
    {
     "data": {
      "text/plain": [
       "<matplotlib.collections.EllipseCollection at 0x7f172e71ff10>"
      ]
     },
     "execution_count": 54,
     "metadata": {},
     "output_type": "execute_result"
    },
    {
     "data": {
      "image/png": "[encoded data removed]",
      "text/plain": [
       "<Figure size 432x288 with 1 Axes>"
      ]
     },
     "metadata": {
      "needs_background": "light"
     },
     "output_type": "display_data"
    }
   ],
   "source": [
    "plot_corr_ellipses(partialCorrelation, cmap='Greens')"
   ]
  },
  {
   "cell_type": "code",
   "execution_count": 55,
   "metadata": {
    "colab": {
     "base_uri": "https://localhost:8080/",
     "height": 269
    },
    "executionInfo": {
     "elapsed": 619,
     "status": "ok",
     "timestamp": 1605575367578,
     "user": {
      "displayName": "Andrés Felipe Zapata Palacio",
      "photoUrl": "https://lh3.googleusercontent.com/a-/AOh14Gg27ktUZjg3Y67XH7nk7T5SVNYSn7FVSbaInnj5WQ=s64",
      "userId": "08596469446073364407"
     },
     "user_tz": 300
    },
    "id": "mp4YwlUxhQ22",
    "outputId": "691ff77a-fab8-4cb2-d96b-e39c0fc65396"
   },
   "outputs": [
    {
     "data": {
      "text/html": [
       "<div>\n",
       "<style scoped>\n",
       "    .dataframe tbody tr th:only-of-type {\n",
       "        vertical-align: middle;\n",
       "    }\n",
       "\n",
       "    .dataframe tbody tr th {\n",
       "        vertical-align: top;\n",
       "    }\n",
       "\n",
       "    .dataframe thead th {\n",
       "        text-align: right;\n",
       "    }\n",
       "</style>\n",
       "<table border=\"1\" class=\"dataframe\">\n",
       "  <thead>\n",
       "    <tr style=\"text-align: right;\">\n",
       "      <th></th>\n",
       "      <th>INCR_CASOS_-4_-3</th>\n",
       "      <th>INCR_CASOS_-3_-2</th>\n",
       "      <th>INCR_CASOS_-2_-1</th>\n",
       "      <th>INCR_CASOS_-1_0</th>\n",
       "      <th>INCR_CASOS_0_1</th>\n",
       "      <th>INCR_CASOS_1_2</th>\n",
       "      <th>INCR_CASOS_2_3</th>\n",
       "      <th>INCR_CASOS_3_4</th>\n",
       "    </tr>\n",
       "  </thead>\n",
       "  <tbody>\n",
       "    <tr>\n",
       "      <th>INCR_CASOS_-4_-3</th>\n",
       "      <td>1.000000</td>\n",
       "      <td>0.032048</td>\n",
       "      <td>-0.398181</td>\n",
       "      <td>0.034842</td>\n",
       "      <td>0.164425</td>\n",
       "      <td>-0.167135</td>\n",
       "      <td>-0.012111</td>\n",
       "      <td>0.075954</td>\n",
       "    </tr>\n",
       "    <tr>\n",
       "      <th>INCR_CASOS_-3_-2</th>\n",
       "      <td>0.032048</td>\n",
       "      <td>1.000000</td>\n",
       "      <td>-0.737860</td>\n",
       "      <td>0.018225</td>\n",
       "      <td>-0.043837</td>\n",
       "      <td>-0.102918</td>\n",
       "      <td>0.006675</td>\n",
       "      <td>0.124272</td>\n",
       "    </tr>\n",
       "    <tr>\n",
       "      <th>INCR_CASOS_-2_-1</th>\n",
       "      <td>-0.398181</td>\n",
       "      <td>-0.737860</td>\n",
       "      <td>1.000000</td>\n",
       "      <td>-0.330180</td>\n",
       "      <td>-0.043517</td>\n",
       "      <td>0.214290</td>\n",
       "      <td>-0.046419</td>\n",
       "      <td>-0.130084</td>\n",
       "    </tr>\n",
       "    <tr>\n",
       "      <th>INCR_CASOS_-1_0</th>\n",
       "      <td>0.034842</td>\n",
       "      <td>0.018225</td>\n",
       "      <td>-0.330180</td>\n",
       "      <td>1.000000</td>\n",
       "      <td>-0.379785</td>\n",
       "      <td>-0.169976</td>\n",
       "      <td>0.072670</td>\n",
       "      <td>0.105367</td>\n",
       "    </tr>\n",
       "    <tr>\n",
       "      <th>INCR_CASOS_0_1</th>\n",
       "      <td>0.164425</td>\n",
       "      <td>-0.043837</td>\n",
       "      <td>-0.043517</td>\n",
       "      <td>-0.379785</td>\n",
       "      <td>1.000000</td>\n",
       "      <td>-0.296525</td>\n",
       "      <td>-0.159527</td>\n",
       "      <td>-0.208064</td>\n",
       "    </tr>\n",
       "    <tr>\n",
       "      <th>INCR_CASOS_1_2</th>\n",
       "      <td>-0.167135</td>\n",
       "      <td>-0.102918</td>\n",
       "      <td>0.214290</td>\n",
       "      <td>-0.169976</td>\n",
       "      <td>-0.296525</td>\n",
       "      <td>1.000000</td>\n",
       "      <td>-0.477092</td>\n",
       "      <td>0.008493</td>\n",
       "    </tr>\n",
       "    <tr>\n",
       "      <th>INCR_CASOS_2_3</th>\n",
       "      <td>-0.012111</td>\n",
       "      <td>0.006675</td>\n",
       "      <td>-0.046419</td>\n",
       "      <td>0.072670</td>\n",
       "      <td>-0.159527</td>\n",
       "      <td>-0.477092</td>\n",
       "      <td>1.000000</td>\n",
       "      <td>-0.328802</td>\n",
       "    </tr>\n",
       "    <tr>\n",
       "      <th>INCR_CASOS_3_4</th>\n",
       "      <td>0.075954</td>\n",
       "      <td>0.124272</td>\n",
       "      <td>-0.130084</td>\n",
       "      <td>0.105367</td>\n",
       "      <td>-0.208064</td>\n",
       "      <td>0.008493</td>\n",
       "      <td>-0.328802</td>\n",
       "      <td>1.000000</td>\n",
       "    </tr>\n",
       "  </tbody>\n",
       "</table>\n",
       "</div>"
      ],
      "text/plain": [
       "                  INCR_CASOS_-4_-3  INCR_CASOS_-3_-2  INCR_CASOS_-2_-1  \\\n",
       "INCR_CASOS_-4_-3          1.000000          0.032048         -0.398181   \n",
       "INCR_CASOS_-3_-2          0.032048          1.000000         -0.737860   \n",
       "INCR_CASOS_-2_-1         -0.398181         -0.737860          1.000000   \n",
       "INCR_CASOS_-1_0           0.034842          0.018225         -0.330180   \n",
       "INCR_CASOS_0_1            0.164425         -0.043837         -0.043517   \n",
       "INCR_CASOS_1_2           -0.167135         -0.102918          0.214290   \n",
       "INCR_CASOS_2_3           -0.012111          0.006675         -0.046419   \n",
       "INCR_CASOS_3_4            0.075954          0.124272         -0.130084   \n",
       "\n",
       "                  INCR_CASOS_-1_0  INCR_CASOS_0_1  INCR_CASOS_1_2  \\\n",
       "INCR_CASOS_-4_-3         0.034842        0.164425       -0.167135   \n",
       "INCR_CASOS_-3_-2         0.018225       -0.043837       -0.102918   \n",
       "INCR_CASOS_-2_-1        -0.330180       -0.043517        0.214290   \n",
       "INCR_CASOS_-1_0          1.000000       -0.379785       -0.169976   \n",
       "INCR_CASOS_0_1          -0.379785        1.000000       -0.296525   \n",
       "INCR_CASOS_1_2          -0.169976       -0.296525        1.000000   \n",
       "INCR_CASOS_2_3           0.072670       -0.159527       -0.477092   \n",
       "INCR_CASOS_3_4           0.105367       -0.208064        0.008493   \n",
       "\n",
       "                  INCR_CASOS_2_3  INCR_CASOS_3_4  \n",
       "INCR_CASOS_-4_-3       -0.012111        0.075954  \n",
       "INCR_CASOS_-3_-2        0.006675        0.124272  \n",
       "INCR_CASOS_-2_-1       -0.046419       -0.130084  \n",
       "INCR_CASOS_-1_0         0.072670        0.105367  \n",
       "INCR_CASOS_0_1         -0.159527       -0.208064  \n",
       "INCR_CASOS_1_2         -0.477092        0.008493  \n",
       "INCR_CASOS_2_3          1.000000       -0.328802  \n",
       "INCR_CASOS_3_4         -0.328802        1.000000  "
      ]
     },
     "execution_count": 55,
     "metadata": {},
     "output_type": "execute_result"
    }
   ],
   "source": [
    "corr"
   ]
  },
  {
   "cell_type": "code",
   "execution_count": null,
   "metadata": {
    "id": "lF8AOXEihRVT"
   },
   "outputs": [],
   "source": []
  },
  {
   "cell_type": "code",
   "execution_count": null,
   "metadata": {},
   "outputs": [],
   "source": []
  }
 ],
 "metadata": {
  "colab": {
   "authorship_tag": "ABX9TyM4qQovgcXRsI5DqxZWzmry",
   "collapsed_sections": [],
   "name": "ExploracionMinas.ipynb",
   "provenance": []
  },
  "kernelspec": {
   "display_name": "Python 3",
   "language": "python",
   "name": "python3"
  },
  "language_info": {
   "codemirror_mode": {
    "name": "ipython",
    "version": 3
   },
   "file_extension": ".py",
   "mimetype": "text/x-python",
   "name": "python",
   "nbconvert_exporter": "python",
   "pygments_lexer": "ipython3",
   "version": "3.8.5"
  }
 },
 "nbformat": 4,
 "nbformat_minor": 1
}
