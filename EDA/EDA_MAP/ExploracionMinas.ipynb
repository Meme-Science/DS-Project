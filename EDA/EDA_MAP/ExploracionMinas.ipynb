{
 "cells": [
  {
   "cell_type": "markdown",
   "metadata": {},
   "source": [
    "# Análisis alrededor de eventos educativos para la prevención de accidentes con Minas Antipersonales (MAP)\n",
    "\n",
    "Análisis exploratorio y estadístico de los eventos educativos así como el comportamiento en el número de casos antes, durante y despues de los mismos\n",
    "\n",
    "## Dependencias\n",
    "\n",
    "* Pandas\n",
    "* Seaborn\n",
    "* Matplotlib\n",
    "* Swifter\n",
    "* numpy\n",
    "* math"
   ]
  },
  {
   "cell_type": "markdown",
   "metadata": {},
   "source": [
    "## 1. Obtención y limpieza de los datos"
   ]
  },
  {
   "cell_type": "code",
   "execution_count": 1,
   "metadata": {
    "executionInfo": {
     "elapsed": 5642,
     "status": "ok",
     "timestamp": 1605571170658,
     "user": {
      "displayName": "Andrés Felipe Zapata Palacio",
      "photoUrl": "https://lh3.googleusercontent.com/a-/AOh14Gg27ktUZjg3Y67XH7nk7T5SVNYSn7FVSbaInnj5WQ=s64",
      "userId": "08596469446073364407"
     },
     "user_tz": 300
    },
    "id": "6JpXIckcDinL"
   },
   "outputs": [],
   "source": [
    "#!wget 'https://www.datos.gov.co/api/views/4nyw-8qqq/rows.csv?accessType=DOWNLOAD' -O 'EducacionRiesgoMinas.csv'  &> /dev/null\n",
    "#!wget 'https://www.datos.gov.co/api/views/sgp4-3e6k/rows.csv?accessType=DOWNLOAD' -O 'EventosMinas.csv' &> /dev/null\n",
    "#!wget 'https://www.datos.gov.co/api/views/xdk5-pm3f/rows.csv?accessType=DOWNLOAD' -O 'MunicipiosDANE.csv' &> /dev/null"
   ]
  },
  {
   "cell_type": "code",
   "execution_count": 2,
   "metadata": {
    "executionInfo": {
     "elapsed": 5632,
     "status": "ok",
     "timestamp": 1605571170662,
     "user": {
      "displayName": "Andrés Felipe Zapata Palacio",
      "photoUrl": "https://lh3.googleusercontent.com/a-/AOh14Gg27ktUZjg3Y67XH7nk7T5SVNYSn7FVSbaInnj5WQ=s64",
      "userId": "08596469446073364407"
     },
     "user_tz": 300
    },
    "id": "Vj02-6xdEVaL"
   },
   "outputs": [],
   "source": [
    "import pandas as pd"
   ]
  },
  {
   "cell_type": "code",
   "execution_count": 3,
   "metadata": {
    "executionInfo": {
     "elapsed": 5925,
     "status": "ok",
     "timestamp": 1605571170962,
     "user": {
      "displayName": "Andrés Felipe Zapata Palacio",
      "photoUrl": "https://lh3.googleusercontent.com/a-/AOh14Gg27ktUZjg3Y67XH7nk7T5SVNYSn7FVSbaInnj5WQ=s64",
      "userId": "08596469446073364407"
     },
     "user_tz": 300
    },
    "id": "qblT8HQhD7fy"
   },
   "outputs": [],
   "source": [
    "educacion  = pd.read_csv('EducacionRiesgoMinas.csv')\n",
    "casos      = pd.read_csv('EventosMinas.csv')\n",
    "municipios = pd.read_csv('MunicipiosDANE.csv')"
   ]
  },
  {
   "cell_type": "code",
   "execution_count": 4,
   "metadata": {
    "executionInfo": {
     "elapsed": 6252,
     "status": "ok",
     "timestamp": 1605571171294,
     "user": {
      "displayName": "Andrés Felipe Zapata Palacio",
      "photoUrl": "https://lh3.googleusercontent.com/a-/AOh14Gg27ktUZjg3Y67XH7nk7T5SVNYSn7FVSbaInnj5WQ=s64",
      "userId": "08596469446073364407"
     },
     "user_tz": 300
    },
    "id": "_VFPHokgKRTs"
   },
   "outputs": [],
   "source": [
    "educacion[\"FECHA_FINALIZACION\"] = pd.to_datetime(educacion[\"FECHA_FINALIZACION\"])\n",
    "educacion[\"FECHA_INICIO\"] = pd.to_datetime(educacion[\"FECHA_INICIO\"], format=\"%m/%d/%Y %I:%M:%S %p\", infer_datetime_format=False)   # 11/13/2019 12:00:00 AM    \"%m/%d/%Y %I:%M:%S %p\"\n",
    "educacion[\"DURACION\"] = educacion[\"FECHA_FINALIZACION\"] - educacion[\"FECHA_INICIO\"]\n",
    "educacion[\"DURACION\"] = educacion[\"DURACION\"].apply(lambda x: x.days+1)\n",
    "educacion = educacion[educacion[\"DURACION\"] == 1]"
   ]
  },
  {
   "cell_type": "markdown",
   "metadata": {},
   "source": [
    "## a. Funciones auxiliares"
   ]
  },
  {
   "cell_type": "code",
   "execution_count": 5,
   "metadata": {
    "executionInfo": {
     "elapsed": 6247,
     "status": "ok",
     "timestamp": 1605571171296,
     "user": {
      "displayName": "Andrés Felipe Zapata Palacio",
      "photoUrl": "https://lh3.googleusercontent.com/a-/AOh14Gg27ktUZjg3Y67XH7nk7T5SVNYSn7FVSbaInnj5WQ=s64",
      "userId": "08596469446073364407"
     },
     "user_tz": 300
    },
    "id": "4m9RTrWJHQVN"
   },
   "outputs": [],
   "source": [
    "# date: month,year\n",
    "def filterData(df, mun_dane_code=None, date=(None,None)):\n",
    "  victimas = df\n",
    "  month, year = date\n",
    "  if month != None and year != None:\n",
    "    victimas = victimas[(victimas[\"AÑO\"]==year) & (victimas[\"MES\"]==month)]\n",
    "  if mun_dane_code != None:\n",
    "    victimas = victimas[victimas[\"CODIGO_DANE_MUNICIPIO\"] == mun_dane_code]\n",
    "  return victimas\n"
   ]
  },
  {
   "cell_type": "code",
   "execution_count": 6,
   "metadata": {
    "executionInfo": {
     "elapsed": 6244,
     "status": "ok",
     "timestamp": 1605571171298,
     "user": {
      "displayName": "Andrés Felipe Zapata Palacio",
      "photoUrl": "https://lh3.googleusercontent.com/a-/AOh14Gg27ktUZjg3Y67XH7nk7T5SVNYSn7FVSbaInnj5WQ=s64",
      "userId": "08596469446073364407"
     },
     "user_tz": 300
    },
    "id": "yRdjy7EMo3S1"
   },
   "outputs": [],
   "source": [
    "import math\n",
    "\n",
    "# currentDate: month,year\n",
    "def getPreviousDate(currentDate, nMonthsBefore):\n",
    "  month, year = currentDate\n",
    "  if nMonthsBefore < 0:\n",
    "    nMonthsAfter = -nMonthsBefore\n",
    "    month = month + nMonthsAfter\n",
    "    newYear = year + math.floor(month / 12)\n",
    "    newMonth = month % 12\n",
    "    if newMonth == 0:\n",
    "      return 12,newYear-1\n",
    "  elif nMonthsBefore >= month:\n",
    "    nYearsBefore = math.floor(nMonthsBefore / 12)\n",
    "    #nMonthsBefore = nMonthsBefore - month\n",
    "    nMonthsBefore = nMonthsBefore % 12\n",
    "    newYear = year - nYearsBefore\n",
    "    if nMonthsBefore >= month:\n",
    "      newMonth = 12 - (nMonthsBefore - month)\n",
    "      newYear = newYear - 1\n",
    "    else:\n",
    "      newMonth = month - nMonthsBefore\n",
    "  else:\n",
    "    newYear = year\n",
    "    newMonth = month - nMonthsBefore\n",
    "  return newMonth,newYear"
   ]
  },
  {
   "cell_type": "markdown",
   "metadata": {
    "id": "T5TmL4M54Rt8"
   },
   "source": [
    "# Descripción Datasets\n",
    "\n",
    "__/!\\__ Curiosamente hay muchos más casos que víctimas registradas (36899 vs 11892)\n",
    "\n",
    "**<h2><center>Casos/Eventos</center></h2>**\n",
    "\n",
    "* TIPO_EVENTO (Desminado, Accidente por MAP, Incautaciones,...)\n",
    "* CODIGO_DANE_MUNICIPIO\n",
    "* AÑO,MES\n",
    "\n",
    "**Campos Descartados**\n",
    "\n",
    "* DEPARTAMENTO, CODIGO_DANE_DEPARTAMENTO, MUNICIPIO, SITIO (Vereda)\n",
    "* EVENTO (100% Nulo)\n",
    "* TIPO_LUGAR (95% Nulo) TIPO_AREA (Rural,Urbana)\n",
    "* UBICACIÓN, LATITUD_CABECERA, LONGITUD_CABECERA"
   ]
  },
  {
   "cell_type": "code",
   "execution_count": 7,
   "metadata": {
    "colab": {
     "base_uri": "https://localhost:8080/",
     "height": 808
    },
    "executionInfo": {
     "elapsed": 576,
     "status": "ok",
     "timestamp": 1605578012245,
     "user": {
      "displayName": "Andrés Felipe Zapata Palacio",
      "photoUrl": "https://lh3.googleusercontent.com/a-/AOh14Gg27ktUZjg3Y67XH7nk7T5SVNYSn7FVSbaInnj5WQ=s64",
      "userId": "08596469446073364407"
     },
     "user_tz": 300
    },
    "id": "TkpV0dkb6CKI",
    "outputId": "d24cc6dc-bc89-4aa7-b91b-605a29d9c3fd"
   },
   "outputs": [
    {
     "data": {
      "text/html": [
       "<div>\n",
       "<style scoped>\n",
       "    .dataframe tbody tr th:only-of-type {\n",
       "        vertical-align: middle;\n",
       "    }\n",
       "\n",
       "    .dataframe tbody tr th {\n",
       "        vertical-align: top;\n",
       "    }\n",
       "\n",
       "    .dataframe thead th {\n",
       "        text-align: right;\n",
       "    }\n",
       "</style>\n",
       "<table border=\"1\" class=\"dataframe\">\n",
       "  <thead>\n",
       "    <tr style=\"text-align: right;\">\n",
       "      <th></th>\n",
       "      <th>TIPO_EVENTO</th>\n",
       "      <th>DEPARTAMENTO</th>\n",
       "      <th>CODIGO_DANE_DEPARTAMENTO</th>\n",
       "      <th>MUNICIPIO</th>\n",
       "      <th>CODIGO_DANE_MUNICIPIO</th>\n",
       "      <th>AÑO</th>\n",
       "      <th>MES</th>\n",
       "      <th>EVENTO</th>\n",
       "      <th>TIPO_LUGAR</th>\n",
       "      <th>TIPO_AREA</th>\n",
       "      <th>LATITUD_CABECERA</th>\n",
       "      <th>LONGITUD_CABECERA</th>\n",
       "      <th>SITIO</th>\n",
       "      <th>UBICACION</th>\n",
       "    </tr>\n",
       "  </thead>\n",
       "  <tbody>\n",
       "    <tr>\n",
       "      <th>0</th>\n",
       "      <td>Sospecha de campo minado</td>\n",
       "      <td>ANTIOQUIA</td>\n",
       "      <td>5</td>\n",
       "      <td>BRICEÑO</td>\n",
       "      <td>5107</td>\n",
       "      <td>2015</td>\n",
       "      <td>5</td>\n",
       "      <td>Sin información</td>\n",
       "      <td>En cerca a edificio residencial</td>\n",
       "      <td>Rural</td>\n",
       "      <td>7.099828</td>\n",
       "      <td>-75.658672</td>\n",
       "      <td>Camino a Chirí 2</td>\n",
       "      <td>POINT (-75.65867172 7.099828)</td>\n",
       "    </tr>\n",
       "    <tr>\n",
       "      <th>1</th>\n",
       "      <td>Accidente por MAP</td>\n",
       "      <td>ANTIOQUIA</td>\n",
       "      <td>5</td>\n",
       "      <td>YOLOMBÓ</td>\n",
       "      <td>5890</td>\n",
       "      <td>2002</td>\n",
       "      <td>1</td>\n",
       "      <td>Sin información</td>\n",
       "      <td>Sin informacion</td>\n",
       "      <td>Rural</td>\n",
       "      <td>6.730556</td>\n",
       "      <td>-75.062500</td>\n",
       "      <td>Vereda San Rafael</td>\n",
       "      <td>POINT (-75.0625 6.730556)</td>\n",
       "    </tr>\n",
       "    <tr>\n",
       "      <th>2</th>\n",
       "      <td>Accidente por MAP</td>\n",
       "      <td>CAQUETA</td>\n",
       "      <td>18</td>\n",
       "      <td>SAN VICENTE DEL CAGUÁN</td>\n",
       "      <td>18753</td>\n",
       "      <td>2008</td>\n",
       "      <td>10</td>\n",
       "      <td>Sin información</td>\n",
       "      <td>Sin informacion</td>\n",
       "      <td>Rural</td>\n",
       "      <td>2.169444</td>\n",
       "      <td>-74.783889</td>\n",
       "      <td>Platanillo</td>\n",
       "      <td>POINT (-74.78388889 2.169444444)</td>\n",
       "    </tr>\n",
       "    <tr>\n",
       "      <th>3</th>\n",
       "      <td>Accidente por MAP</td>\n",
       "      <td>CALDAS</td>\n",
       "      <td>17</td>\n",
       "      <td>RIOSUCIO</td>\n",
       "      <td>17614</td>\n",
       "      <td>2006</td>\n",
       "      <td>3</td>\n",
       "      <td>Sin información</td>\n",
       "      <td>Sin informacion</td>\n",
       "      <td>Rural</td>\n",
       "      <td>5.424265</td>\n",
       "      <td>-75.703599</td>\n",
       "      <td>Vereda La Sierra</td>\n",
       "      <td>POINT (-75.703599 5.424265)</td>\n",
       "    </tr>\n",
       "    <tr>\n",
       "      <th>4</th>\n",
       "      <td>Accidente por MAP</td>\n",
       "      <td>CESAR</td>\n",
       "      <td>20</td>\n",
       "      <td>SAN ALBERTO</td>\n",
       "      <td>20710</td>\n",
       "      <td>1996</td>\n",
       "      <td>4</td>\n",
       "      <td>Sin información</td>\n",
       "      <td>Sin informacion</td>\n",
       "      <td>Rural</td>\n",
       "      <td>7.763693</td>\n",
       "      <td>-73.396100</td>\n",
       "      <td>Sin información</td>\n",
       "      <td>POINT (-73.3961001 7.76369293)</td>\n",
       "    </tr>\n",
       "  </tbody>\n",
       "</table>\n",
       "</div>"
      ],
      "text/plain": [
       "                TIPO_EVENTO DEPARTAMENTO  CODIGO_DANE_DEPARTAMENTO  \\\n",
       "0  Sospecha de campo minado    ANTIOQUIA                         5   \n",
       "1         Accidente por MAP    ANTIOQUIA                         5   \n",
       "2         Accidente por MAP      CAQUETA                        18   \n",
       "3         Accidente por MAP       CALDAS                        17   \n",
       "4         Accidente por MAP        CESAR                        20   \n",
       "\n",
       "                MUNICIPIO  CODIGO_DANE_MUNICIPIO   AÑO  MES           EVENTO  \\\n",
       "0                 BRICEÑO                   5107  2015    5  Sin información   \n",
       "1                 YOLOMBÓ                   5890  2002    1  Sin información   \n",
       "2  SAN VICENTE DEL CAGUÁN                  18753  2008   10  Sin información   \n",
       "3                RIOSUCIO                  17614  2006    3  Sin información   \n",
       "4             SAN ALBERTO                  20710  1996    4  Sin información   \n",
       "\n",
       "                        TIPO_LUGAR TIPO_AREA  LATITUD_CABECERA  \\\n",
       "0  En cerca a edificio residencial     Rural          7.099828   \n",
       "1                  Sin informacion     Rural          6.730556   \n",
       "2                  Sin informacion     Rural          2.169444   \n",
       "3                  Sin informacion     Rural          5.424265   \n",
       "4                  Sin informacion     Rural          7.763693   \n",
       "\n",
       "   LONGITUD_CABECERA              SITIO                         UBICACION  \n",
       "0         -75.658672   Camino a Chirí 2     POINT (-75.65867172 7.099828)  \n",
       "1         -75.062500  Vereda San Rafael         POINT (-75.0625 6.730556)  \n",
       "2         -74.783889         Platanillo  POINT (-74.78388889 2.169444444)  \n",
       "3         -75.703599   Vereda La Sierra       POINT (-75.703599 5.424265)  \n",
       "4         -73.396100    Sin información    POINT (-73.3961001 7.76369293)  "
      ]
     },
     "execution_count": 7,
     "metadata": {},
     "output_type": "execute_result"
    }
   ],
   "source": [
    "casos.head()"
   ]
  },
  {
   "cell_type": "code",
   "execution_count": 8,
   "metadata": {
    "executionInfo": {
     "elapsed": 6235,
     "status": "ok",
     "timestamp": 1605571171300,
     "user": {
      "displayName": "Andrés Felipe Zapata Palacio",
      "photoUrl": "https://lh3.googleusercontent.com/a-/AOh14Gg27ktUZjg3Y67XH7nk7T5SVNYSn7FVSbaInnj5WQ=s64",
      "userId": "08596469446073364407"
     },
     "user_tz": 300
    },
    "id": "aajPnT7QCevb"
   },
   "outputs": [],
   "source": [
    "import matplotlib.pyplot as plt\n",
    "import numpy as np\n",
    "import swifter"
   ]
  },
  {
   "cell_type": "code",
   "execution_count": 9,
   "metadata": {
    "executionInfo": {
     "elapsed": 6634,
     "status": "ok",
     "timestamp": 1605571171723,
     "user": {
      "displayName": "Andrés Felipe Zapata Palacio",
      "photoUrl": "https://lh3.googleusercontent.com/a-/AOh14Gg27ktUZjg3Y67XH7nk7T5SVNYSn7FVSbaInnj5WQ=s64",
      "userId": "08596469446073364407"
     },
     "user_tz": 300
    },
    "id": "5XH88UZh8r0a"
   },
   "outputs": [],
   "source": [
    "def agregarCasosVictimas(df,nMonthsBefore):\n",
    "  #getPreviousDate(currentDate, nMonthsBefore)\n",
    "  colName = \"CASOS_MES_\" + str(nMonthsBefore)\n",
    "  df[colName] = educacion.swifter.apply(lambda x: len(filterData(casos,x[\"CODIGO_DANE_MUNICIPIO\"],getPreviousDate((x[\"FECHA_INICIO\"].month,x[\"FECHA_INICIO\"].year),nMonthsBefore))), axis=1)\n",
    "  return df"
   ]
  },
  {
   "cell_type": "code",
   "execution_count": 10,
   "metadata": {
    "colab": {
     "base_uri": "https://localhost:8080/"
    },
    "executionInfo": {
     "elapsed": 279898,
     "status": "ok",
     "timestamp": 1605571444992,
     "user": {
      "displayName": "Andrés Felipe Zapata Palacio",
      "photoUrl": "https://lh3.googleusercontent.com/a-/AOh14Gg27ktUZjg3Y67XH7nk7T5SVNYSn7FVSbaInnj5WQ=s64",
      "userId": "08596469446073364407"
     },
     "user_tz": 300
    },
    "id": "jsRQUdYB9gBw",
    "outputId": "17ae8069-8959-43c4-9253-1c951853740f",
    "scrolled": true
   },
   "outputs": [
    {
     "name": "stdout",
     "output_type": "stream",
     "text": [
      "4 / -4\n"
     ]
    },
    {
     "data": {
      "application/vnd.jupyter.widget-view+json": {
       "model_id": "ead7fabb2a8a45e7b7991135b19db55c",
       "version_major": 2,
       "version_minor": 0
      },
      "text/plain": [
       "HBox(children=(HTML(value='Pandas Apply'), FloatProgress(value=0.0, max=15064.0), HTML(value='')))"
      ]
     },
     "metadata": {},
     "output_type": "display_data"
    },
    {
     "name": "stdout",
     "output_type": "stream",
     "text": [
      "\n",
      "3 / -4\n"
     ]
    },
    {
     "data": {
      "application/vnd.jupyter.widget-view+json": {
       "model_id": "dcda5b0c351d444d948ea6a5de4cf0d5",
       "version_major": 2,
       "version_minor": 0
      },
      "text/plain": [
       "HBox(children=(HTML(value='Pandas Apply'), FloatProgress(value=0.0, max=15064.0), HTML(value='')))"
      ]
     },
     "metadata": {},
     "output_type": "display_data"
    },
    {
     "name": "stdout",
     "output_type": "stream",
     "text": [
      "\n",
      "2 / -4\n"
     ]
    },
    {
     "data": {
      "application/vnd.jupyter.widget-view+json": {
       "model_id": "1688d414e0ed40619882e6a1f13f7ee2",
       "version_major": 2,
       "version_minor": 0
      },
      "text/plain": [
       "HBox(children=(HTML(value='Pandas Apply'), FloatProgress(value=0.0, max=15064.0), HTML(value='')))"
      ]
     },
     "metadata": {},
     "output_type": "display_data"
    },
    {
     "name": "stdout",
     "output_type": "stream",
     "text": [
      "\n",
      "1 / -4\n"
     ]
    },
    {
     "data": {
      "application/vnd.jupyter.widget-view+json": {
       "model_id": "dc4847f216c745c089af9a12bf2c3b32",
       "version_major": 2,
       "version_minor": 0
      },
      "text/plain": [
       "HBox(children=(HTML(value='Pandas Apply'), FloatProgress(value=0.0, max=15064.0), HTML(value='')))"
      ]
     },
     "metadata": {},
     "output_type": "display_data"
    },
    {
     "name": "stdout",
     "output_type": "stream",
     "text": [
      "\n",
      "0 / -4\n"
     ]
    },
    {
     "data": {
      "application/vnd.jupyter.widget-view+json": {
       "model_id": "47bfede242f34e4fa2c3d03d4794652e",
       "version_major": 2,
       "version_minor": 0
      },
      "text/plain": [
       "HBox(children=(HTML(value='Pandas Apply'), FloatProgress(value=0.0, max=15064.0), HTML(value='')))"
      ]
     },
     "metadata": {},
     "output_type": "display_data"
    },
    {
     "name": "stdout",
     "output_type": "stream",
     "text": [
      "\n",
      "-1 / -4\n"
     ]
    },
    {
     "data": {
      "application/vnd.jupyter.widget-view+json": {
       "model_id": "97b3b264d26f4b9d9e94c133f17bbd7f",
       "version_major": 2,
       "version_minor": 0
      },
      "text/plain": [
       "HBox(children=(HTML(value='Pandas Apply'), FloatProgress(value=0.0, max=15064.0), HTML(value='')))"
      ]
     },
     "metadata": {},
     "output_type": "display_data"
    },
    {
     "name": "stdout",
     "output_type": "stream",
     "text": [
      "\n",
      "-2 / -4\n"
     ]
    },
    {
     "data": {
      "application/vnd.jupyter.widget-view+json": {
       "model_id": "3213cb6b1f9941cc9ed023c903af982c",
       "version_major": 2,
       "version_minor": 0
      },
      "text/plain": [
       "HBox(children=(HTML(value='Pandas Apply'), FloatProgress(value=0.0, max=15064.0), HTML(value='')))"
      ]
     },
     "metadata": {},
     "output_type": "display_data"
    },
    {
     "name": "stdout",
     "output_type": "stream",
     "text": [
      "\n",
      "-3 / -4\n"
     ]
    },
    {
     "data": {
      "application/vnd.jupyter.widget-view+json": {
       "model_id": "88a53c51aa5146a19a900b0611c77c34",
       "version_major": 2,
       "version_minor": 0
      },
      "text/plain": [
       "HBox(children=(HTML(value='Pandas Apply'), FloatProgress(value=0.0, max=15064.0), HTML(value='')))"
      ]
     },
     "metadata": {},
     "output_type": "display_data"
    },
    {
     "name": "stdout",
     "output_type": "stream",
     "text": [
      "\n",
      "-4 / -4\n"
     ]
    },
    {
     "data": {
      "application/vnd.jupyter.widget-view+json": {
       "model_id": "de35b5fa11654840aa479c4ce12604aa",
       "version_major": 2,
       "version_minor": 0
      },
      "text/plain": [
       "HBox(children=(HTML(value='Pandas Apply'), FloatProgress(value=0.0, max=15064.0), HTML(value='')))"
      ]
     },
     "metadata": {},
     "output_type": "display_data"
    },
    {
     "name": "stdout",
     "output_type": "stream",
     "text": [
      "\n"
     ]
    }
   ],
   "source": [
    "edu = educacion\n",
    "for i in range(4,-5,-1):\n",
    "  print(i,\"/\",-4)\n",
    "  edu = agregarCasosVictimas(edu,i)"
   ]
  },
  {
   "cell_type": "code",
   "execution_count": 11,
   "metadata": {
    "colab": {
     "base_uri": "https://localhost:8080/",
     "height": 756
    },
    "executionInfo": {
     "elapsed": 279897,
     "status": "ok",
     "timestamp": 1605571445002,
     "user": {
      "displayName": "Andrés Felipe Zapata Palacio",
      "photoUrl": "https://lh3.googleusercontent.com/a-/AOh14Gg27ktUZjg3Y67XH7nk7T5SVNYSn7FVSbaInnj5WQ=s64",
      "userId": "08596469446073364407"
     },
     "user_tz": 300
    },
    "id": "IxVwYeoQBvB3",
    "outputId": "c7c7d74f-b3e9-4ea3-bf63-2647787392e1"
   },
   "outputs": [],
   "source": [
    "def agregarTasaCrecimiento(df,n1,n2):\n",
    "    n1, n2 = str(n1), str(n2)\n",
    "    colName = \"INCR_CASOS_\" + n1 + \"_\" + n2\n",
    "    col1 = \"CASOS_MES_\" + n1\n",
    "    col2 = \"CASOS_MES_\" + n2\n",
    "    df[colName] = df.swifter.apply(lambda x: (x[col2]-x[col1]), axis=1)\n",
    "    return df"
   ]
  },
  {
   "cell_type": "code",
   "execution_count": 12,
   "metadata": {},
   "outputs": [],
   "source": [
    "for month in range(-4,4):\n",
    "    nextMonth = month+1\n",
    "    edu = agregarTasaCrecimiento(edu,month,nextMonth)"
   ]
  },
  {
   "cell_type": "markdown",
   "metadata": {},
   "source": [
    "### Remoción de registros sin casos\n",
    "\n",
    "Antes de ejecutar el análisis estadístico se decidió remover los registros en los que había 0 casos en la ventana de tiempo del análisis (antes,durante y despues del evento) para analizar las correlaciones de crecimiento. "
   ]
  },
  {
   "cell_type": "code",
   "execution_count": 13,
   "metadata": {},
   "outputs": [],
   "source": [
    "pref = 'CASOS_MES_'\n",
    "mask = (educacion['ORGANIZACIÓN'] == 'thisOrgDoesntExist')\n",
    "for i in range(-4,4):\n",
    "    col = pref + str(i)\n",
    "    mask = mask | (edu[col] != 0)\n",
    "edu = edu[mask]"
   ]
  },
  {
   "cell_type": "markdown",
   "metadata": {
    "id": "IZeWc3QB9A3M"
   },
   "source": [
    "## Análisis Estadístico"
   ]
  },
  {
   "cell_type": "code",
   "execution_count": 14,
   "metadata": {
    "executionInfo": {
     "elapsed": 279886,
     "status": "ok",
     "timestamp": 1605571445005,
     "user": {
      "displayName": "Andrés Felipe Zapata Palacio",
      "photoUrl": "https://lh3.googleusercontent.com/a-/AOh14Gg27ktUZjg3Y67XH7nk7T5SVNYSn7FVSbaInnj5WQ=s64",
      "userId": "08596469446073364407"
     },
     "user_tz": 300
    },
    "id": "kXa5DfGA-3uy"
   },
   "outputs": [],
   "source": [
    "import pandas as _pd\n",
    "import numpy as _np\n",
    "\n",
    "from matplotlib import pyplot as plt\n",
    "from matplotlib.collections import EllipseCollection\n",
    "def plot_corr_ellipses(data, ax=None, **kwargs):\n",
    "\n",
    "    M = _np.array(data)\n",
    "    if not M.ndim == 2:\n",
    "        raise ValueError('data must be a 2D array')\n",
    "    if ax is None:\n",
    "        fig, ax = plt.subplots(1, 1, subplot_kw={'aspect':'equal'})\n",
    "        ax.set_xlim(-0.5, M.shape[1] - 0.5)\n",
    "        ax.set_ylim(-0.5, M.shape[0] - 0.5)\n",
    "\n",
    "    # xy locations of each ellipse center\n",
    "    xy = _np.indices(M.shape)[::-1].reshape(2, -1).T\n",
    "\n",
    "    # set the relative sizes of the major/minor axes according to the strength of\n",
    "    # the positive/negative correlation\n",
    "    w = _np.ones_like(M).ravel()\n",
    "    h = 1 - _np.abs(M).ravel()\n",
    "    a = 45 * _np.sign(M).ravel()\n",
    "\n",
    "    ec = EllipseCollection(widths=w, heights=h, angles=a, units='x', offsets=xy,\n",
    "                           transOffset=ax.transData, array=M.ravel(), **kwargs)\n",
    "    ax.add_collection(ec)\n",
    "\n",
    "    # if data is a DataFrame, use the row/column names as tick labels\n",
    "    if isinstance(data, _pd.DataFrame):\n",
    "        ax.set_xticks(_np.arange(M.shape[1]))\n",
    "        ax.set_xticklabels(data.columns, rotation=90)\n",
    "        ax.set_yticks(_np.arange(M.shape[0]))\n",
    "        ax.set_yticklabels(data.index)\n",
    "\n",
    "    return ec\n",
    "\n",
    "\n",
    "def corr_partial(df):\n",
    "    S = df.cov()\n",
    "    S_1 = _np.linalg.inv(S)\n",
    "    diag_matrix_s_1_sqrt = _np.diag(1/_np.sqrt(_np.diag(S_1)))\n",
    "    ones_mask=-_np.ones((len(S),len(S)))\n",
    "    _np.fill_diagonal(ones_mask,_np.ones(len(S)))\n",
    "    almost_P = diag_matrix_s_1_sqrt@S_1@diag_matrix_s_1_sqrt\n",
    "    return _pd.DataFrame(_np.multiply(ones_mask,almost_P), columns = df.columns, index = df.columns)\n",
    "\n",
    "def R_2(df):\n",
    "  if isinstance(df, _pd.DataFrame):\n",
    "    df = df.to_numpy()\n",
    "  S = _np.cov(df, rowvar=False)\n",
    "  S_inv = _np.linalg.inv(S)\n",
    "  return 1 - (1/(_np.diag(S)*_np.diag(S_inv)))"
   ]
  },
  {
   "cell_type": "code",
   "execution_count": 15,
   "metadata": {
    "executionInfo": {
     "elapsed": 527,
     "status": "ok",
     "timestamp": 1605578501400,
     "user": {
      "displayName": "Andrés Felipe Zapata Palacio",
      "photoUrl": "https://lh3.googleusercontent.com/a-/AOh14Gg27ktUZjg3Y67XH7nk7T5SVNYSn7FVSbaInnj5WQ=s64",
      "userId": "08596469446073364407"
     },
     "user_tz": 300
    },
    "id": "L2k_mXTPk3g6"
   },
   "outputs": [],
   "source": [
    "cols = [\n",
    "    'CASOS_MES_-4','CASOS_MES_-3','CASOS_MES_-2','CASOS_MES_-1',\n",
    "    'CASOS_MES_0','CASOS_MES_1','CASOS_MES_2','CASOS_MES_3','CASOS_MES_4',\n",
    "      ]\n",
    "edu_casos = edu[cols]\n",
    "r2_casos = R_2(edu_casos)\n",
    "corr_casos = edu_casos.corr()"
   ]
  },
  {
   "cell_type": "code",
   "execution_count": 16,
   "metadata": {},
   "outputs": [],
   "source": [
    "cols = [\n",
    "    'INCR_CASOS_-4_-3','INCR_CASOS_-3_-2','INCR_CASOS_-2_-1','INCR_CASOS_-1_0',\n",
    "    'INCR_CASOS_0_1','INCR_CASOS_1_2','INCR_CASOS_2_3','INCR_CASOS_3_4'\n",
    "      ]\n",
    "edu_increm_casos = edu[cols]\n",
    "r2_increm_casos = R_2(edu_increm_casos)\n",
    "corr_increm_casos = edu_increm_casos.corr()"
   ]
  },
  {
   "cell_type": "markdown",
   "metadata": {},
   "source": [
    "### I. Correlación simple del n° de casos de MAP antes, durante y después del mes del evento educativo"
   ]
  },
  {
   "cell_type": "code",
   "execution_count": 17,
   "metadata": {},
   "outputs": [
    {
     "data": {
      "text/plain": [
       "['a', 'b', 'c']"
      ]
     },
     "execution_count": 17,
     "metadata": {},
     "output_type": "execute_result"
    }
   ],
   "source": [
    "'a_b_c'.split('_')"
   ]
  },
  {
   "cell_type": "code",
   "execution_count": 18,
   "metadata": {
    "colab": {
     "base_uri": "https://localhost:8080/",
     "height": 361
    },
    "executionInfo": {
     "elapsed": 1173,
     "status": "ok",
     "timestamp": 1605578400454,
     "user": {
      "displayName": "Andrés Felipe Zapata Palacio",
      "photoUrl": "https://lh3.googleusercontent.com/a-/AOh14Gg27ktUZjg3Y67XH7nk7T5SVNYSn7FVSbaInnj5WQ=s64",
      "userId": "08596469446073364407"
     },
     "user_tz": 300
    },
    "id": "RI9vLG4b-Rva",
    "outputId": "d6a77abe-2b7a-4352-b0d1-9767c3975090"
   },
   "outputs": [
    {
     "data": {
      "image/png": "[encoded data removed]",
      "text/plain": [
       "<Figure size 432x288 with 1 Axes>"
      ]
     },
     "metadata": {
      "needs_background": "light"
     },
     "output_type": "display_data"
    }
   ],
   "source": [
    "_ = plot_corr_ellipses(corr_casos,cmap='Greens')"
   ]
  },
  {
   "cell_type": "markdown",
   "metadata": {},
   "source": [
    "### II. Correlación parcial del n° de casos de MAP antes, durante y después del mes del evento educativo"
   ]
  },
  {
   "cell_type": "code",
   "execution_count": 19,
   "metadata": {
    "colab": {
     "base_uri": "https://localhost:8080/"
    },
    "executionInfo": {
     "elapsed": 778,
     "status": "ok",
     "timestamp": 1605578415886,
     "user": {
      "displayName": "Andrés Felipe Zapata Palacio",
      "photoUrl": "https://lh3.googleusercontent.com/a-/AOh14Gg27ktUZjg3Y67XH7nk7T5SVNYSn7FVSbaInnj5WQ=s64",
      "userId": "08596469446073364407"
     },
     "user_tz": 300
    },
    "id": "cvJDRf1I-Vfz",
    "outputId": "e9a51e40-7208-46da-8e84-e044d7f4dc4c"
   },
   "outputs": [
    {
     "data": {
      "text/plain": [
       "0.0004773477375713142"
      ]
     },
     "execution_count": 19,
     "metadata": {},
     "output_type": "execute_result"
    }
   ],
   "source": [
    "np.linalg.det(corr_casos)"
   ]
  },
  {
   "cell_type": "code",
   "execution_count": 20,
   "metadata": {
    "executionInfo": {
     "elapsed": 1239,
     "status": "ok",
     "timestamp": 1605578419120,
     "user": {
      "displayName": "Andrés Felipe Zapata Palacio",
      "photoUrl": "https://lh3.googleusercontent.com/a-/AOh14Gg27ktUZjg3Y67XH7nk7T5SVNYSn7FVSbaInnj5WQ=s64",
      "userId": "08596469446073364407"
     },
     "user_tz": 300
    },
    "id": "kVRrzSfz-cJ8"
   },
   "outputs": [],
   "source": [
    "partial_corr_casos = corr_partial(edu_casos)"
   ]
  },
  {
   "cell_type": "code",
   "execution_count": 21,
   "metadata": {
    "colab": {
     "base_uri": "https://localhost:8080/",
     "height": 361
    },
    "executionInfo": {
     "elapsed": 865,
     "status": "ok",
     "timestamp": 1605578420242,
     "user": {
      "displayName": "Andrés Felipe Zapata Palacio",
      "photoUrl": "https://lh3.googleusercontent.com/a-/AOh14Gg27ktUZjg3Y67XH7nk7T5SVNYSn7FVSbaInnj5WQ=s64",
      "userId": "08596469446073364407"
     },
     "user_tz": 300
    },
    "id": "Pm7FGBOM-qb4",
    "outputId": "25551e9f-4dce-4189-da2e-cc87ebb203bd"
   },
   "outputs": [
    {
     "data": {
      "text/plain": [
       "<matplotlib.collections.EllipseCollection at 0x7f878c94c100>"
      ]
     },
     "execution_count": 21,
     "metadata": {},
     "output_type": "execute_result"
    },
    {
     "data": {
      "image/png": "[encoded data removed]",
      "text/plain": [
       "<Figure size 432x288 with 1 Axes>"
      ]
     },
     "metadata": {
      "needs_background": "light"
     },
     "output_type": "display_data"
    }
   ],
   "source": [
    "plot_corr_ellipses(partial_corr_casos, cmap='Greens')"
   ]
  },
  {
   "cell_type": "markdown",
   "metadata": {},
   "source": [
    "### III. Correlación simple del incremento en el n° de casos de MAP antes, durante y después del mes del evento educativo"
   ]
  },
  {
   "cell_type": "code",
   "execution_count": 22,
   "metadata": {},
   "outputs": [
    {
     "data": {
      "image/png": "[encoded data removed]",
      "text/plain": [
       "<Figure size 432x288 with 1 Axes>"
      ]
     },
     "metadata": {
      "needs_background": "light"
     },
     "output_type": "display_data"
    }
   ],
   "source": [
    "_ = plot_corr_ellipses(corr_increm_casos,cmap='Greens')"
   ]
  },
  {
   "cell_type": "markdown",
   "metadata": {
    "id": "lF8AOXEihRVT"
   },
   "source": [
    "### IV. Correlación parcial del incremento en el n° de casos de MAP antes, durante y después del mes del evento educativo"
   ]
  },
  {
   "cell_type": "code",
   "execution_count": 23,
   "metadata": {},
   "outputs": [
    {
     "data": {
      "text/plain": [
       "0.055968888278575296"
      ]
     },
     "execution_count": 23,
     "metadata": {},
     "output_type": "execute_result"
    }
   ],
   "source": [
    "np.linalg.det(corr_increm_casos)"
   ]
  },
  {
   "cell_type": "code",
   "execution_count": 24,
   "metadata": {},
   "outputs": [],
   "source": [
    "partial_corr_increm = corr_partial(edu_increm_casos)"
   ]
  },
  {
   "cell_type": "code",
   "execution_count": 25,
   "metadata": {},
   "outputs": [
    {
     "data": {
      "text/plain": [
       "<matplotlib.collections.EllipseCollection at 0x7f8764151ee0>"
      ]
     },
     "execution_count": 25,
     "metadata": {},
     "output_type": "execute_result"
    },
    {
     "data": {
      "image/png": "[encoded data removed]",
      "text/plain": [
       "<Figure size 432x288 with 1 Axes>"
      ]
     },
     "metadata": {
      "needs_background": "light"
     },
     "output_type": "display_data"
    }
   ],
   "source": [
    "plot_corr_ellipses(partial_corr_increm, cmap='Greens')"
   ]
  },
  {
   "cell_type": "markdown",
   "metadata": {},
   "source": [
    "### V. Analisis de los R²"
   ]
  },
  {
   "cell_type": "code",
   "execution_count": 26,
   "metadata": {},
   "outputs": [
    {
     "data": {
      "text/plain": [
       "array([0.58993649, 0.67122638, 0.51925405, 0.70824101, 0.72882913,\n",
       "       0.7525646 , 0.68886738, 0.74635696, 0.69925796])"
      ]
     },
     "execution_count": 26,
     "metadata": {},
     "output_type": "execute_result"
    }
   ],
   "source": [
    "r2_casos"
   ]
  },
  {
   "cell_type": "code",
   "execution_count": 27,
   "metadata": {},
   "outputs": [
    {
     "data": {
      "text/plain": [
       "array([0.39761612, 0.74097705, 0.80820215, 0.55541832, 0.57718704,\n",
       "       0.55542064, 0.54249717, 0.30955656])"
      ]
     },
     "execution_count": 27,
     "metadata": {},
     "output_type": "execute_result"
    }
   ],
   "source": [
    "r2_increm_casos"
   ]
  },
  {
   "cell_type": "markdown",
   "metadata": {},
   "source": [
    "# Análisis de los resultados obtenidos"
   ]
  },
  {
   "cell_type": "code",
   "execution_count": 28,
   "metadata": {},
   "outputs": [],
   "source": [
    "def analizeIncrement(edu,periodA,periodB,debug=False):\n",
    "    prefix = 'INCR_CASOS_'\n",
    "    fieldA,fieldB = prefix + periodA, prefix + periodB\n",
    "    n_greater = len(edu[edu[fieldA] >  edu[fieldB]])\n",
    "    n_lower   = len(edu[edu[fieldA] <  edu[fieldB]])\n",
    "    n_equal   = len(edu[edu[fieldA] == edu[fieldB]])\n",
    "    if debug == True:\n",
    "        print('Analisis Incremento:',periodA,'-', periodB)\n",
    "        print('\\t <<< ',n_greater,'\\t >>> ',n_lower,'\\t===',n_equal)\n",
    "    return n_greater, n_lower, n_equal"
   ]
  },
  {
   "cell_type": "code",
   "execution_count": 29,
   "metadata": {},
   "outputs": [],
   "source": [
    "def analizeNumberOfCases(edu,periodA,periodB,debug=False):\n",
    "    prefix = 'CASOS_MES_'\n",
    "    fieldA,fieldB = prefix + periodA, prefix + periodB\n",
    "    n_greater = len(edu[edu[fieldA] >  edu[fieldB]])\n",
    "    n_lower   = len(edu[edu[fieldA] <  edu[fieldB]])\n",
    "    n_equal   = len(edu[edu[fieldA] == edu[fieldB]])\n",
    "    if debug == True:\n",
    "        print('Analisis N° Casos:',periodA,'-', periodB)\n",
    "        print('\\t <<< ',n_greater,'\\t >>> ',n_lower,'\\t===',n_equal)\n",
    "    return n_greater, n_lower, n_equal"
   ]
  },
  {
   "cell_type": "code",
   "execution_count": 34,
   "metadata": {},
   "outputs": [],
   "source": [
    "data = educacion\n",
    "pref = 'CASOS_MES_'\n",
    "mask = (data['ORGANIZACIÓN'] == 'thisOrgDoesntExist')\n",
    "for i in range(-4,4):\n",
    "    col = pref + str(i)\n",
    "    mask = mask | (data[col] != 0)\n",
    "data = data[mask]"
   ]
  },
  {
   "cell_type": "code",
   "execution_count": 35,
   "metadata": {},
   "outputs": [
    {
     "name": "stdout",
     "output_type": "stream",
     "text": [
      "Analisis Incremento: -4_-3 - -3_-2\n",
      "\t <<<  1832 \t >>>  2665 \t=== 2514\n",
      "Analisis Incremento: -3_-2 - -2_-1\n",
      "\t <<<  1877 \t >>>  2617 \t=== 2517\n",
      "Analisis Incremento: -2_-1 - -1_0\n",
      "\t <<<  1726 \t >>>  2940 \t=== 2345\n",
      "Analisis Incremento: -1_0 - 0_1\n",
      "\t <<<  2028 \t >>>  2628 \t=== 2355\n",
      "Analisis Incremento: 0_1 - 1_2\n",
      "\t <<<  2156 \t >>>  2793 \t=== 2062\n",
      "Analisis Incremento: 1_2 - 2_3\n",
      "\t <<<  1912 \t >>>  3164 \t=== 1935\n",
      "Analisis Incremento: 2_3 - 3_4\n",
      "\t <<<  2227 \t >>>  2568 \t=== 2216\n"
     ]
    }
   ],
   "source": [
    "for i in range(-4,3):\n",
    "    a = str(i) + '_' + str(i+1)\n",
    "    b = str(i+1) + '_' + str(i+2)\n",
    "    _ = analizeIncrement(data,a,b,debug=True)"
   ]
  },
  {
   "cell_type": "code",
   "execution_count": 38,
   "metadata": {},
   "outputs": [
    {
     "name": "stdout",
     "output_type": "stream",
     "text": [
      "Analisis N° Casos: -4 - -3\n",
      "\t <<<  1571 \t >>>  1978 \t=== 3462\n",
      "Analisis N° Casos: -3 - -2\n",
      "\t <<<  1675 \t >>>  1882 \t=== 3454\n",
      "Analisis N° Casos: -2 - -1\n",
      "\t <<<  1814 \t >>>  1839 \t=== 3358\n",
      "Analisis N° Casos: -1 - 0\n",
      "\t <<<  1590 \t >>>  2274 \t=== 3147\n",
      "Analisis N° Casos: 0 - 1\n",
      "\t <<<  1943 \t >>>  2216 \t=== 2852\n",
      "Analisis N° Casos: 1 - 2\n",
      "\t <<<  2267 \t >>>  1886 \t=== 2858\n",
      "Analisis N° Casos: 2 - 3\n",
      "\t <<<  1762 \t >>>  2079 \t=== 3170\n"
     ]
    }
   ],
   "source": [
    "for i in range(-4,3):\n",
    "    a = str(i)\n",
    "    b = str(i+1)\n",
    "    _ = analizeNumberOfCases(data,a,b,debug=True)"
   ]
  },
  {
   "cell_type": "code",
   "execution_count": null,
   "metadata": {},
   "outputs": [],
   "source": []
  }
 ],
 "metadata": {
  "colab": {
   "authorship_tag": "ABX9TyM4qQovgcXRsI5DqxZWzmry",
   "collapsed_sections": [],
   "name": "ExploracionMinas.ipynb",
   "provenance": []
  },
  "kernelspec": {
   "display_name": "Python 3",
   "language": "python",
   "name": "python3"
  },
  "language_info": {
   "codemirror_mode": {
    "name": "ipython",
    "version": 3
   },
   "file_extension": ".py",
   "mimetype": "text/x-python",
   "name": "python",
   "nbconvert_exporter": "python",
   "pygments_lexer": "ipython3",
   "version": "3.8.5"
  }
 },
 "nbformat": 4,
 "nbformat_minor": 1
}
