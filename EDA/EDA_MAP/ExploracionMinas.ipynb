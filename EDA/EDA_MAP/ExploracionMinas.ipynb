{
 "cells": [
  {
   "cell_type": "markdown",
   "metadata": {},
   "source": [
    "# Análisis alrededor de eventos educativos para la prevención de accidentes con Minas Antipersonales (MAP)\n",
    "\n",
    "Análisis exploratorio y estadístico de los eventos educativos así como el comportamiento en el número de casos antes, durante y despues de los mismos\n",
    "\n",
    "## Dependencias\n",
    "\n",
    "* Pandas\n",
    "* Seaborn\n",
    "* Matplotlib\n",
    "* Swifter\n",
    "* numpy\n",
    "* math"
   ]
  },
  {
   "cell_type": "markdown",
   "metadata": {},
   "source": [
    "## 1. Obtención y limpieza de los datos"
   ]
  },
  {
   "cell_type": "code",
   "execution_count": 1,
   "metadata": {
    "executionInfo": {
     "elapsed": 5642,
     "status": "ok",
     "timestamp": 1605571170658,
     "user": {
      "displayName": "Andrés Felipe Zapata Palacio",
      "photoUrl": "https://lh3.googleusercontent.com/a-/AOh14Gg27ktUZjg3Y67XH7nk7T5SVNYSn7FVSbaInnj5WQ=s64",
      "userId": "08596469446073364407"
     },
     "user_tz": 300
    },
    "id": "6JpXIckcDinL"
   },
   "outputs": [],
   "source": [
    "#!wget 'https://www.datos.gov.co/api/views/4nyw-8qqq/rows.csv?accessType=DOWNLOAD' -O 'EducacionRiesgoMinas.csv'  &> /dev/null\n",
    "#!wget 'https://www.datos.gov.co/api/views/sgp4-3e6k/rows.csv?accessType=DOWNLOAD' -O 'EventosMinas.csv' &> /dev/null\n",
    "#!wget 'https://www.datos.gov.co/api/views/xdk5-pm3f/rows.csv?accessType=DOWNLOAD' -O 'MunicipiosDANE.csv' &> /dev/null"
   ]
  },
  {
   "cell_type": "code",
   "execution_count": 2,
   "metadata": {
    "executionInfo": {
     "elapsed": 5632,
     "status": "ok",
     "timestamp": 1605571170662,
     "user": {
      "displayName": "Andrés Felipe Zapata Palacio",
      "photoUrl": "https://lh3.googleusercontent.com/a-/AOh14Gg27ktUZjg3Y67XH7nk7T5SVNYSn7FVSbaInnj5WQ=s64",
      "userId": "08596469446073364407"
     },
     "user_tz": 300
    },
    "id": "Vj02-6xdEVaL"
   },
   "outputs": [],
   "source": [
    "import pandas as pd"
   ]
  },
  {
   "cell_type": "code",
   "execution_count": 3,
   "metadata": {
    "executionInfo": {
     "elapsed": 5925,
     "status": "ok",
     "timestamp": 1605571170962,
     "user": {
      "displayName": "Andrés Felipe Zapata Palacio",
      "photoUrl": "https://lh3.googleusercontent.com/a-/AOh14Gg27ktUZjg3Y67XH7nk7T5SVNYSn7FVSbaInnj5WQ=s64",
      "userId": "08596469446073364407"
     },
     "user_tz": 300
    },
    "id": "qblT8HQhD7fy"
   },
   "outputs": [],
   "source": [
    "educacion  = pd.read_csv('EducacionRiesgoMinas.csv')\n",
    "casos      = pd.read_csv('EventosMinas.csv')\n",
    "municipios = pd.read_csv('MunicipiosDANE.csv')"
   ]
  },
  {
   "cell_type": "code",
   "execution_count": 4,
   "metadata": {
    "executionInfo": {
     "elapsed": 6252,
     "status": "ok",
     "timestamp": 1605571171294,
     "user": {
      "displayName": "Andrés Felipe Zapata Palacio",
      "photoUrl": "https://lh3.googleusercontent.com/a-/AOh14Gg27ktUZjg3Y67XH7nk7T5SVNYSn7FVSbaInnj5WQ=s64",
      "userId": "08596469446073364407"
     },
     "user_tz": 300
    },
    "id": "_VFPHokgKRTs"
   },
   "outputs": [],
   "source": [
    "educacion[\"FECHA_FINALIZACION\"] = pd.to_datetime(educacion[\"FECHA_FINALIZACION\"])\n",
    "educacion[\"FECHA_INICIO\"] = pd.to_datetime(educacion[\"FECHA_INICIO\"], format=\"%m/%d/%Y %I:%M:%S %p\", infer_datetime_format=False)   # 11/13/2019 12:00:00 AM    \"%m/%d/%Y %I:%M:%S %p\"\n",
    "educacion[\"DURACION\"] = educacion[\"FECHA_FINALIZACION\"] - educacion[\"FECHA_INICIO\"]\n",
    "educacion[\"DURACION\"] = educacion[\"DURACION\"].apply(lambda x: x.days+1)\n",
    "educacion = educacion[educacion[\"DURACION\"] == 1]"
   ]
  },
  {
   "cell_type": "markdown",
   "metadata": {},
   "source": [
    "## a. Funciones auxiliares"
   ]
  },
  {
   "cell_type": "code",
   "execution_count": 37,
   "metadata": {
    "executionInfo": {
     "elapsed": 6247,
     "status": "ok",
     "timestamp": 1605571171296,
     "user": {
      "displayName": "Andrés Felipe Zapata Palacio",
      "photoUrl": "https://lh3.googleusercontent.com/a-/AOh14Gg27ktUZjg3Y67XH7nk7T5SVNYSn7FVSbaInnj5WQ=s64",
      "userId": "08596469446073364407"
     },
     "user_tz": 300
    },
    "id": "4m9RTrWJHQVN"
   },
   "outputs": [],
   "source": [
    "# date: month,year\n",
    "def filterData(df, mun_dane_code=None, date=(None,None)):\n",
    "  victimas = df\n",
    "  month, year = date\n",
    "  if month != None and year != None:\n",
    "    victimas = victimas[(victimas[\"AÑO\"]==year) & (victimas[\"MES\"]==month)]\n",
    "  if mun_dane_code != None:\n",
    "    victimas = victimas[victimas[\"CODIGO_DANE_MUNICIPIO\"] == mun_dane_code]\n",
    "  victimas = victimas[victimas['TIPO_EVENTO'] == 'Accidente por MAP']\n",
    "  return victimas\n"
   ]
  },
  {
   "cell_type": "code",
   "execution_count": 38,
   "metadata": {
    "executionInfo": {
     "elapsed": 6244,
     "status": "ok",
     "timestamp": 1605571171298,
     "user": {
      "displayName": "Andrés Felipe Zapata Palacio",
      "photoUrl": "https://lh3.googleusercontent.com/a-/AOh14Gg27ktUZjg3Y67XH7nk7T5SVNYSn7FVSbaInnj5WQ=s64",
      "userId": "08596469446073364407"
     },
     "user_tz": 300
    },
    "id": "yRdjy7EMo3S1"
   },
   "outputs": [],
   "source": [
    "import math\n",
    "\n",
    "# currentDate: month,year\n",
    "def getPreviousDate(currentDate, nMonthsBefore):\n",
    "  month, year = currentDate\n",
    "  if nMonthsBefore < 0:\n",
    "    nMonthsAfter = -nMonthsBefore\n",
    "    month = month + nMonthsAfter\n",
    "    newYear = year + math.floor(month / 12)\n",
    "    newMonth = month % 12\n",
    "    if newMonth == 0:\n",
    "      return 12,newYear-1\n",
    "  elif nMonthsBefore >= month:\n",
    "    nYearsBefore = math.floor(nMonthsBefore / 12)\n",
    "    #nMonthsBefore = nMonthsBefore - month\n",
    "    nMonthsBefore = nMonthsBefore % 12\n",
    "    newYear = year - nYearsBefore\n",
    "    if nMonthsBefore >= month:\n",
    "      newMonth = 12 - (nMonthsBefore - month)\n",
    "      newYear = newYear - 1\n",
    "    else:\n",
    "      newMonth = month - nMonthsBefore\n",
    "  else:\n",
    "    newYear = year\n",
    "    newMonth = month - nMonthsBefore\n",
    "  return newMonth,newYear"
   ]
  },
  {
   "cell_type": "markdown",
   "metadata": {
    "id": "T5TmL4M54Rt8"
   },
   "source": [
    "# Descripción Datasets\n",
    "\n",
    "__/!\\__ Curiosamente hay muchos más casos que víctimas registradas (36899 vs 11892)\n",
    "\n",
    "**<h2><center>Casos/Eventos</center></h2>**\n",
    "\n",
    "* TIPO_EVENTO (Desminado, Accidente por MAP, Incautaciones,...)\n",
    "* CODIGO_DANE_MUNICIPIO\n",
    "* AÑO,MES\n",
    "\n",
    "**Campos Descartados**\n",
    "\n",
    "* DEPARTAMENTO, CODIGO_DANE_DEPARTAMENTO, MUNICIPIO, SITIO (Vereda)\n",
    "* EVENTO (100% Nulo)\n",
    "* TIPO_LUGAR (95% Nulo) TIPO_AREA (Rural,Urbana)\n",
    "* UBICACIÓN, LATITUD_CABECERA, LONGITUD_CABECERA"
   ]
  },
  {
   "cell_type": "code",
   "execution_count": 39,
   "metadata": {
    "colab": {
     "base_uri": "https://localhost:8080/",
     "height": 808
    },
    "executionInfo": {
     "elapsed": 576,
     "status": "ok",
     "timestamp": 1605578012245,
     "user": {
      "displayName": "Andrés Felipe Zapata Palacio",
      "photoUrl": "https://lh3.googleusercontent.com/a-/AOh14Gg27ktUZjg3Y67XH7nk7T5SVNYSn7FVSbaInnj5WQ=s64",
      "userId": "08596469446073364407"
     },
     "user_tz": 300
    },
    "id": "TkpV0dkb6CKI",
    "outputId": "d24cc6dc-bc89-4aa7-b91b-605a29d9c3fd"
   },
   "outputs": [
    {
     "data": {
      "text/html": [
       "<div>\n",
       "<style scoped>\n",
       "    .dataframe tbody tr th:only-of-type {\n",
       "        vertical-align: middle;\n",
       "    }\n",
       "\n",
       "    .dataframe tbody tr th {\n",
       "        vertical-align: top;\n",
       "    }\n",
       "\n",
       "    .dataframe thead th {\n",
       "        text-align: right;\n",
       "    }\n",
       "</style>\n",
       "<table border=\"1\" class=\"dataframe\">\n",
       "  <thead>\n",
       "    <tr style=\"text-align: right;\">\n",
       "      <th></th>\n",
       "      <th>TIPO_EVENTO</th>\n",
       "      <th>DEPARTAMENTO</th>\n",
       "      <th>CODIGO_DANE_DEPARTAMENTO</th>\n",
       "      <th>MUNICIPIO</th>\n",
       "      <th>CODIGO_DANE_MUNICIPIO</th>\n",
       "      <th>AÑO</th>\n",
       "      <th>MES</th>\n",
       "      <th>EVENTO</th>\n",
       "      <th>TIPO_LUGAR</th>\n",
       "      <th>TIPO_AREA</th>\n",
       "      <th>LATITUD_CABECERA</th>\n",
       "      <th>LONGITUD_CABECERA</th>\n",
       "      <th>SITIO</th>\n",
       "      <th>UBICACION</th>\n",
       "    </tr>\n",
       "  </thead>\n",
       "  <tbody>\n",
       "    <tr>\n",
       "      <th>0</th>\n",
       "      <td>Sospecha de campo minado</td>\n",
       "      <td>ANTIOQUIA</td>\n",
       "      <td>5</td>\n",
       "      <td>BRICEÑO</td>\n",
       "      <td>5107</td>\n",
       "      <td>2015</td>\n",
       "      <td>5</td>\n",
       "      <td>Sin información</td>\n",
       "      <td>En cerca a edificio residencial</td>\n",
       "      <td>Rural</td>\n",
       "      <td>7.099828</td>\n",
       "      <td>-75.658672</td>\n",
       "      <td>Camino a Chirí 2</td>\n",
       "      <td>POINT (-75.65867172 7.099828)</td>\n",
       "    </tr>\n",
       "    <tr>\n",
       "      <th>1</th>\n",
       "      <td>Accidente por MAP</td>\n",
       "      <td>ANTIOQUIA</td>\n",
       "      <td>5</td>\n",
       "      <td>YOLOMBÓ</td>\n",
       "      <td>5890</td>\n",
       "      <td>2002</td>\n",
       "      <td>1</td>\n",
       "      <td>Sin información</td>\n",
       "      <td>Sin informacion</td>\n",
       "      <td>Rural</td>\n",
       "      <td>6.730556</td>\n",
       "      <td>-75.062500</td>\n",
       "      <td>Vereda San Rafael</td>\n",
       "      <td>POINT (-75.0625 6.730556)</td>\n",
       "    </tr>\n",
       "    <tr>\n",
       "      <th>2</th>\n",
       "      <td>Accidente por MAP</td>\n",
       "      <td>CAQUETA</td>\n",
       "      <td>18</td>\n",
       "      <td>SAN VICENTE DEL CAGUÁN</td>\n",
       "      <td>18753</td>\n",
       "      <td>2008</td>\n",
       "      <td>10</td>\n",
       "      <td>Sin información</td>\n",
       "      <td>Sin informacion</td>\n",
       "      <td>Rural</td>\n",
       "      <td>2.169444</td>\n",
       "      <td>-74.783889</td>\n",
       "      <td>Platanillo</td>\n",
       "      <td>POINT (-74.78388889 2.169444444)</td>\n",
       "    </tr>\n",
       "    <tr>\n",
       "      <th>3</th>\n",
       "      <td>Accidente por MAP</td>\n",
       "      <td>CALDAS</td>\n",
       "      <td>17</td>\n",
       "      <td>RIOSUCIO</td>\n",
       "      <td>17614</td>\n",
       "      <td>2006</td>\n",
       "      <td>3</td>\n",
       "      <td>Sin información</td>\n",
       "      <td>Sin informacion</td>\n",
       "      <td>Rural</td>\n",
       "      <td>5.424265</td>\n",
       "      <td>-75.703599</td>\n",
       "      <td>Vereda La Sierra</td>\n",
       "      <td>POINT (-75.703599 5.424265)</td>\n",
       "    </tr>\n",
       "    <tr>\n",
       "      <th>4</th>\n",
       "      <td>Accidente por MAP</td>\n",
       "      <td>CESAR</td>\n",
       "      <td>20</td>\n",
       "      <td>SAN ALBERTO</td>\n",
       "      <td>20710</td>\n",
       "      <td>1996</td>\n",
       "      <td>4</td>\n",
       "      <td>Sin información</td>\n",
       "      <td>Sin informacion</td>\n",
       "      <td>Rural</td>\n",
       "      <td>7.763693</td>\n",
       "      <td>-73.396100</td>\n",
       "      <td>Sin información</td>\n",
       "      <td>POINT (-73.3961001 7.76369293)</td>\n",
       "    </tr>\n",
       "  </tbody>\n",
       "</table>\n",
       "</div>"
      ],
      "text/plain": [
       "                TIPO_EVENTO DEPARTAMENTO  CODIGO_DANE_DEPARTAMENTO  \\\n",
       "0  Sospecha de campo minado    ANTIOQUIA                         5   \n",
       "1         Accidente por MAP    ANTIOQUIA                         5   \n",
       "2         Accidente por MAP      CAQUETA                        18   \n",
       "3         Accidente por MAP       CALDAS                        17   \n",
       "4         Accidente por MAP        CESAR                        20   \n",
       "\n",
       "                MUNICIPIO  CODIGO_DANE_MUNICIPIO   AÑO  MES           EVENTO  \\\n",
       "0                 BRICEÑO                   5107  2015    5  Sin información   \n",
       "1                 YOLOMBÓ                   5890  2002    1  Sin información   \n",
       "2  SAN VICENTE DEL CAGUÁN                  18753  2008   10  Sin información   \n",
       "3                RIOSUCIO                  17614  2006    3  Sin información   \n",
       "4             SAN ALBERTO                  20710  1996    4  Sin información   \n",
       "\n",
       "                        TIPO_LUGAR TIPO_AREA  LATITUD_CABECERA  \\\n",
       "0  En cerca a edificio residencial     Rural          7.099828   \n",
       "1                  Sin informacion     Rural          6.730556   \n",
       "2                  Sin informacion     Rural          2.169444   \n",
       "3                  Sin informacion     Rural          5.424265   \n",
       "4                  Sin informacion     Rural          7.763693   \n",
       "\n",
       "   LONGITUD_CABECERA              SITIO                         UBICACION  \n",
       "0         -75.658672   Camino a Chirí 2     POINT (-75.65867172 7.099828)  \n",
       "1         -75.062500  Vereda San Rafael         POINT (-75.0625 6.730556)  \n",
       "2         -74.783889         Platanillo  POINT (-74.78388889 2.169444444)  \n",
       "3         -75.703599   Vereda La Sierra       POINT (-75.703599 5.424265)  \n",
       "4         -73.396100    Sin información    POINT (-73.3961001 7.76369293)  "
      ]
     },
     "execution_count": 39,
     "metadata": {},
     "output_type": "execute_result"
    }
   ],
   "source": [
    "casos.head()"
   ]
  },
  {
   "cell_type": "code",
   "execution_count": 40,
   "metadata": {
    "executionInfo": {
     "elapsed": 6235,
     "status": "ok",
     "timestamp": 1605571171300,
     "user": {
      "displayName": "Andrés Felipe Zapata Palacio",
      "photoUrl": "https://lh3.googleusercontent.com/a-/AOh14Gg27ktUZjg3Y67XH7nk7T5SVNYSn7FVSbaInnj5WQ=s64",
      "userId": "08596469446073364407"
     },
     "user_tz": 300
    },
    "id": "aajPnT7QCevb"
   },
   "outputs": [],
   "source": [
    "import matplotlib.pyplot as plt\n",
    "import numpy as np\n",
    "import swifter"
   ]
  },
  {
   "cell_type": "code",
   "execution_count": 41,
   "metadata": {
    "executionInfo": {
     "elapsed": 6634,
     "status": "ok",
     "timestamp": 1605571171723,
     "user": {
      "displayName": "Andrés Felipe Zapata Palacio",
      "photoUrl": "https://lh3.googleusercontent.com/a-/AOh14Gg27ktUZjg3Y67XH7nk7T5SVNYSn7FVSbaInnj5WQ=s64",
      "userId": "08596469446073364407"
     },
     "user_tz": 300
    },
    "id": "5XH88UZh8r0a"
   },
   "outputs": [],
   "source": [
    "def agregarCasosVictimas(df,nMonthsBefore):\n",
    "  #getPreviousDate(currentDate, nMonthsBefore)\n",
    "  colName = \"CASOS_MES_\" + str(nMonthsBefore)\n",
    "  df[colName] = educacion.swifter.apply(lambda x: len(filterData(casos,x[\"CODIGO_DANE_MUNICIPIO\"],getPreviousDate((x[\"FECHA_INICIO\"].month,x[\"FECHA_INICIO\"].year),nMonthsBefore))), axis=1)\n",
    "  return df"
   ]
  },
  {
   "cell_type": "code",
   "execution_count": 42,
   "metadata": {
    "colab": {
     "base_uri": "https://localhost:8080/"
    },
    "executionInfo": {
     "elapsed": 279898,
     "status": "ok",
     "timestamp": 1605571444992,
     "user": {
      "displayName": "Andrés Felipe Zapata Palacio",
      "photoUrl": "https://lh3.googleusercontent.com/a-/AOh14Gg27ktUZjg3Y67XH7nk7T5SVNYSn7FVSbaInnj5WQ=s64",
      "userId": "08596469446073364407"
     },
     "user_tz": 300
    },
    "id": "jsRQUdYB9gBw",
    "outputId": "17ae8069-8959-43c4-9253-1c951853740f",
    "scrolled": true
   },
   "outputs": [
    {
     "name": "stdout",
     "output_type": "stream",
     "text": [
      "4 / -4\n"
     ]
    },
    {
     "data": {
      "application/vnd.jupyter.widget-view+json": {
       "model_id": "f7b918bb753f48e28a3674eeff4e0da6",
       "version_major": 2,
       "version_minor": 0
      },
      "text/plain": [
       "HBox(children=(HTML(value='Pandas Apply'), FloatProgress(value=0.0, max=15064.0), HTML(value='')))"
      ]
     },
     "metadata": {},
     "output_type": "display_data"
    },
    {
     "name": "stdout",
     "output_type": "stream",
     "text": [
      "\n",
      "3 / -4\n"
     ]
    },
    {
     "data": {
      "application/vnd.jupyter.widget-view+json": {
       "model_id": "ab0b12fc72eb44ceb08317a841ca05da",
       "version_major": 2,
       "version_minor": 0
      },
      "text/plain": [
       "HBox(children=(HTML(value='Pandas Apply'), FloatProgress(value=0.0, max=15064.0), HTML(value='')))"
      ]
     },
     "metadata": {},
     "output_type": "display_data"
    },
    {
     "name": "stdout",
     "output_type": "stream",
     "text": [
      "\n",
      "2 / -4\n"
     ]
    },
    {
     "data": {
      "application/vnd.jupyter.widget-view+json": {
       "model_id": "45f1a5b630eb404dbd68d35f97f21068",
       "version_major": 2,
       "version_minor": 0
      },
      "text/plain": [
       "HBox(children=(HTML(value='Pandas Apply'), FloatProgress(value=0.0, max=15064.0), HTML(value='')))"
      ]
     },
     "metadata": {},
     "output_type": "display_data"
    },
    {
     "name": "stdout",
     "output_type": "stream",
     "text": [
      "\n",
      "1 / -4\n"
     ]
    },
    {
     "data": {
      "application/vnd.jupyter.widget-view+json": {
       "model_id": "53db8cf2a1a54ede9943b1ab5a9328b9",
       "version_major": 2,
       "version_minor": 0
      },
      "text/plain": [
       "HBox(children=(HTML(value='Pandas Apply'), FloatProgress(value=0.0, max=15064.0), HTML(value='')))"
      ]
     },
     "metadata": {},
     "output_type": "display_data"
    },
    {
     "name": "stdout",
     "output_type": "stream",
     "text": [
      "\n",
      "0 / -4\n"
     ]
    },
    {
     "data": {
      "application/vnd.jupyter.widget-view+json": {
       "model_id": "7675c5cf9e244407b97d00d144375175",
       "version_major": 2,
       "version_minor": 0
      },
      "text/plain": [
       "HBox(children=(HTML(value='Pandas Apply'), FloatProgress(value=0.0, max=15064.0), HTML(value='')))"
      ]
     },
     "metadata": {},
     "output_type": "display_data"
    },
    {
     "name": "stdout",
     "output_type": "stream",
     "text": [
      "\n",
      "-1 / -4\n"
     ]
    },
    {
     "data": {
      "application/vnd.jupyter.widget-view+json": {
       "model_id": "46bea7e6a2864073aaee81f5d9b62900",
       "version_major": 2,
       "version_minor": 0
      },
      "text/plain": [
       "HBox(children=(HTML(value='Pandas Apply'), FloatProgress(value=0.0, max=15064.0), HTML(value='')))"
      ]
     },
     "metadata": {},
     "output_type": "display_data"
    },
    {
     "name": "stdout",
     "output_type": "stream",
     "text": [
      "\n",
      "-2 / -4\n"
     ]
    },
    {
     "data": {
      "application/vnd.jupyter.widget-view+json": {
       "model_id": "6c891bc8c6414186a49a6ccc3510d3e0",
       "version_major": 2,
       "version_minor": 0
      },
      "text/plain": [
       "HBox(children=(HTML(value='Pandas Apply'), FloatProgress(value=0.0, max=15064.0), HTML(value='')))"
      ]
     },
     "metadata": {},
     "output_type": "display_data"
    },
    {
     "name": "stdout",
     "output_type": "stream",
     "text": [
      "\n",
      "-3 / -4\n"
     ]
    },
    {
     "data": {
      "application/vnd.jupyter.widget-view+json": {
       "model_id": "769be8cce00b480f8f5e4548025de233",
       "version_major": 2,
       "version_minor": 0
      },
      "text/plain": [
       "HBox(children=(HTML(value='Pandas Apply'), FloatProgress(value=0.0, max=15064.0), HTML(value='')))"
      ]
     },
     "metadata": {},
     "output_type": "display_data"
    },
    {
     "name": "stdout",
     "output_type": "stream",
     "text": [
      "\n",
      "-4 / -4\n"
     ]
    },
    {
     "data": {
      "application/vnd.jupyter.widget-view+json": {
       "model_id": "3b757cf1563948f1ad36bf300371c8cb",
       "version_major": 2,
       "version_minor": 0
      },
      "text/plain": [
       "HBox(children=(HTML(value='Pandas Apply'), FloatProgress(value=0.0, max=15064.0), HTML(value='')))"
      ]
     },
     "metadata": {},
     "output_type": "display_data"
    },
    {
     "name": "stdout",
     "output_type": "stream",
     "text": [
      "\n"
     ]
    }
   ],
   "source": [
    "edu = educacion\n",
    "for i in range(4,-5,-1):\n",
    "  print(i,\"/\",-4)\n",
    "  edu = agregarCasosVictimas(edu,i)"
   ]
  },
  {
   "cell_type": "code",
   "execution_count": 43,
   "metadata": {
    "colab": {
     "base_uri": "https://localhost:8080/",
     "height": 756
    },
    "executionInfo": {
     "elapsed": 279897,
     "status": "ok",
     "timestamp": 1605571445002,
     "user": {
      "displayName": "Andrés Felipe Zapata Palacio",
      "photoUrl": "https://lh3.googleusercontent.com/a-/AOh14Gg27ktUZjg3Y67XH7nk7T5SVNYSn7FVSbaInnj5WQ=s64",
      "userId": "08596469446073364407"
     },
     "user_tz": 300
    },
    "id": "IxVwYeoQBvB3",
    "outputId": "c7c7d74f-b3e9-4ea3-bf63-2647787392e1"
   },
   "outputs": [],
   "source": [
    "def agregarTasaCrecimiento(df,n1,n2):\n",
    "    n1, n2 = str(n1), str(n2)\n",
    "    colName = \"INCR_CASOS_\" + n1 + \"_\" + n2\n",
    "    col1 = \"CASOS_MES_\" + n1\n",
    "    col2 = \"CASOS_MES_\" + n2\n",
    "    df[colName] = df.swifter.apply(lambda x: (x[col2]-x[col1]), axis=1)\n",
    "    return df"
   ]
  },
  {
   "cell_type": "code",
   "execution_count": 44,
   "metadata": {},
   "outputs": [],
   "source": [
    "for month in range(-4,4):\n",
    "    nextMonth = month+1\n",
    "    edu = agregarTasaCrecimiento(edu,month,nextMonth)"
   ]
  },
  {
   "cell_type": "markdown",
   "metadata": {},
   "source": [
    "### Remoción de registros sin casos\n",
    "\n",
    "Antes de ejecutar el análisis estadístico se decidió remover los registros en los que había 0 casos en la ventana de tiempo del análisis (antes,durante y despues del evento) para analizar las correlaciones de crecimiento. "
   ]
  },
  {
   "cell_type": "code",
   "execution_count": 45,
   "metadata": {},
   "outputs": [],
   "source": [
    "pref = 'CASOS_MES_'\n",
    "mask = (educacion['ORGANIZACIÓN'] == 'thisOrgDoesntExist')\n",
    "for i in range(-4,4):\n",
    "    col = pref + str(i)\n",
    "    mask = mask | (edu[col] != 0)\n",
    "edu = edu[mask]"
   ]
  },
  {
   "cell_type": "markdown",
   "metadata": {
    "id": "IZeWc3QB9A3M"
   },
   "source": [
    "## Análisis Estadístico"
   ]
  },
  {
   "cell_type": "code",
   "execution_count": 46,
   "metadata": {
    "executionInfo": {
     "elapsed": 279886,
     "status": "ok",
     "timestamp": 1605571445005,
     "user": {
      "displayName": "Andrés Felipe Zapata Palacio",
      "photoUrl": "https://lh3.googleusercontent.com/a-/AOh14Gg27ktUZjg3Y67XH7nk7T5SVNYSn7FVSbaInnj5WQ=s64",
      "userId": "08596469446073364407"
     },
     "user_tz": 300
    },
    "id": "kXa5DfGA-3uy"
   },
   "outputs": [],
   "source": [
    "import pandas as _pd\n",
    "import numpy as _np\n",
    "\n",
    "from matplotlib import pyplot as plt\n",
    "from matplotlib.collections import EllipseCollection\n",
    "def plot_corr_ellipses(data, ax=None, **kwargs):\n",
    "\n",
    "    M = _np.array(data)\n",
    "    if not M.ndim == 2:\n",
    "        raise ValueError('data must be a 2D array')\n",
    "    if ax is None:\n",
    "        fig, ax = plt.subplots(1, 1, subplot_kw={'aspect':'equal'})\n",
    "        ax.set_xlim(-0.5, M.shape[1] - 0.5)\n",
    "        ax.set_ylim(-0.5, M.shape[0] - 0.5)\n",
    "\n",
    "    # xy locations of each ellipse center\n",
    "    xy = _np.indices(M.shape)[::-1].reshape(2, -1).T\n",
    "\n",
    "    # set the relative sizes of the major/minor axes according to the strength of\n",
    "    # the positive/negative correlation\n",
    "    w = _np.ones_like(M).ravel()\n",
    "    h = 1 - _np.abs(M).ravel()\n",
    "    a = 45 * _np.sign(M).ravel()\n",
    "\n",
    "    ec = EllipseCollection(widths=w, heights=h, angles=a, units='x', offsets=xy,\n",
    "                           transOffset=ax.transData, array=M.ravel(), **kwargs)\n",
    "    ax.add_collection(ec)\n",
    "\n",
    "    # if data is a DataFrame, use the row/column names as tick labels\n",
    "    if isinstance(data, _pd.DataFrame):\n",
    "        ax.set_xticks(_np.arange(M.shape[1]))\n",
    "        ax.set_xticklabels(data.columns, rotation=90)\n",
    "        ax.set_yticks(_np.arange(M.shape[0]))\n",
    "        ax.set_yticklabels(data.index)\n",
    "\n",
    "    return ec\n",
    "\n",
    "\n",
    "def corr_parcial(df, debug=True):\n",
    "    S = LedoitWolf().fit(df).covariance_\n",
    "    \n",
    "    if debug == True:\n",
    "        cond = np.linalg.cond(S) \n",
    "        print('N° cond:',cond)\n",
    "        \n",
    "    S_1 = _np.linalg.inv(S)\n",
    "    diag_matrix_s_1_sqrt = _np.diag(1/_np.sqrt(_np.diag(S_1)))\n",
    "    ones_mask=-_np.ones((len(S),len(S)))\n",
    "    _np.fill_diagonal(ones_mask,_np.ones(len(S)))\n",
    "    almost_P = diag_matrix_s_1_sqrt@S_1@diag_matrix_s_1_sqrt\n",
    "    return _pd.DataFrame(_np.multiply(ones_mask,almost_P), columns = df.columns, index = df.columns)\n",
    "\n",
    "def R_2(df):\n",
    "  if isinstance(df, _pd.DataFrame):\n",
    "    df = df.to_numpy()\n",
    "  S = _np.cov(df, rowvar=False)\n",
    "  S_inv = _np.linalg.inv(S)\n",
    "  return 1 - (1/(_np.diag(S)*_np.diag(S_inv)))"
   ]
  },
  {
   "cell_type": "code",
   "execution_count": 47,
   "metadata": {
    "executionInfo": {
     "elapsed": 527,
     "status": "ok",
     "timestamp": 1605578501400,
     "user": {
      "displayName": "Andrés Felipe Zapata Palacio",
      "photoUrl": "https://lh3.googleusercontent.com/a-/AOh14Gg27ktUZjg3Y67XH7nk7T5SVNYSn7FVSbaInnj5WQ=s64",
      "userId": "08596469446073364407"
     },
     "user_tz": 300
    },
    "id": "L2k_mXTPk3g6"
   },
   "outputs": [],
   "source": [
    "cols = [\n",
    "    'CASOS_MES_-4','CASOS_MES_-3','CASOS_MES_-2','CASOS_MES_-1',\n",
    "    'CASOS_MES_0','CASOS_MES_1','CASOS_MES_2','CASOS_MES_3','CASOS_MES_4',\n",
    "      ]\n",
    "edu_casos = edu[cols]\n",
    "r2_casos = R_2(edu_casos)\n",
    "corr_casos = edu_casos.corr()"
   ]
  },
  {
   "cell_type": "code",
   "execution_count": 48,
   "metadata": {},
   "outputs": [],
   "source": [
    "cols = [\n",
    "    'INCR_CASOS_-4_-3','INCR_CASOS_-3_-2','INCR_CASOS_-2_-1','INCR_CASOS_-1_0',\n",
    "    'INCR_CASOS_0_1','INCR_CASOS_1_2','INCR_CASOS_2_3','INCR_CASOS_3_4'\n",
    "      ]\n",
    "edu_increm_casos = edu[cols]\n",
    "r2_increm_casos = R_2(edu_increm_casos)\n",
    "corr_increm_casos = edu_increm_casos.corr()"
   ]
  },
  {
   "cell_type": "code",
   "execution_count": 49,
   "metadata": {},
   "outputs": [],
   "source": [
    "from sklearn.covariance import LedoitWolf"
   ]
  },
  {
   "cell_type": "markdown",
   "metadata": {},
   "source": [
    "### I. Correlación simple del n° de casos de MAP antes, durante y después del mes del evento educativo"
   ]
  },
  {
   "cell_type": "code",
   "execution_count": 50,
   "metadata": {
    "colab": {
     "base_uri": "https://localhost:8080/",
     "height": 361
    },
    "executionInfo": {
     "elapsed": 1173,
     "status": "ok",
     "timestamp": 1605578400454,
     "user": {
      "displayName": "Andrés Felipe Zapata Palacio",
      "photoUrl": "https://lh3.googleusercontent.com/a-/AOh14Gg27ktUZjg3Y67XH7nk7T5SVNYSn7FVSbaInnj5WQ=s64",
      "userId": "08596469446073364407"
     },
     "user_tz": 300
    },
    "id": "RI9vLG4b-Rva",
    "outputId": "d6a77abe-2b7a-4352-b0d1-9767c3975090"
   },
   "outputs": [
    {
     "data": {
      "image/png": "[encoded data removed]",
      "text/plain": [
       "<Figure size 432x288 with 1 Axes>"
      ]
     },
     "metadata": {
      "needs_background": "light"
     },
     "output_type": "display_data"
    }
   ],
   "source": [
    "_ = plot_corr_ellipses(corr_casos,cmap='Greens')"
   ]
  },
  {
   "cell_type": "markdown",
   "metadata": {},
   "source": [
    "### II. Correlación parcial del n° de casos de MAP antes, durante y después del mes del evento educativo"
   ]
  },
  {
   "cell_type": "code",
   "execution_count": 51,
   "metadata": {
    "colab": {
     "base_uri": "https://localhost:8080/"
    },
    "executionInfo": {
     "elapsed": 778,
     "status": "ok",
     "timestamp": 1605578415886,
     "user": {
      "displayName": "Andrés Felipe Zapata Palacio",
      "photoUrl": "https://lh3.googleusercontent.com/a-/AOh14Gg27ktUZjg3Y67XH7nk7T5SVNYSn7FVSbaInnj5WQ=s64",
      "userId": "08596469446073364407"
     },
     "user_tz": 300
    },
    "id": "cvJDRf1I-Vfz",
    "outputId": "e9a51e40-7208-46da-8e84-e044d7f4dc4c"
   },
   "outputs": [
    {
     "data": {
      "text/plain": [
       "0.33679991104975493"
      ]
     },
     "execution_count": 51,
     "metadata": {},
     "output_type": "execute_result"
    }
   ],
   "source": [
    "np.linalg.det(corr_casos)"
   ]
  },
  {
   "cell_type": "code",
   "execution_count": 52,
   "metadata": {
    "executionInfo": {
     "elapsed": 1239,
     "status": "ok",
     "timestamp": 1605578419120,
     "user": {
      "displayName": "Andrés Felipe Zapata Palacio",
      "photoUrl": "https://lh3.googleusercontent.com/a-/AOh14Gg27ktUZjg3Y67XH7nk7T5SVNYSn7FVSbaInnj5WQ=s64",
      "userId": "08596469446073364407"
     },
     "user_tz": 300
    },
    "id": "kVRrzSfz-cJ8"
   },
   "outputs": [
    {
     "name": "stdout",
     "output_type": "stream",
     "text": [
      "N° cond: 4.67490601010215\n"
     ]
    }
   ],
   "source": [
    "partial_corr_casos = corr_parcial(edu_casos)"
   ]
  },
  {
   "cell_type": "code",
   "execution_count": 53,
   "metadata": {
    "colab": {
     "base_uri": "https://localhost:8080/",
     "height": 361
    },
    "executionInfo": {
     "elapsed": 865,
     "status": "ok",
     "timestamp": 1605578420242,
     "user": {
      "displayName": "Andrés Felipe Zapata Palacio",
      "photoUrl": "https://lh3.googleusercontent.com/a-/AOh14Gg27ktUZjg3Y67XH7nk7T5SVNYSn7FVSbaInnj5WQ=s64",
      "userId": "08596469446073364407"
     },
     "user_tz": 300
    },
    "id": "Pm7FGBOM-qb4",
    "outputId": "25551e9f-4dce-4189-da2e-cc87ebb203bd"
   },
   "outputs": [
    {
     "data": {
      "text/plain": [
       "<matplotlib.collections.EllipseCollection at 0x7f95194c6f10>"
      ]
     },
     "execution_count": 53,
     "metadata": {},
     "output_type": "execute_result"
    },
    {
     "data": {
      "image/png": "[encoded data removed]",
      "text/plain": [
       "<Figure size 432x288 with 1 Axes>"
      ]
     },
     "metadata": {
      "needs_background": "light"
     },
     "output_type": "display_data"
    }
   ],
   "source": [
    "plot_corr_ellipses(partial_corr_casos, cmap='Greens')"
   ]
  },
  {
   "cell_type": "markdown",
   "metadata": {},
   "source": [
    "### III. Correlación simple del incremento en el n° de casos de MAP antes, durante y después del mes del evento educativo"
   ]
  },
  {
   "cell_type": "code",
   "execution_count": 54,
   "metadata": {},
   "outputs": [
    {
     "data": {
      "image/png": "[encoded data removed]",
      "text/plain": [
       "<Figure size 432x288 with 1 Axes>"
      ]
     },
     "metadata": {
      "needs_background": "light"
     },
     "output_type": "display_data"
    }
   ],
   "source": [
    "_ = plot_corr_ellipses(corr_increm_casos,cmap='Greens')"
   ]
  },
  {
   "cell_type": "markdown",
   "metadata": {
    "id": "lF8AOXEihRVT"
   },
   "source": [
    "### IV. Correlación parcial del incremento en el n° de casos de MAP antes, durante y después del mes del evento educativo"
   ]
  },
  {
   "cell_type": "code",
   "execution_count": 55,
   "metadata": {},
   "outputs": [
    {
     "data": {
      "text/plain": [
       "0.04787163271714319"
      ]
     },
     "execution_count": 55,
     "metadata": {},
     "output_type": "execute_result"
    }
   ],
   "source": [
    "np.linalg.det(corr_increm_casos)"
   ]
  },
  {
   "cell_type": "code",
   "execution_count": 56,
   "metadata": {},
   "outputs": [
    {
     "name": "stdout",
     "output_type": "stream",
     "text": [
      "N° cond: 18.278298255359186\n"
     ]
    }
   ],
   "source": [
    "partial_corr_increm = corr_parcial(edu_increm_casos)"
   ]
  },
  {
   "cell_type": "code",
   "execution_count": 57,
   "metadata": {},
   "outputs": [
    {
     "data": {
      "text/plain": [
       "<matplotlib.collections.EllipseCollection at 0x7f9519178fa0>"
      ]
     },
     "execution_count": 57,
     "metadata": {},
     "output_type": "execute_result"
    },
    {
     "data": {
      "image/png": "[encoded data removed]",
      "text/plain": [
       "<Figure size 432x288 with 1 Axes>"
      ]
     },
     "metadata": {
      "needs_background": "light"
     },
     "output_type": "display_data"
    }
   ],
   "source": [
    "plot_corr_ellipses(partial_corr_increm, cmap='Greens')"
   ]
  },
  {
   "cell_type": "markdown",
   "metadata": {},
   "source": [
    "### V. Analisis de los R²"
   ]
  },
  {
   "cell_type": "code",
   "execution_count": 58,
   "metadata": {},
   "outputs": [
    {
     "data": {
      "text/plain": [
       "array([0.12952476, 0.23357138, 0.077286  , 0.13178661, 0.26039478,\n",
       "       0.21359497, 0.11111965, 0.20171829, 0.28293515])"
      ]
     },
     "execution_count": 58,
     "metadata": {},
     "output_type": "execute_result"
    }
   ],
   "source": [
    "r2_casos"
   ]
  },
  {
   "cell_type": "code",
   "execution_count": 59,
   "metadata": {},
   "outputs": [
    {
     "data": {
      "text/plain": [
       "array([0.42889684, 0.67924768, 0.69367683, 0.72604001, 0.72934014,\n",
       "       0.6830501 , 0.61762942, 0.46999352])"
      ]
     },
     "execution_count": 59,
     "metadata": {},
     "output_type": "execute_result"
    }
   ],
   "source": [
    "r2_increm_casos"
   ]
  },
  {
   "cell_type": "markdown",
   "metadata": {},
   "source": [
    "# Análisis de los resultados obtenidos"
   ]
  },
  {
   "cell_type": "code",
   "execution_count": 60,
   "metadata": {},
   "outputs": [],
   "source": [
    "def analizeIncrement(edu,periodA,periodB,debug=False):\n",
    "    prefix = 'INCR_CASOS_'\n",
    "    fieldA,fieldB = prefix + periodA, prefix + periodB\n",
    "    n_greater = len(edu[edu[fieldA] >  edu[fieldB]])\n",
    "    n_lower   = len(edu[edu[fieldA] <  edu[fieldB]])\n",
    "    n_equal   = len(edu[edu[fieldA] == edu[fieldB]])\n",
    "    if debug == True:\n",
    "        print('Analisis Incremento:',periodA,'-', periodB)\n",
    "        print('\\t <<< ',n_greater,'\\t >>> ',n_lower,'\\t===',n_equal)\n",
    "    return n_greater, n_lower, n_equal"
   ]
  },
  {
   "cell_type": "code",
   "execution_count": 61,
   "metadata": {},
   "outputs": [],
   "source": [
    "def analizeNumberOfCases(edu,periodA,periodB,debug=False):\n",
    "    prefix = 'CASOS_MES_'\n",
    "    fieldA,fieldB = prefix + periodA, prefix + periodB\n",
    "    n_greater = len(edu[edu[fieldA] >  edu[fieldB]])\n",
    "    n_lower   = len(edu[edu[fieldA] <  edu[fieldB]])\n",
    "    n_equal   = len(edu[edu[fieldA] == edu[fieldB]])\n",
    "    if debug == True:\n",
    "        print('Analisis N° Casos:',periodA,'-', periodB)\n",
    "        print('\\t <<< ',n_greater,'\\t >>> ',n_lower,'\\t===',n_equal)\n",
    "    return n_greater, n_lower, n_equal"
   ]
  },
  {
   "cell_type": "code",
   "execution_count": 62,
   "metadata": {},
   "outputs": [],
   "source": [
    "data = educacion\n",
    "pref = 'CASOS_MES_'\n",
    "mask = (data['ORGANIZACIÓN'] == 'thisOrgDoesntExist')\n",
    "for i in range(-4,4):\n",
    "    col = pref + str(i)\n",
    "    mask = mask | (data[col] != 0)\n",
    "data = data[mask]"
   ]
  },
  {
   "cell_type": "code",
   "execution_count": 63,
   "metadata": {},
   "outputs": [
    {
     "data": {
      "text/html": [
       "<div>\n",
       "<style scoped>\n",
       "    .dataframe tbody tr th:only-of-type {\n",
       "        vertical-align: middle;\n",
       "    }\n",
       "\n",
       "    .dataframe tbody tr th {\n",
       "        vertical-align: top;\n",
       "    }\n",
       "\n",
       "    .dataframe thead th {\n",
       "        text-align: right;\n",
       "    }\n",
       "</style>\n",
       "<table border=\"1\" class=\"dataframe\">\n",
       "  <thead>\n",
       "    <tr style=\"text-align: right;\">\n",
       "      <th></th>\n",
       "      <th>ID_ERM</th>\n",
       "      <th>DEPARTAMENTO</th>\n",
       "      <th>CODIGO_DANE_DEPARTAMENTO</th>\n",
       "      <th>MUNICIPIO</th>\n",
       "      <th>CODIGO_DANE_MUNICIPIO</th>\n",
       "      <th>ORGANIZACIÓN</th>\n",
       "      <th>MOTIVO_ACTIVIDAD</th>\n",
       "      <th>FECHA_INICIO</th>\n",
       "      <th>AÑO</th>\n",
       "      <th>FECHA_FINALIZACION</th>\n",
       "      <th>...</th>\n",
       "      <th>CASOS_MES_-3</th>\n",
       "      <th>CASOS_MES_-4</th>\n",
       "      <th>INCR_CASOS_-4_-3</th>\n",
       "      <th>INCR_CASOS_-3_-2</th>\n",
       "      <th>INCR_CASOS_-2_-1</th>\n",
       "      <th>INCR_CASOS_-1_0</th>\n",
       "      <th>INCR_CASOS_0_1</th>\n",
       "      <th>INCR_CASOS_1_2</th>\n",
       "      <th>INCR_CASOS_2_3</th>\n",
       "      <th>INCR_CASOS_3_4</th>\n",
       "    </tr>\n",
       "  </thead>\n",
       "  <tbody>\n",
       "    <tr>\n",
       "      <th>36</th>\n",
       "      <td>ERM_ACT_280</td>\n",
       "      <td>ANTIOQUIA</td>\n",
       "      <td>5</td>\n",
       "      <td>VALDIVIA</td>\n",
       "      <td>5854</td>\n",
       "      <td>Campaña Colombiana Contra Minas</td>\n",
       "      <td>Sin especificar</td>\n",
       "      <td>2017-05-19</td>\n",
       "      <td>2017</td>\n",
       "      <td>2017-05-19</td>\n",
       "      <td>...</td>\n",
       "      <td>0</td>\n",
       "      <td>0</td>\n",
       "      <td>0</td>\n",
       "      <td>0</td>\n",
       "      <td>0</td>\n",
       "      <td>0</td>\n",
       "      <td>0</td>\n",
       "      <td>0</td>\n",
       "      <td>1</td>\n",
       "      <td>-1</td>\n",
       "    </tr>\n",
       "    <tr>\n",
       "      <th>123</th>\n",
       "      <td>ERM_ACT_306</td>\n",
       "      <td>ANTIOQUIA</td>\n",
       "      <td>5</td>\n",
       "      <td>DABEIBA</td>\n",
       "      <td>5234</td>\n",
       "      <td>Campaña Colombiana Contra Minas</td>\n",
       "      <td>Sin especificar</td>\n",
       "      <td>2017-09-05</td>\n",
       "      <td>2017</td>\n",
       "      <td>2017-09-05</td>\n",
       "      <td>...</td>\n",
       "      <td>1</td>\n",
       "      <td>0</td>\n",
       "      <td>1</td>\n",
       "      <td>-1</td>\n",
       "      <td>0</td>\n",
       "      <td>0</td>\n",
       "      <td>0</td>\n",
       "      <td>0</td>\n",
       "      <td>0</td>\n",
       "      <td>0</td>\n",
       "    </tr>\n",
       "    <tr>\n",
       "      <th>235</th>\n",
       "      <td>ERM_ACT_865</td>\n",
       "      <td>SUCRE</td>\n",
       "      <td>70</td>\n",
       "      <td>CHALÁN</td>\n",
       "      <td>70230</td>\n",
       "      <td>Organización de los Estados Americanos</td>\n",
       "      <td>Sin especificar</td>\n",
       "      <td>2016-07-21</td>\n",
       "      <td>2016</td>\n",
       "      <td>2016-07-21</td>\n",
       "      <td>...</td>\n",
       "      <td>1</td>\n",
       "      <td>0</td>\n",
       "      <td>1</td>\n",
       "      <td>-1</td>\n",
       "      <td>0</td>\n",
       "      <td>0</td>\n",
       "      <td>0</td>\n",
       "      <td>0</td>\n",
       "      <td>0</td>\n",
       "      <td>0</td>\n",
       "    </tr>\n",
       "    <tr>\n",
       "      <th>427</th>\n",
       "      <td>ERM_ACT_1068</td>\n",
       "      <td>SUCRE</td>\n",
       "      <td>70</td>\n",
       "      <td>CHALÁN</td>\n",
       "      <td>70230</td>\n",
       "      <td>Organización de los Estados Americanos</td>\n",
       "      <td>Sin especificar</td>\n",
       "      <td>2016-11-14</td>\n",
       "      <td>2016</td>\n",
       "      <td>2016-11-14</td>\n",
       "      <td>...</td>\n",
       "      <td>0</td>\n",
       "      <td>0</td>\n",
       "      <td>0</td>\n",
       "      <td>0</td>\n",
       "      <td>0</td>\n",
       "      <td>0</td>\n",
       "      <td>1</td>\n",
       "      <td>-1</td>\n",
       "      <td>0</td>\n",
       "      <td>0</td>\n",
       "    </tr>\n",
       "    <tr>\n",
       "      <th>428</th>\n",
       "      <td>ERM_ACT_1069</td>\n",
       "      <td>SUCRE</td>\n",
       "      <td>70</td>\n",
       "      <td>CHALÁN</td>\n",
       "      <td>70230</td>\n",
       "      <td>Organización de los Estados Americanos</td>\n",
       "      <td>Sin especificar</td>\n",
       "      <td>2016-11-14</td>\n",
       "      <td>2016</td>\n",
       "      <td>2016-11-14</td>\n",
       "      <td>...</td>\n",
       "      <td>0</td>\n",
       "      <td>0</td>\n",
       "      <td>0</td>\n",
       "      <td>0</td>\n",
       "      <td>0</td>\n",
       "      <td>0</td>\n",
       "      <td>1</td>\n",
       "      <td>-1</td>\n",
       "      <td>0</td>\n",
       "      <td>0</td>\n",
       "    </tr>\n",
       "    <tr>\n",
       "      <th>...</th>\n",
       "      <td>...</td>\n",
       "      <td>...</td>\n",
       "      <td>...</td>\n",
       "      <td>...</td>\n",
       "      <td>...</td>\n",
       "      <td>...</td>\n",
       "      <td>...</td>\n",
       "      <td>...</td>\n",
       "      <td>...</td>\n",
       "      <td>...</td>\n",
       "      <td>...</td>\n",
       "      <td>...</td>\n",
       "      <td>...</td>\n",
       "      <td>...</td>\n",
       "      <td>...</td>\n",
       "      <td>...</td>\n",
       "      <td>...</td>\n",
       "      <td>...</td>\n",
       "      <td>...</td>\n",
       "      <td>...</td>\n",
       "      <td>...</td>\n",
       "    </tr>\n",
       "    <tr>\n",
       "      <th>17476</th>\n",
       "      <td>ERM_ACT_54728</td>\n",
       "      <td>NARIÑO</td>\n",
       "      <td>52</td>\n",
       "      <td>TUMACO</td>\n",
       "      <td>52835</td>\n",
       "      <td>CORPORACION PAZ Y DEMOCRACIA</td>\n",
       "      <td>Sin especificar</td>\n",
       "      <td>2018-11-26</td>\n",
       "      <td>2018</td>\n",
       "      <td>2018-11-26</td>\n",
       "      <td>...</td>\n",
       "      <td>4</td>\n",
       "      <td>2</td>\n",
       "      <td>2</td>\n",
       "      <td>-4</td>\n",
       "      <td>1</td>\n",
       "      <td>3</td>\n",
       "      <td>-1</td>\n",
       "      <td>-3</td>\n",
       "      <td>1</td>\n",
       "      <td>1</td>\n",
       "    </tr>\n",
       "    <tr>\n",
       "      <th>17477</th>\n",
       "      <td>ERM_ACT_54696</td>\n",
       "      <td>NARIÑO</td>\n",
       "      <td>52</td>\n",
       "      <td>TUMACO</td>\n",
       "      <td>52835</td>\n",
       "      <td>CORPORACION PAZ Y DEMOCRACIA</td>\n",
       "      <td>Sin especificar</td>\n",
       "      <td>2018-11-26</td>\n",
       "      <td>2018</td>\n",
       "      <td>2018-11-26</td>\n",
       "      <td>...</td>\n",
       "      <td>4</td>\n",
       "      <td>2</td>\n",
       "      <td>2</td>\n",
       "      <td>-4</td>\n",
       "      <td>1</td>\n",
       "      <td>3</td>\n",
       "      <td>-1</td>\n",
       "      <td>-3</td>\n",
       "      <td>1</td>\n",
       "      <td>1</td>\n",
       "    </tr>\n",
       "    <tr>\n",
       "      <th>17479</th>\n",
       "      <td>ERM_ACT_54707</td>\n",
       "      <td>NARIÑO</td>\n",
       "      <td>52</td>\n",
       "      <td>TUMACO</td>\n",
       "      <td>52835</td>\n",
       "      <td>CORPORACION PAZ Y DEMOCRACIA</td>\n",
       "      <td>Sin especificar</td>\n",
       "      <td>2019-05-13</td>\n",
       "      <td>2019</td>\n",
       "      <td>2019-05-13</td>\n",
       "      <td>...</td>\n",
       "      <td>0</td>\n",
       "      <td>0</td>\n",
       "      <td>0</td>\n",
       "      <td>0</td>\n",
       "      <td>0</td>\n",
       "      <td>0</td>\n",
       "      <td>3</td>\n",
       "      <td>-1</td>\n",
       "      <td>2</td>\n",
       "      <td>-4</td>\n",
       "    </tr>\n",
       "    <tr>\n",
       "      <th>17480</th>\n",
       "      <td>ERM_ACT_54708</td>\n",
       "      <td>NARIÑO</td>\n",
       "      <td>52</td>\n",
       "      <td>TUMACO</td>\n",
       "      <td>52835</td>\n",
       "      <td>CORPORACION PAZ Y DEMOCRACIA</td>\n",
       "      <td>Sin especificar</td>\n",
       "      <td>2019-05-14</td>\n",
       "      <td>2019</td>\n",
       "      <td>2019-05-14</td>\n",
       "      <td>...</td>\n",
       "      <td>0</td>\n",
       "      <td>0</td>\n",
       "      <td>0</td>\n",
       "      <td>0</td>\n",
       "      <td>0</td>\n",
       "      <td>0</td>\n",
       "      <td>3</td>\n",
       "      <td>-1</td>\n",
       "      <td>2</td>\n",
       "      <td>-4</td>\n",
       "    </tr>\n",
       "    <tr>\n",
       "      <th>17481</th>\n",
       "      <td>ERM_ACT_54710</td>\n",
       "      <td>NARIÑO</td>\n",
       "      <td>52</td>\n",
       "      <td>TUMACO</td>\n",
       "      <td>52835</td>\n",
       "      <td>CORPORACION PAZ Y DEMOCRACIA</td>\n",
       "      <td>Sin especificar</td>\n",
       "      <td>2019-05-13</td>\n",
       "      <td>2019</td>\n",
       "      <td>2019-05-13</td>\n",
       "      <td>...</td>\n",
       "      <td>0</td>\n",
       "      <td>0</td>\n",
       "      <td>0</td>\n",
       "      <td>0</td>\n",
       "      <td>0</td>\n",
       "      <td>0</td>\n",
       "      <td>3</td>\n",
       "      <td>-1</td>\n",
       "      <td>2</td>\n",
       "      <td>-4</td>\n",
       "    </tr>\n",
       "  </tbody>\n",
       "</table>\n",
       "<p>2947 rows × 72 columns</p>\n",
       "</div>"
      ],
      "text/plain": [
       "              ID_ERM DEPARTAMENTO  CODIGO_DANE_DEPARTAMENTO MUNICIPIO  \\\n",
       "36       ERM_ACT_280    ANTIOQUIA                         5  VALDIVIA   \n",
       "123      ERM_ACT_306    ANTIOQUIA                         5   DABEIBA   \n",
       "235      ERM_ACT_865        SUCRE                        70    CHALÁN   \n",
       "427     ERM_ACT_1068        SUCRE                        70    CHALÁN   \n",
       "428     ERM_ACT_1069        SUCRE                        70    CHALÁN   \n",
       "...              ...          ...                       ...       ...   \n",
       "17476  ERM_ACT_54728       NARIÑO                        52    TUMACO   \n",
       "17477  ERM_ACT_54696       NARIÑO                        52    TUMACO   \n",
       "17479  ERM_ACT_54707       NARIÑO                        52    TUMACO   \n",
       "17480  ERM_ACT_54708       NARIÑO                        52    TUMACO   \n",
       "17481  ERM_ACT_54710       NARIÑO                        52    TUMACO   \n",
       "\n",
       "       CODIGO_DANE_MUNICIPIO                            ORGANIZACIÓN  \\\n",
       "36                      5854         Campaña Colombiana Contra Minas   \n",
       "123                     5234         Campaña Colombiana Contra Minas   \n",
       "235                    70230  Organización de los Estados Americanos   \n",
       "427                    70230  Organización de los Estados Americanos   \n",
       "428                    70230  Organización de los Estados Americanos   \n",
       "...                      ...                                     ...   \n",
       "17476                  52835            CORPORACION PAZ Y DEMOCRACIA   \n",
       "17477                  52835            CORPORACION PAZ Y DEMOCRACIA   \n",
       "17479                  52835            CORPORACION PAZ Y DEMOCRACIA   \n",
       "17480                  52835            CORPORACION PAZ Y DEMOCRACIA   \n",
       "17481                  52835            CORPORACION PAZ Y DEMOCRACIA   \n",
       "\n",
       "      MOTIVO_ACTIVIDAD FECHA_INICIO   AÑO FECHA_FINALIZACION  ...  \\\n",
       "36     Sin especificar   2017-05-19  2017         2017-05-19  ...   \n",
       "123    Sin especificar   2017-09-05  2017         2017-09-05  ...   \n",
       "235    Sin especificar   2016-07-21  2016         2016-07-21  ...   \n",
       "427    Sin especificar   2016-11-14  2016         2016-11-14  ...   \n",
       "428    Sin especificar   2016-11-14  2016         2016-11-14  ...   \n",
       "...                ...          ...   ...                ...  ...   \n",
       "17476  Sin especificar   2018-11-26  2018         2018-11-26  ...   \n",
       "17477  Sin especificar   2018-11-26  2018         2018-11-26  ...   \n",
       "17479  Sin especificar   2019-05-13  2019         2019-05-13  ...   \n",
       "17480  Sin especificar   2019-05-14  2019         2019-05-14  ...   \n",
       "17481  Sin especificar   2019-05-13  2019         2019-05-13  ...   \n",
       "\n",
       "      CASOS_MES_-3 CASOS_MES_-4  INCR_CASOS_-4_-3  INCR_CASOS_-3_-2  \\\n",
       "36               0            0                 0                 0   \n",
       "123              1            0                 1                -1   \n",
       "235              1            0                 1                -1   \n",
       "427              0            0                 0                 0   \n",
       "428              0            0                 0                 0   \n",
       "...            ...          ...               ...               ...   \n",
       "17476            4            2                 2                -4   \n",
       "17477            4            2                 2                -4   \n",
       "17479            0            0                 0                 0   \n",
       "17480            0            0                 0                 0   \n",
       "17481            0            0                 0                 0   \n",
       "\n",
       "       INCR_CASOS_-2_-1  INCR_CASOS_-1_0  INCR_CASOS_0_1  INCR_CASOS_1_2  \\\n",
       "36                    0                0               0               0   \n",
       "123                   0                0               0               0   \n",
       "235                   0                0               0               0   \n",
       "427                   0                0               1              -1   \n",
       "428                   0                0               1              -1   \n",
       "...                 ...              ...             ...             ...   \n",
       "17476                 1                3              -1              -3   \n",
       "17477                 1                3              -1              -3   \n",
       "17479                 0                0               3              -1   \n",
       "17480                 0                0               3              -1   \n",
       "17481                 0                0               3              -1   \n",
       "\n",
       "       INCR_CASOS_2_3  INCR_CASOS_3_4  \n",
       "36                  1              -1  \n",
       "123                 0               0  \n",
       "235                 0               0  \n",
       "427                 0               0  \n",
       "428                 0               0  \n",
       "...               ...             ...  \n",
       "17476               1               1  \n",
       "17477               1               1  \n",
       "17479               2              -4  \n",
       "17480               2              -4  \n",
       "17481               2              -4  \n",
       "\n",
       "[2947 rows x 72 columns]"
      ]
     },
     "execution_count": 63,
     "metadata": {},
     "output_type": "execute_result"
    }
   ],
   "source": [
    "data"
   ]
  },
  {
   "cell_type": "code",
   "execution_count": 64,
   "metadata": {},
   "outputs": [
    {
     "name": "stdout",
     "output_type": "stream",
     "text": [
      "Analisis Incremento: -4_-3 - -3_-2\n",
      "\t <<<  491 \t >>>  728 \t=== 1728\n",
      "Analisis Incremento: -3_-2 - -2_-1\n",
      "\t <<<  633 \t >>>  764 \t=== 1550\n",
      "Analisis Incremento: -2_-1 - -1_0\n",
      "\t <<<  503 \t >>>  1043 \t=== 1401\n",
      "Analisis Incremento: -1_0 - 0_1\n",
      "\t <<<  590 \t >>>  913 \t=== 1444\n",
      "Analisis Incremento: 0_1 - 1_2\n",
      "\t <<<  631 \t >>>  866 \t=== 1450\n",
      "Analisis Incremento: 1_2 - 2_3\n",
      "\t <<<  518 \t >>>  962 \t=== 1467\n",
      "Analisis Incremento: 2_3 - 3_4\n",
      "\t <<<  530 \t >>>  631 \t=== 1786\n"
     ]
    }
   ],
   "source": [
    "for i in range(-4,3):\n",
    "    a = str(i) + '_' + str(i+1)\n",
    "    b = str(i+1) + '_' + str(i+2)\n",
    "    _ = analizeIncrement(data,a,b,debug=True)"
   ]
  },
  {
   "cell_type": "code",
   "execution_count": 65,
   "metadata": {},
   "outputs": [
    {
     "name": "stdout",
     "output_type": "stream",
     "text": [
      "Analisis N° Casos: -4 - -3\n",
      "\t <<<  394 \t >>>  680 \t=== 1873\n",
      "Analisis N° Casos: -3 - -2\n",
      "\t <<<  440 \t >>>  646 \t=== 1861\n",
      "Analisis N° Casos: -2 - -1\n",
      "\t <<<  593 \t >>>  534 \t=== 1820\n",
      "Analisis N° Casos: -1 - 0\n",
      "\t <<<  484 \t >>>  582 \t=== 1881\n",
      "Analisis N° Casos: 0 - 1\n",
      "\t <<<  562 \t >>>  587 \t=== 1798\n",
      "Analisis N° Casos: 1 - 2\n",
      "\t <<<  601 \t >>>  542 \t=== 1804\n",
      "Analisis N° Casos: 2 - 3\n",
      "\t <<<  502 \t >>>  597 \t=== 1848\n"
     ]
    }
   ],
   "source": [
    "for i in range(-4,3):\n",
    "    a = str(i)\n",
    "    b = str(i+1)\n",
    "    _ = analizeNumberOfCases(data,a,b,debug=True)"
   ]
  },
  {
   "cell_type": "code",
   "execution_count": null,
   "metadata": {},
   "outputs": [],
   "source": []
  },
  {
   "cell_type": "code",
   "execution_count": null,
   "metadata": {},
   "outputs": [],
   "source": []
  },
  {
   "cell_type": "code",
   "execution_count": 36,
   "metadata": {},
   "outputs": [
    {
     "data": {
      "text/plain": [
       "0        False\n",
       "1         True\n",
       "2         True\n",
       "3         True\n",
       "4         True\n",
       "         ...  \n",
       "36894    False\n",
       "36895    False\n",
       "36896    False\n",
       "36897    False\n",
       "36898    False\n",
       "Name: TIPO_EVENTO, Length: 36899, dtype: bool"
      ]
     },
     "execution_count": 36,
     "metadata": {},
     "output_type": "execute_result"
    }
   ],
   "source": [
    "casos['TIPO_EVENTO'] == 'Accidente por MAP'"
   ]
  },
  {
   "cell_type": "code",
   "execution_count": null,
   "metadata": {},
   "outputs": [],
   "source": []
  }
 ],
 "metadata": {
  "colab": {
   "authorship_tag": "ABX9TyM4qQovgcXRsI5DqxZWzmry",
   "collapsed_sections": [],
   "name": "ExploracionMinas.ipynb",
   "provenance": []
  },
  "kernelspec": {
   "display_name": "Python 3",
   "language": "python",
   "name": "python3"
  },
  "language_info": {
   "codemirror_mode": {
    "name": "ipython",
    "version": 3
   },
   "file_extension": ".py",
   "mimetype": "text/x-python",
   "name": "python",
   "nbconvert_exporter": "python",
   "pygments_lexer": "ipython3",
   "version": "3.8.5"
  }
 },
 "nbformat": 4,
 "nbformat_minor": 1
}
