{
 "cells": [
  {
   "cell_type": "code",
   "execution_count": 1,
   "metadata": {},
   "outputs": [],
   "source": [
    "from helpers import * \n",
    "import numpy as np\n",
    "import pandas as pd\n",
    "import seaborn as sns"
   ]
  },
  {
   "cell_type": "code",
   "execution_count": 2,
   "metadata": {},
   "outputs": [],
   "source": [
    "df1 = pd.read_csv('Consolidado Municipio.csv')"
   ]
  },
  {
   "cell_type": "code",
   "execution_count": 3,
   "metadata": {
    "scrolled": true
   },
   "outputs": [
    {
     "data": {
      "text/html": [
       "<div>\n",
       "<style scoped>\n",
       "    .dataframe tbody tr th:only-of-type {\n",
       "        vertical-align: middle;\n",
       "    }\n",
       "\n",
       "    .dataframe tbody tr th {\n",
       "        vertical-align: top;\n",
       "    }\n",
       "\n",
       "    .dataframe thead th {\n",
       "        text-align: right;\n",
       "    }\n",
       "</style>\n",
       "<table border=\"1\" class=\"dataframe\">\n",
       "  <thead>\n",
       "    <tr style=\"text-align: right;\">\n",
       "      <th></th>\n",
       "      <th>COD_DANE_MUN</th>\n",
       "      <th>ANNOH</th>\n",
       "      <th>Desaparicion</th>\n",
       "      <th>Explosión mina antipersonal</th>\n",
       "      <th>Munición sin Explotar</th>\n",
       "      <th>Secuestro a Civil</th>\n",
       "      <th>Secuestro a Combatiente</th>\n",
       "    </tr>\n",
       "  </thead>\n",
       "  <tbody>\n",
       "    <tr>\n",
       "      <th>0</th>\n",
       "      <td>5000</td>\n",
       "      <td>1960</td>\n",
       "      <td>8</td>\n",
       "      <td>0</td>\n",
       "      <td>0</td>\n",
       "      <td>0</td>\n",
       "      <td>0</td>\n",
       "    </tr>\n",
       "    <tr>\n",
       "      <th>1</th>\n",
       "      <td>5000</td>\n",
       "      <td>1970</td>\n",
       "      <td>0</td>\n",
       "      <td>0</td>\n",
       "      <td>0</td>\n",
       "      <td>5</td>\n",
       "      <td>0</td>\n",
       "    </tr>\n",
       "    <tr>\n",
       "      <th>2</th>\n",
       "      <td>5000</td>\n",
       "      <td>1980</td>\n",
       "      <td>5</td>\n",
       "      <td>0</td>\n",
       "      <td>0</td>\n",
       "      <td>2</td>\n",
       "      <td>0</td>\n",
       "    </tr>\n",
       "    <tr>\n",
       "      <th>3</th>\n",
       "      <td>5000</td>\n",
       "      <td>1990</td>\n",
       "      <td>31</td>\n",
       "      <td>0</td>\n",
       "      <td>0</td>\n",
       "      <td>3</td>\n",
       "      <td>0</td>\n",
       "    </tr>\n",
       "    <tr>\n",
       "      <th>4</th>\n",
       "      <td>5000</td>\n",
       "      <td>2000</td>\n",
       "      <td>8</td>\n",
       "      <td>0</td>\n",
       "      <td>0</td>\n",
       "      <td>13</td>\n",
       "      <td>0</td>\n",
       "    </tr>\n",
       "    <tr>\n",
       "      <th>5</th>\n",
       "      <td>5000</td>\n",
       "      <td>2010</td>\n",
       "      <td>0</td>\n",
       "      <td>0</td>\n",
       "      <td>0</td>\n",
       "      <td>1</td>\n",
       "      <td>0</td>\n",
       "    </tr>\n",
       "    <tr>\n",
       "      <th>6</th>\n",
       "      <td>5001</td>\n",
       "      <td>1960</td>\n",
       "      <td>12</td>\n",
       "      <td>0</td>\n",
       "      <td>0</td>\n",
       "      <td>1</td>\n",
       "      <td>0</td>\n",
       "    </tr>\n",
       "    <tr>\n",
       "      <th>7</th>\n",
       "      <td>5001</td>\n",
       "      <td>1970</td>\n",
       "      <td>9</td>\n",
       "      <td>0</td>\n",
       "      <td>0</td>\n",
       "      <td>2</td>\n",
       "      <td>0</td>\n",
       "    </tr>\n",
       "    <tr>\n",
       "      <th>8</th>\n",
       "      <td>5001</td>\n",
       "      <td>1980</td>\n",
       "      <td>202</td>\n",
       "      <td>0</td>\n",
       "      <td>0</td>\n",
       "      <td>38</td>\n",
       "      <td>0</td>\n",
       "    </tr>\n",
       "    <tr>\n",
       "      <th>9</th>\n",
       "      <td>5001</td>\n",
       "      <td>1990</td>\n",
       "      <td>717</td>\n",
       "      <td>1</td>\n",
       "      <td>2</td>\n",
       "      <td>173</td>\n",
       "      <td>0</td>\n",
       "    </tr>\n",
       "  </tbody>\n",
       "</table>\n",
       "</div>"
      ],
      "text/plain": [
       "   COD_DANE_MUN  ANNOH  Desaparicion  Explosión mina antipersonal  \\\n",
       "0          5000   1960             8                            0   \n",
       "1          5000   1970             0                            0   \n",
       "2          5000   1980             5                            0   \n",
       "3          5000   1990            31                            0   \n",
       "4          5000   2000             8                            0   \n",
       "5          5000   2010             0                            0   \n",
       "6          5001   1960            12                            0   \n",
       "7          5001   1970             9                            0   \n",
       "8          5001   1980           202                            0   \n",
       "9          5001   1990           717                            1   \n",
       "\n",
       "   Munición sin Explotar  Secuestro a Civil  Secuestro a Combatiente  \n",
       "0                      0                  0                        0  \n",
       "1                      0                  5                        0  \n",
       "2                      0                  2                        0  \n",
       "3                      0                  3                        0  \n",
       "4                      0                 13                        0  \n",
       "5                      0                  1                        0  \n",
       "6                      0                  1                        0  \n",
       "7                      0                  2                        0  \n",
       "8                      0                 38                        0  \n",
       "9                      2                173                        0  "
      ]
     },
     "execution_count": 3,
     "metadata": {},
     "output_type": "execute_result"
    }
   ],
   "source": [
    "df1.head(10)"
   ]
  },
  {
   "cell_type": "code",
   "execution_count": 4,
   "metadata": {},
   "outputs": [
    {
     "data": {
      "text/plain": [
       "Index(['Desaparicion', 'Explosión mina antipersonal', 'Munición sin Explotar',\n",
       "       'Secuestro a Civil', 'Secuestro a Combatiente'],\n",
       "      dtype='object')"
      ]
     },
     "execution_count": 4,
     "metadata": {},
     "output_type": "execute_result"
    }
   ],
   "source": [
    "DATA_COLUMNS = df1.columns[2:]\n",
    "DATA_COLUMNS"
   ]
  },
  {
   "cell_type": "code",
   "execution_count": 9,
   "metadata": {},
   "outputs": [
    {
     "data": {
      "text/plain": [
       "array([0.35757686, 0.15475372, 0.09701577, 0.34415645, 0.00865208])"
      ]
     },
     "execution_count": 9,
     "metadata": {},
     "output_type": "execute_result"
    }
   ],
   "source": [
    "r2 = R_2(df1.loc[:, DATA_COLUMNS])\n",
    "r2"
   ]
  },
  {
   "cell_type": "code",
   "execution_count": 10,
   "metadata": {},
   "outputs": [
    {
     "data": {
      "text/plain": [
       "<AxesSubplot:>"
      ]
     },
     "execution_count": 10,
     "metadata": {},
     "output_type": "execute_result"
    },
    {
     "data": {
      "image/png": "[encoded data removed]",
      "text/plain": [
       "<Figure size 432x288 with 2 Axes>"
      ]
     },
     "metadata": {
      "needs_background": "light"
     },
     "output_type": "display_data"
    }
   ],
   "source": [
    "corr = df1.loc[:, DATA_COLUMNS].corr(method=\"spearman\")\n",
    "sns.heatmap(corr)"
   ]
  },
  {
   "cell_type": "code",
   "execution_count": 11,
   "metadata": {},
   "outputs": [
    {
     "data": {
      "text/html": [
       "<div>\n",
       "<style scoped>\n",
       "    .dataframe tbody tr th:only-of-type {\n",
       "        vertical-align: middle;\n",
       "    }\n",
       "\n",
       "    .dataframe tbody tr th {\n",
       "        vertical-align: top;\n",
       "    }\n",
       "\n",
       "    .dataframe thead th {\n",
       "        text-align: right;\n",
       "    }\n",
       "</style>\n",
       "<table border=\"1\" class=\"dataframe\">\n",
       "  <thead>\n",
       "    <tr style=\"text-align: right;\">\n",
       "      <th></th>\n",
       "      <th>Desaparicion</th>\n",
       "      <th>Explosión mina antipersonal</th>\n",
       "      <th>Munición sin Explotar</th>\n",
       "      <th>Secuestro a Civil</th>\n",
       "      <th>Secuestro a Combatiente</th>\n",
       "    </tr>\n",
       "  </thead>\n",
       "  <tbody>\n",
       "    <tr>\n",
       "      <th>Desaparicion</th>\n",
       "      <td>1.000000</td>\n",
       "      <td>0.300141</td>\n",
       "      <td>0.147252</td>\n",
       "      <td>0.599098</td>\n",
       "      <td>0.241841</td>\n",
       "    </tr>\n",
       "    <tr>\n",
       "      <th>Explosión mina antipersonal</th>\n",
       "      <td>0.300141</td>\n",
       "      <td>1.000000</td>\n",
       "      <td>0.253512</td>\n",
       "      <td>0.365705</td>\n",
       "      <td>0.179148</td>\n",
       "    </tr>\n",
       "    <tr>\n",
       "      <th>Munición sin Explotar</th>\n",
       "      <td>0.147252</td>\n",
       "      <td>0.253512</td>\n",
       "      <td>1.000000</td>\n",
       "      <td>0.162099</td>\n",
       "      <td>0.129627</td>\n",
       "    </tr>\n",
       "    <tr>\n",
       "      <th>Secuestro a Civil</th>\n",
       "      <td>0.599098</td>\n",
       "      <td>0.365705</td>\n",
       "      <td>0.162099</td>\n",
       "      <td>1.000000</td>\n",
       "      <td>0.293631</td>\n",
       "    </tr>\n",
       "    <tr>\n",
       "      <th>Secuestro a Combatiente</th>\n",
       "      <td>0.241841</td>\n",
       "      <td>0.179148</td>\n",
       "      <td>0.129627</td>\n",
       "      <td>0.293631</td>\n",
       "      <td>1.000000</td>\n",
       "    </tr>\n",
       "  </tbody>\n",
       "</table>\n",
       "</div>"
      ],
      "text/plain": [
       "                             Desaparicion  Explosión mina antipersonal  \\\n",
       "Desaparicion                     1.000000                     0.300141   \n",
       "Explosión mina antipersonal      0.300141                     1.000000   \n",
       "Munición sin Explotar            0.147252                     0.253512   \n",
       "Secuestro a Civil                0.599098                     0.365705   \n",
       "Secuestro a Combatiente          0.241841                     0.179148   \n",
       "\n",
       "                             Munición sin Explotar  Secuestro a Civil  \\\n",
       "Desaparicion                              0.147252           0.599098   \n",
       "Explosión mina antipersonal               0.253512           0.365705   \n",
       "Munición sin Explotar                     1.000000           0.162099   \n",
       "Secuestro a Civil                         0.162099           1.000000   \n",
       "Secuestro a Combatiente                   0.129627           0.293631   \n",
       "\n",
       "                             Secuestro a Combatiente  \n",
       "Desaparicion                                0.241841  \n",
       "Explosión mina antipersonal                 0.179148  \n",
       "Munición sin Explotar                       0.129627  \n",
       "Secuestro a Civil                           0.293631  \n",
       "Secuestro a Combatiente                     1.000000  "
      ]
     },
     "execution_count": 11,
     "metadata": {},
     "output_type": "execute_result"
    }
   ],
   "source": [
    "corr"
   ]
  },
  {
   "cell_type": "code",
   "execution_count": 12,
   "metadata": {},
   "outputs": [
    {
     "data": {
      "text/plain": [
       "<matplotlib.collections.EllipseCollection at 0x1d4ca209700>"
      ]
     },
     "execution_count": 12,
     "metadata": {},
     "output_type": "execute_result"
    },
    {
     "data": {
      "image/png": "[encoded data removed]",
      "text/plain": [
       "<Figure size 432x288 with 1 Axes>"
      ]
     },
     "metadata": {
      "needs_background": "light"
     },
     "output_type": "display_data"
    }
   ],
   "source": [
    "plot_corr_ellipses(corr,cmap='Reds')"
   ]
  },
  {
   "cell_type": "code",
   "execution_count": 13,
   "metadata": {},
   "outputs": [
    {
     "data": {
      "text/plain": [
       "51162472.61105603"
      ]
     },
     "execution_count": 13,
     "metadata": {},
     "output_type": "execute_result"
    }
   ],
   "source": [
    "np.linalg.det(df1.loc[:, DATA_COLUMNS].cov())"
   ]
  },
  {
   "cell_type": "code",
   "execution_count": 14,
   "metadata": {},
   "outputs": [],
   "source": [
    "coor_p_df1 = corr_partial(df1.iloc[:, 2:])"
   ]
  },
  {
   "cell_type": "code",
   "execution_count": 15,
   "metadata": {},
   "outputs": [
    {
     "data": {
      "text/plain": [
       "<AxesSubplot:>"
      ]
     },
     "execution_count": 15,
     "metadata": {},
     "output_type": "execute_result"
    },
    {
     "data": {
      "image/png": "[encoded data removed]",
      "text/plain": [
       "<Figure size 432x288 with 2 Axes>"
      ]
     },
     "metadata": {
      "needs_background": "light"
     },
     "output_type": "display_data"
    }
   ],
   "source": [
    "sns.heatmap(coor_p_df1)"
   ]
  },
  {
   "cell_type": "code",
   "execution_count": 16,
   "metadata": {},
   "outputs": [
    {
     "data": {
      "text/plain": [
       "<matplotlib.collections.EllipseCollection at 0x1d4ca2e8b80>"
      ]
     },
     "execution_count": 16,
     "metadata": {},
     "output_type": "execute_result"
    },
    {
     "data": {
      "image/png": "[encoded data removed]",
      "text/plain": [
       "<Figure size 432x288 with 1 Axes>"
      ]
     },
     "metadata": {
      "needs_background": "light"
     },
     "output_type": "display_data"
    }
   ],
   "source": [
    "plot_corr_ellipses(coor_p_df1,cmap='Reds')"
   ]
  },
  {
   "cell_type": "code",
   "execution_count": 25,
   "metadata": {},
   "outputs": [],
   "source": [
    "from sklearn.covariance import EmpiricalCovariance, MinCovDet, LedoitWolf\n",
    "\n",
    "empirical_cov = EmpiricalCovariance().fit(df1.loc[:, DATA_COLUMNS])"
   ]
  },
  {
   "cell_type": "code",
   "execution_count": 32,
   "metadata": {},
   "outputs": [
    {
     "data": {
      "text/plain": [
       "array([21.10645527,  1.54784824,  0.03340883,  9.51642129,  0.3788222 ])"
      ]
     },
     "execution_count": 32,
     "metadata": {},
     "output_type": "execute_result"
    }
   ],
   "source": [
    "empirical_cov.location_"
   ]
  },
  {
   "cell_type": "code",
   "execution_count": 33,
   "metadata": {},
   "outputs": [
    {
     "data": {
      "text/plain": [
       "<AxesSubplot:>"
      ]
     },
     "execution_count": 33,
     "metadata": {},
     "output_type": "execute_result"
    },
    {
     "data": {
      "image/png": "[encoded data removed]",
      "text/plain": [
       "<Figure size 432x288 with 2 Axes>"
      ]
     },
     "metadata": {
      "needs_background": "light"
     },
     "output_type": "display_data"
    }
   ],
   "source": [
    "cov = pd.DataFrame(data=empirical_cov.covariance_, index=df1.loc[:, DATA_COLUMNS].columns, columns=DATA_COLUMNS)\n",
    "sns.heatmap(np.log(cov))"
   ]
  },
  {
   "cell_type": "code",
   "execution_count": 34,
   "metadata": {
    "scrolled": true
   },
   "outputs": [
    {
     "data": {
      "text/html": [
       "<div>\n",
       "<style scoped>\n",
       "    .dataframe tbody tr th:only-of-type {\n",
       "        vertical-align: middle;\n",
       "    }\n",
       "\n",
       "    .dataframe tbody tr th {\n",
       "        vertical-align: top;\n",
       "    }\n",
       "\n",
       "    .dataframe thead th {\n",
       "        text-align: right;\n",
       "    }\n",
       "</style>\n",
       "<table border=\"1\" class=\"dataframe\">\n",
       "  <thead>\n",
       "    <tr style=\"text-align: right;\">\n",
       "      <th></th>\n",
       "      <th>Desaparicion</th>\n",
       "      <th>Explosión mina antipersonal</th>\n",
       "      <th>Munición sin Explotar</th>\n",
       "      <th>Secuestro a Civil</th>\n",
       "      <th>Secuestro a Combatiente</th>\n",
       "    </tr>\n",
       "  </thead>\n",
       "  <tbody>\n",
       "    <tr>\n",
       "      <th>Desaparicion</th>\n",
       "      <td>3879.420151</td>\n",
       "      <td>154.817386</td>\n",
       "      <td>3.720962</td>\n",
       "      <td>826.787323</td>\n",
       "      <td>19.702594</td>\n",
       "    </tr>\n",
       "    <tr>\n",
       "      <th>Explosión mina antipersonal</th>\n",
       "      <td>154.817386</td>\n",
       "      <td>59.067643</td>\n",
       "      <td>0.407235</td>\n",
       "      <td>58.781915</td>\n",
       "      <td>0.573607</td>\n",
       "    </tr>\n",
       "    <tr>\n",
       "      <th>Munición sin Explotar</th>\n",
       "      <td>3.720962</td>\n",
       "      <td>0.407235</td>\n",
       "      <td>0.050979</td>\n",
       "      <td>1.115533</td>\n",
       "      <td>0.010843</td>\n",
       "    </tr>\n",
       "    <tr>\n",
       "      <th>Secuestro a Civil</th>\n",
       "      <td>826.787323</td>\n",
       "      <td>58.781915</td>\n",
       "      <td>1.115533</td>\n",
       "      <td>552.915642</td>\n",
       "      <td>7.234719</td>\n",
       "    </tr>\n",
       "    <tr>\n",
       "      <th>Secuestro a Combatiente</th>\n",
       "      <td>19.702594</td>\n",
       "      <td>0.573607</td>\n",
       "      <td>0.010843</td>\n",
       "      <td>7.234719</td>\n",
       "      <td>14.982768</td>\n",
       "    </tr>\n",
       "  </tbody>\n",
       "</table>\n",
       "</div>"
      ],
      "text/plain": [
       "                             Desaparicion  Explosión mina antipersonal  \\\n",
       "Desaparicion                  3879.420151                   154.817386   \n",
       "Explosión mina antipersonal    154.817386                    59.067643   \n",
       "Munición sin Explotar            3.720962                     0.407235   \n",
       "Secuestro a Civil              826.787323                    58.781915   \n",
       "Secuestro a Combatiente         19.702594                     0.573607   \n",
       "\n",
       "                             Munición sin Explotar  Secuestro a Civil  \\\n",
       "Desaparicion                              3.720962         826.787323   \n",
       "Explosión mina antipersonal               0.407235          58.781915   \n",
       "Munición sin Explotar                     0.050979           1.115533   \n",
       "Secuestro a Civil                         1.115533         552.915642   \n",
       "Secuestro a Combatiente                   0.010843           7.234719   \n",
       "\n",
       "                             Secuestro a Combatiente  \n",
       "Desaparicion                               19.702594  \n",
       "Explosión mina antipersonal                 0.573607  \n",
       "Munición sin Explotar                       0.010843  \n",
       "Secuestro a Civil                           7.234719  \n",
       "Secuestro a Combatiente                    14.982768  "
      ]
     },
     "execution_count": 34,
     "metadata": {},
     "output_type": "execute_result"
    }
   ],
   "source": [
    "cov"
   ]
  },
  {
   "cell_type": "code",
   "execution_count": 35,
   "metadata": {},
   "outputs": [],
   "source": [
    "ledoit_cov = LedoitWolf().fit(df1.loc[:, DATA_COLUMNS])\n",
    "cov = pd.DataFrame(data=ledoit_cov.covariance_, index=df1.loc[:, DATA_COLUMNS].columns, columns=DATA_COLUMNS)"
   ]
  },
  {
   "cell_type": "code",
   "execution_count": 36,
   "metadata": {
    "scrolled": true
   },
   "outputs": [
    {
     "data": {
      "text/html": [
       "<div>\n",
       "<style scoped>\n",
       "    .dataframe tbody tr th:only-of-type {\n",
       "        vertical-align: middle;\n",
       "    }\n",
       "\n",
       "    .dataframe tbody tr th {\n",
       "        vertical-align: top;\n",
       "    }\n",
       "\n",
       "    .dataframe thead th {\n",
       "        text-align: right;\n",
       "    }\n",
       "</style>\n",
       "<table border=\"1\" class=\"dataframe\">\n",
       "  <thead>\n",
       "    <tr style=\"text-align: right;\">\n",
       "      <th></th>\n",
       "      <th>Desaparicion</th>\n",
       "      <th>Explosión mina antipersonal</th>\n",
       "      <th>Munición sin Explotar</th>\n",
       "      <th>Secuestro a Civil</th>\n",
       "      <th>Secuestro a Combatiente</th>\n",
       "    </tr>\n",
       "  </thead>\n",
       "  <tbody>\n",
       "    <tr>\n",
       "      <th>Desaparicion</th>\n",
       "      <td>3747.513487</td>\n",
       "      <td>147.960256</td>\n",
       "      <td>3.556154</td>\n",
       "      <td>790.167478</td>\n",
       "      <td>18.829932</td>\n",
       "    </tr>\n",
       "    <tr>\n",
       "      <th>Explosión mina antipersonal</th>\n",
       "      <td>147.960256</td>\n",
       "      <td>96.371018</td>\n",
       "      <td>0.389198</td>\n",
       "      <td>56.178362</td>\n",
       "      <td>0.548201</td>\n",
       "    </tr>\n",
       "    <tr>\n",
       "      <th>Munición sin Explotar</th>\n",
       "      <td>3.556154</td>\n",
       "      <td>0.389198</td>\n",
       "      <td>39.968305</td>\n",
       "      <td>1.066124</td>\n",
       "      <td>0.010363</td>\n",
       "    </tr>\n",
       "    <tr>\n",
       "      <th>Secuestro a Civil</th>\n",
       "      <td>790.167478</td>\n",
       "      <td>56.178362</td>\n",
       "      <td>1.066124</td>\n",
       "      <td>568.345633</td>\n",
       "      <td>6.914281</td>\n",
       "    </tr>\n",
       "    <tr>\n",
       "      <th>Secuestro a Combatiente</th>\n",
       "      <td>18.829932</td>\n",
       "      <td>0.548201</td>\n",
       "      <td>0.010363</td>\n",
       "      <td>6.914281</td>\n",
       "      <td>54.238739</td>\n",
       "    </tr>\n",
       "  </tbody>\n",
       "</table>\n",
       "</div>"
      ],
      "text/plain": [
       "                             Desaparicion  Explosión mina antipersonal  \\\n",
       "Desaparicion                  3747.513487                   147.960256   \n",
       "Explosión mina antipersonal    147.960256                    96.371018   \n",
       "Munición sin Explotar            3.556154                     0.389198   \n",
       "Secuestro a Civil              790.167478                    56.178362   \n",
       "Secuestro a Combatiente         18.829932                     0.548201   \n",
       "\n",
       "                             Munición sin Explotar  Secuestro a Civil  \\\n",
       "Desaparicion                              3.556154         790.167478   \n",
       "Explosión mina antipersonal               0.389198          56.178362   \n",
       "Munición sin Explotar                    39.968305           1.066124   \n",
       "Secuestro a Civil                         1.066124         568.345633   \n",
       "Secuestro a Combatiente                   0.010363           6.914281   \n",
       "\n",
       "                             Secuestro a Combatiente  \n",
       "Desaparicion                               18.829932  \n",
       "Explosión mina antipersonal                 0.548201  \n",
       "Munición sin Explotar                       0.010363  \n",
       "Secuestro a Civil                           6.914281  \n",
       "Secuestro a Combatiente                    54.238739  "
      ]
     },
     "execution_count": 36,
     "metadata": {},
     "output_type": "execute_result"
    }
   ],
   "source": [
    "cov"
   ]
  },
  {
   "cell_type": "code",
   "execution_count": 37,
   "metadata": {},
   "outputs": [],
   "source": [
    "mcd_cov = MinCovDet().fit(df1.loc[:, DATA_COLUMNS])\n",
    "cov = pd.DataFrame(data=mcd_cov.covariance_, index=df1.loc[:, DATA_COLUMNS].columns, columns=DATA_COLUMNS)"
   ]
  },
  {
   "cell_type": "code",
   "execution_count": 38,
   "metadata": {},
   "outputs": [
    {
     "data": {
      "text/plain": [
       "array([2.56979514, 0.19104335, 0.00952835, 1.38780372, 0.        ])"
      ]
     },
     "execution_count": 38,
     "metadata": {},
     "output_type": "execute_result"
    }
   ],
   "source": [
    "mcd_cov.location_"
   ]
  },
  {
   "cell_type": "code",
   "execution_count": 39,
   "metadata": {},
   "outputs": [
    {
     "data": {
      "text/html": [
       "<div>\n",
       "<style scoped>\n",
       "    .dataframe tbody tr th:only-of-type {\n",
       "        vertical-align: middle;\n",
       "    }\n",
       "\n",
       "    .dataframe tbody tr th {\n",
       "        vertical-align: top;\n",
       "    }\n",
       "\n",
       "    .dataframe thead th {\n",
       "        text-align: right;\n",
       "    }\n",
       "</style>\n",
       "<table border=\"1\" class=\"dataframe\">\n",
       "  <thead>\n",
       "    <tr style=\"text-align: right;\">\n",
       "      <th></th>\n",
       "      <th>Desaparicion</th>\n",
       "      <th>Explosión mina antipersonal</th>\n",
       "      <th>Munición sin Explotar</th>\n",
       "      <th>Secuestro a Civil</th>\n",
       "      <th>Secuestro a Combatiente</th>\n",
       "    </tr>\n",
       "  </thead>\n",
       "  <tbody>\n",
       "    <tr>\n",
       "      <th>Desaparicion</th>\n",
       "      <td>7.505729</td>\n",
       "      <td>0.106009</td>\n",
       "      <td>-0.003047</td>\n",
       "      <td>0.827626</td>\n",
       "      <td>0.0</td>\n",
       "    </tr>\n",
       "    <tr>\n",
       "      <th>Explosión mina antipersonal</th>\n",
       "      <td>0.106009</td>\n",
       "      <td>0.737681</td>\n",
       "      <td>0.009137</td>\n",
       "      <td>0.166980</td>\n",
       "      <td>0.0</td>\n",
       "    </tr>\n",
       "    <tr>\n",
       "      <th>Munición sin Explotar</th>\n",
       "      <td>-0.003047</td>\n",
       "      <td>0.009137</td>\n",
       "      <td>0.016107</td>\n",
       "      <td>0.001545</td>\n",
       "      <td>0.0</td>\n",
       "    </tr>\n",
       "    <tr>\n",
       "      <th>Secuestro a Civil</th>\n",
       "      <td>0.827626</td>\n",
       "      <td>0.166980</td>\n",
       "      <td>0.001545</td>\n",
       "      <td>2.600442</td>\n",
       "      <td>0.0</td>\n",
       "    </tr>\n",
       "    <tr>\n",
       "      <th>Secuestro a Combatiente</th>\n",
       "      <td>0.000000</td>\n",
       "      <td>0.000000</td>\n",
       "      <td>0.000000</td>\n",
       "      <td>0.000000</td>\n",
       "      <td>0.0</td>\n",
       "    </tr>\n",
       "  </tbody>\n",
       "</table>\n",
       "</div>"
      ],
      "text/plain": [
       "                             Desaparicion  Explosión mina antipersonal  \\\n",
       "Desaparicion                     7.505729                     0.106009   \n",
       "Explosión mina antipersonal      0.106009                     0.737681   \n",
       "Munición sin Explotar           -0.003047                     0.009137   \n",
       "Secuestro a Civil                0.827626                     0.166980   \n",
       "Secuestro a Combatiente          0.000000                     0.000000   \n",
       "\n",
       "                             Munición sin Explotar  Secuestro a Civil  \\\n",
       "Desaparicion                             -0.003047           0.827626   \n",
       "Explosión mina antipersonal               0.009137           0.166980   \n",
       "Munición sin Explotar                     0.016107           0.001545   \n",
       "Secuestro a Civil                         0.001545           2.600442   \n",
       "Secuestro a Combatiente                   0.000000           0.000000   \n",
       "\n",
       "                             Secuestro a Combatiente  \n",
       "Desaparicion                                     0.0  \n",
       "Explosión mina antipersonal                      0.0  \n",
       "Munición sin Explotar                            0.0  \n",
       "Secuestro a Civil                                0.0  \n",
       "Secuestro a Combatiente                          0.0  "
      ]
     },
     "execution_count": 39,
     "metadata": {},
     "output_type": "execute_result"
    }
   ],
   "source": [
    "cov"
   ]
  },
  {
   "cell_type": "code",
   "execution_count": 40,
   "metadata": {},
   "outputs": [
    {
     "data": {
      "text/html": [
       "<div>\n",
       "<style scoped>\n",
       "    .dataframe tbody tr th:only-of-type {\n",
       "        vertical-align: middle;\n",
       "    }\n",
       "\n",
       "    .dataframe tbody tr th {\n",
       "        vertical-align: top;\n",
       "    }\n",
       "\n",
       "    .dataframe thead th {\n",
       "        text-align: right;\n",
       "    }\n",
       "</style>\n",
       "<table border=\"1\" class=\"dataframe\">\n",
       "  <thead>\n",
       "    <tr style=\"text-align: right;\">\n",
       "      <th></th>\n",
       "      <th>COD_DANE_MUN</th>\n",
       "      <th>ANNOH</th>\n",
       "      <th>Desaparicion</th>\n",
       "      <th>Explosión mina antipersonal</th>\n",
       "      <th>Munición sin Explotar</th>\n",
       "      <th>Secuestro a Civil</th>\n",
       "      <th>Secuestro a Combatiente</th>\n",
       "    </tr>\n",
       "  </thead>\n",
       "  <tbody>\n",
       "    <tr>\n",
       "      <th>0</th>\n",
       "      <td>5000</td>\n",
       "      <td>1960</td>\n",
       "      <td>8</td>\n",
       "      <td>0</td>\n",
       "      <td>0</td>\n",
       "      <td>0</td>\n",
       "      <td>0</td>\n",
       "    </tr>\n",
       "    <tr>\n",
       "      <th>1</th>\n",
       "      <td>5000</td>\n",
       "      <td>1970</td>\n",
       "      <td>0</td>\n",
       "      <td>0</td>\n",
       "      <td>0</td>\n",
       "      <td>5</td>\n",
       "      <td>0</td>\n",
       "    </tr>\n",
       "    <tr>\n",
       "      <th>2</th>\n",
       "      <td>5000</td>\n",
       "      <td>1980</td>\n",
       "      <td>5</td>\n",
       "      <td>0</td>\n",
       "      <td>0</td>\n",
       "      <td>2</td>\n",
       "      <td>0</td>\n",
       "    </tr>\n",
       "    <tr>\n",
       "      <th>3</th>\n",
       "      <td>5000</td>\n",
       "      <td>1990</td>\n",
       "      <td>31</td>\n",
       "      <td>0</td>\n",
       "      <td>0</td>\n",
       "      <td>3</td>\n",
       "      <td>0</td>\n",
       "    </tr>\n",
       "    <tr>\n",
       "      <th>4</th>\n",
       "      <td>5000</td>\n",
       "      <td>2000</td>\n",
       "      <td>8</td>\n",
       "      <td>0</td>\n",
       "      <td>0</td>\n",
       "      <td>13</td>\n",
       "      <td>0</td>\n",
       "    </tr>\n",
       "    <tr>\n",
       "      <th>...</th>\n",
       "      <td>...</td>\n",
       "      <td>...</td>\n",
       "      <td>...</td>\n",
       "      <td>...</td>\n",
       "      <td>...</td>\n",
       "      <td>...</td>\n",
       "      <td>...</td>\n",
       "    </tr>\n",
       "    <tr>\n",
       "      <th>3527</th>\n",
       "      <td>99624</td>\n",
       "      <td>2000</td>\n",
       "      <td>4</td>\n",
       "      <td>0</td>\n",
       "      <td>0</td>\n",
       "      <td>0</td>\n",
       "      <td>0</td>\n",
       "    </tr>\n",
       "    <tr>\n",
       "      <th>3528</th>\n",
       "      <td>99773</td>\n",
       "      <td>1980</td>\n",
       "      <td>20</td>\n",
       "      <td>0</td>\n",
       "      <td>0</td>\n",
       "      <td>3</td>\n",
       "      <td>0</td>\n",
       "    </tr>\n",
       "    <tr>\n",
       "      <th>3529</th>\n",
       "      <td>99773</td>\n",
       "      <td>1990</td>\n",
       "      <td>37</td>\n",
       "      <td>0</td>\n",
       "      <td>0</td>\n",
       "      <td>8</td>\n",
       "      <td>6</td>\n",
       "    </tr>\n",
       "    <tr>\n",
       "      <th>3530</th>\n",
       "      <td>99773</td>\n",
       "      <td>2000</td>\n",
       "      <td>136</td>\n",
       "      <td>0</td>\n",
       "      <td>0</td>\n",
       "      <td>42</td>\n",
       "      <td>0</td>\n",
       "    </tr>\n",
       "    <tr>\n",
       "      <th>3531</th>\n",
       "      <td>99773</td>\n",
       "      <td>2010</td>\n",
       "      <td>16</td>\n",
       "      <td>1</td>\n",
       "      <td>0</td>\n",
       "      <td>26</td>\n",
       "      <td>0</td>\n",
       "    </tr>\n",
       "  </tbody>\n",
       "</table>\n",
       "<p>3532 rows × 7 columns</p>\n",
       "</div>"
      ],
      "text/plain": [
       "      COD_DANE_MUN  ANNOH  Desaparicion  Explosión mina antipersonal  \\\n",
       "0             5000   1960             8                            0   \n",
       "1             5000   1970             0                            0   \n",
       "2             5000   1980             5                            0   \n",
       "3             5000   1990            31                            0   \n",
       "4             5000   2000             8                            0   \n",
       "...            ...    ...           ...                          ...   \n",
       "3527         99624   2000             4                            0   \n",
       "3528         99773   1980            20                            0   \n",
       "3529         99773   1990            37                            0   \n",
       "3530         99773   2000           136                            0   \n",
       "3531         99773   2010            16                            1   \n",
       "\n",
       "      Munición sin Explotar  Secuestro a Civil  Secuestro a Combatiente  \n",
       "0                         0                  0                        0  \n",
       "1                         0                  5                        0  \n",
       "2                         0                  2                        0  \n",
       "3                         0                  3                        0  \n",
       "4                         0                 13                        0  \n",
       "...                     ...                ...                      ...  \n",
       "3527                      0                  0                        0  \n",
       "3528                      0                  3                        0  \n",
       "3529                      0                  8                        6  \n",
       "3530                      0                 42                        0  \n",
       "3531                      0                 26                        0  \n",
       "\n",
       "[3532 rows x 7 columns]"
      ]
     },
     "execution_count": 40,
     "metadata": {},
     "output_type": "execute_result"
    }
   ],
   "source": [
    "df1"
   ]
  },
  {
   "cell_type": "code",
   "execution_count": 41,
   "metadata": {},
   "outputs": [],
   "source": [
    "df1[\"dist\"] = mcd_cov.dist_"
   ]
  },
  {
   "cell_type": "code",
   "execution_count": 42,
   "metadata": {},
   "outputs": [],
   "source": [
    "def mahal(vec):\n",
    "    return (vec- mcd_cov.location_)  \\\n",
    "            @ mcd_cov.precision_ \\\n",
    "            @ (vec - mcd_cov.location_)\n",
    "\n",
    "def dimension_minimum(idx, dim):\n",
    "    vec = df1.iloc[idx, 2:-1].values.copy()\n",
    "    left = 0\n",
    "    right = 5000\n",
    "    while abs(right - left) >= 1e-1:\n",
    "        left_third = left + (right - left) / 3\n",
    "        right_third = right - (right - left) / 3\n",
    "\n",
    "        vec[dim] = left_third\n",
    "        f_left_third = mahal(vec)\n",
    "        #print(vec, f_left_third)\n",
    "        vec[dim] = right_third\n",
    "        f_right_third = mahal(vec)\n",
    "        if f_left_third > f_right_third:\n",
    "            left = left_third\n",
    "        else:\n",
    "            right = right_third\n",
    "    \n",
    "    ans = (left + right) / 2\n",
    "    vec[dim] = (left + right) / 2\n",
    "    f_ans = mahal(vec)\n",
    "    return ans, f_ans\n",
    "\n",
    "def outlying_dimension(idx):\n",
    "    max_dist = mahal(vec = df1.iloc[idx, 2:-1].values)\n",
    "    \n",
    "    for i in range(5):\n",
    "        val, dist = dimension_minimum(idx, i)\n",
    "        percentage = 100 * (max_dist-dist) / max_dist\n",
    "        print(f\"{val:.1f} {percentage:.2f}%\")"
   ]
  },
  {
   "cell_type": "code",
   "execution_count": 47,
   "metadata": {
    "scrolled": true
   },
   "outputs": [
    {
     "name": "stdout",
     "output_type": "stream",
     "text": [
      "70.4 92.48%\n",
      "25.0 0.29%\n",
      "0.0 0.18%\n",
      "147.3 0.84%\n",
      "0.0 0.00%\n"
     ]
    }
   ],
   "source": [
    "outlying_dimension(10)"
   ]
  },
  {
   "cell_type": "code",
   "execution_count": 46,
   "metadata": {
    "scrolled": false
   },
   "outputs": [
    {
     "data": {
      "text/html": [
       "<div>\n",
       "<style scoped>\n",
       "    .dataframe tbody tr th:only-of-type {\n",
       "        vertical-align: middle;\n",
       "    }\n",
       "\n",
       "    .dataframe tbody tr th {\n",
       "        vertical-align: top;\n",
       "    }\n",
       "\n",
       "    .dataframe thead th {\n",
       "        text-align: right;\n",
       "    }\n",
       "</style>\n",
       "<table border=\"1\" class=\"dataframe\">\n",
       "  <thead>\n",
       "    <tr style=\"text-align: right;\">\n",
       "      <th></th>\n",
       "      <th>COD_DANE_MUN</th>\n",
       "      <th>ANNOH</th>\n",
       "      <th>Desaparicion</th>\n",
       "      <th>Explosión mina antipersonal</th>\n",
       "      <th>Munición sin Explotar</th>\n",
       "      <th>Secuestro a Civil</th>\n",
       "      <th>Secuestro a Combatiente</th>\n",
       "      <th>dist</th>\n",
       "    </tr>\n",
       "  </thead>\n",
       "  <tbody>\n",
       "    <tr>\n",
       "      <th>10</th>\n",
       "      <td>5001</td>\n",
       "      <td>2000</td>\n",
       "      <td>1359</td>\n",
       "      <td>2</td>\n",
       "      <td>2</td>\n",
       "      <td>219</td>\n",
       "      <td>2</td>\n",
       "      <td>248094.162909</td>\n",
       "    </tr>\n",
       "    <tr>\n",
       "      <th>455</th>\n",
       "      <td>5837</td>\n",
       "      <td>1990</td>\n",
       "      <td>1052</td>\n",
       "      <td>2</td>\n",
       "      <td>0</td>\n",
       "      <td>74</td>\n",
       "      <td>8</td>\n",
       "      <td>147637.070533</td>\n",
       "    </tr>\n",
       "    <tr>\n",
       "      <th>2505</th>\n",
       "      <td>54810</td>\n",
       "      <td>2000</td>\n",
       "      <td>886</td>\n",
       "      <td>72</td>\n",
       "      <td>0</td>\n",
       "      <td>64</td>\n",
       "      <td>1</td>\n",
       "      <td>109675.806483</td>\n",
       "    </tr>\n",
       "    <tr>\n",
       "      <th>62</th>\n",
       "      <td>5055</td>\n",
       "      <td>2000</td>\n",
       "      <td>156</td>\n",
       "      <td>35</td>\n",
       "      <td>1</td>\n",
       "      <td>515</td>\n",
       "      <td>0</td>\n",
       "      <td>101489.166391</td>\n",
       "    </tr>\n",
       "    <tr>\n",
       "      <th>2016</th>\n",
       "      <td>47001</td>\n",
       "      <td>2000</td>\n",
       "      <td>796</td>\n",
       "      <td>1</td>\n",
       "      <td>0</td>\n",
       "      <td>98</td>\n",
       "      <td>0</td>\n",
       "      <td>84084.267835</td>\n",
       "    </tr>\n",
       "    <tr>\n",
       "      <th>2216</th>\n",
       "      <td>50711</td>\n",
       "      <td>2000</td>\n",
       "      <td>534</td>\n",
       "      <td>160</td>\n",
       "      <td>0</td>\n",
       "      <td>176</td>\n",
       "      <td>1</td>\n",
       "      <td>72156.242386</td>\n",
       "    </tr>\n",
       "    <tr>\n",
       "      <th>9</th>\n",
       "      <td>5001</td>\n",
       "      <td>1990</td>\n",
       "      <td>717</td>\n",
       "      <td>1</td>\n",
       "      <td>2</td>\n",
       "      <td>173</td>\n",
       "      <td>0</td>\n",
       "      <td>72107.982416</td>\n",
       "    </tr>\n",
       "    <tr>\n",
       "      <th>3490</th>\n",
       "      <td>95001</td>\n",
       "      <td>2000</td>\n",
       "      <td>715</td>\n",
       "      <td>35</td>\n",
       "      <td>1</td>\n",
       "      <td>99</td>\n",
       "      <td>0</td>\n",
       "      <td>68590.753283</td>\n",
       "    </tr>\n",
       "    <tr>\n",
       "      <th>1256</th>\n",
       "      <td>20001</td>\n",
       "      <td>2000</td>\n",
       "      <td>485</td>\n",
       "      <td>4</td>\n",
       "      <td>0</td>\n",
       "      <td>310</td>\n",
       "      <td>4</td>\n",
       "      <td>57498.094391</td>\n",
       "    </tr>\n",
       "    <tr>\n",
       "      <th>3335</th>\n",
       "      <td>81794</td>\n",
       "      <td>2000</td>\n",
       "      <td>357</td>\n",
       "      <td>164</td>\n",
       "      <td>2</td>\n",
       "      <td>129</td>\n",
       "      <td>2</td>\n",
       "      <td>52216.754452</td>\n",
       "    </tr>\n",
       "    <tr>\n",
       "      <th>11</th>\n",
       "      <td>5001</td>\n",
       "      <td>2010</td>\n",
       "      <td>565</td>\n",
       "      <td>1</td>\n",
       "      <td>0</td>\n",
       "      <td>22</td>\n",
       "      <td>0</td>\n",
       "      <td>42862.728503</td>\n",
       "    </tr>\n",
       "    <tr>\n",
       "      <th>3157</th>\n",
       "      <td>76109</td>\n",
       "      <td>2000</td>\n",
       "      <td>538</td>\n",
       "      <td>0</td>\n",
       "      <td>1</td>\n",
       "      <td>39</td>\n",
       "      <td>0</td>\n",
       "      <td>38541.740162</td>\n",
       "    </tr>\n",
       "    <tr>\n",
       "      <th>2645</th>\n",
       "      <td>68081</td>\n",
       "      <td>2000</td>\n",
       "      <td>538</td>\n",
       "      <td>4</td>\n",
       "      <td>0</td>\n",
       "      <td>76</td>\n",
       "      <td>0</td>\n",
       "      <td>38326.894820</td>\n",
       "    </tr>\n",
       "    <tr>\n",
       "      <th>567</th>\n",
       "      <td>11001</td>\n",
       "      <td>2000</td>\n",
       "      <td>483</td>\n",
       "      <td>9</td>\n",
       "      <td>1</td>\n",
       "      <td>190</td>\n",
       "      <td>0</td>\n",
       "      <td>38224.125632</td>\n",
       "    </tr>\n",
       "    <tr>\n",
       "      <th>3453</th>\n",
       "      <td>86865</td>\n",
       "      <td>2000</td>\n",
       "      <td>493</td>\n",
       "      <td>21</td>\n",
       "      <td>0</td>\n",
       "      <td>128</td>\n",
       "      <td>0</td>\n",
       "      <td>34263.347515</td>\n",
       "    </tr>\n",
       "    <tr>\n",
       "      <th>2108</th>\n",
       "      <td>50001</td>\n",
       "      <td>2000</td>\n",
       "      <td>473</td>\n",
       "      <td>7</td>\n",
       "      <td>3</td>\n",
       "      <td>131</td>\n",
       "      <td>1</td>\n",
       "      <td>32555.814070</td>\n",
       "    </tr>\n",
       "    <tr>\n",
       "      <th>52</th>\n",
       "      <td>5045</td>\n",
       "      <td>1990</td>\n",
       "      <td>493</td>\n",
       "      <td>4</td>\n",
       "      <td>0</td>\n",
       "      <td>56</td>\n",
       "      <td>3</td>\n",
       "      <td>32062.135368</td>\n",
       "    </tr>\n",
       "    <tr>\n",
       "      <th>3131</th>\n",
       "      <td>76001</td>\n",
       "      <td>2000</td>\n",
       "      <td>338</td>\n",
       "      <td>2</td>\n",
       "      <td>0</td>\n",
       "      <td>220</td>\n",
       "      <td>1</td>\n",
       "      <td>28415.270798</td>\n",
       "    </tr>\n",
       "    <tr>\n",
       "      <th>3130</th>\n",
       "      <td>76001</td>\n",
       "      <td>1990</td>\n",
       "      <td>216</td>\n",
       "      <td>0</td>\n",
       "      <td>0</td>\n",
       "      <td>257</td>\n",
       "      <td>0</td>\n",
       "      <td>27960.022103</td>\n",
       "    </tr>\n",
       "    <tr>\n",
       "      <th>2383</th>\n",
       "      <td>52835</td>\n",
       "      <td>2000</td>\n",
       "      <td>455</td>\n",
       "      <td>16</td>\n",
       "      <td>0</td>\n",
       "      <td>59</td>\n",
       "      <td>0</td>\n",
       "      <td>27405.585684</td>\n",
       "    </tr>\n",
       "  </tbody>\n",
       "</table>\n",
       "</div>"
      ],
      "text/plain": [
       "      COD_DANE_MUN  ANNOH  Desaparicion  Explosión mina antipersonal  \\\n",
       "10            5001   2000          1359                            2   \n",
       "455           5837   1990          1052                            2   \n",
       "2505         54810   2000           886                           72   \n",
       "62            5055   2000           156                           35   \n",
       "2016         47001   2000           796                            1   \n",
       "2216         50711   2000           534                          160   \n",
       "9             5001   1990           717                            1   \n",
       "3490         95001   2000           715                           35   \n",
       "1256         20001   2000           485                            4   \n",
       "3335         81794   2000           357                          164   \n",
       "11            5001   2010           565                            1   \n",
       "3157         76109   2000           538                            0   \n",
       "2645         68081   2000           538                            4   \n",
       "567          11001   2000           483                            9   \n",
       "3453         86865   2000           493                           21   \n",
       "2108         50001   2000           473                            7   \n",
       "52            5045   1990           493                            4   \n",
       "3131         76001   2000           338                            2   \n",
       "3130         76001   1990           216                            0   \n",
       "2383         52835   2000           455                           16   \n",
       "\n",
       "      Munición sin Explotar  Secuestro a Civil  Secuestro a Combatiente  \\\n",
       "10                        2                219                        2   \n",
       "455                       0                 74                        8   \n",
       "2505                      0                 64                        1   \n",
       "62                        1                515                        0   \n",
       "2016                      0                 98                        0   \n",
       "2216                      0                176                        1   \n",
       "9                         2                173                        0   \n",
       "3490                      1                 99                        0   \n",
       "1256                      0                310                        4   \n",
       "3335                      2                129                        2   \n",
       "11                        0                 22                        0   \n",
       "3157                      1                 39                        0   \n",
       "2645                      0                 76                        0   \n",
       "567                       1                190                        0   \n",
       "3453                      0                128                        0   \n",
       "2108                      3                131                        1   \n",
       "52                        0                 56                        3   \n",
       "3131                      0                220                        1   \n",
       "3130                      0                257                        0   \n",
       "2383                      0                 59                        0   \n",
       "\n",
       "               dist  \n",
       "10    248094.162909  \n",
       "455   147637.070533  \n",
       "2505  109675.806483  \n",
       "62    101489.166391  \n",
       "2016   84084.267835  \n",
       "2216   72156.242386  \n",
       "9      72107.982416  \n",
       "3490   68590.753283  \n",
       "1256   57498.094391  \n",
       "3335   52216.754452  \n",
       "11     42862.728503  \n",
       "3157   38541.740162  \n",
       "2645   38326.894820  \n",
       "567    38224.125632  \n",
       "3453   34263.347515  \n",
       "2108   32555.814070  \n",
       "52     32062.135368  \n",
       "3131   28415.270798  \n",
       "3130   27960.022103  \n",
       "2383   27405.585684  "
      ]
     },
     "execution_count": 46,
     "metadata": {},
     "output_type": "execute_result"
    }
   ],
   "source": [
    "df1.nlargest(20, \"dist\")"
   ]
  },
  {
   "cell_type": "code",
   "execution_count": 49,
   "metadata": {},
   "outputs": [
    {
     "data": {
      "text/plain": [
       "array([0.40002697, 0.20058997])"
      ]
     },
     "execution_count": 49,
     "metadata": {},
     "output_type": "execute_result"
    }
   ],
   "source": [
    "from sklearn.decomposition import PCA\n",
    "from sklearn.preprocessing import StandardScaler\n",
    "\n",
    "pca = PCA(n_components=2)\n",
    "X = StandardScaler().fit_transform(df1.loc[:, DATA_COLUMNS])\n",
    "pca.fit(X)\n",
    "\n",
    "pca.explained_variance_ratio_"
   ]
  },
  {
   "cell_type": "code",
   "execution_count": 50,
   "metadata": {},
   "outputs": [
    {
     "data": {
      "text/plain": [
       "<AxesSubplot:xlabel='pca1', ylabel='pca2'>"
      ]
     },
     "execution_count": 50,
     "metadata": {},
     "output_type": "execute_result"
    },
    {
     "data": {
      "image/png": "[encoded data removed]",
      "text/plain": [
       "<Figure size 432x288 with 1 Axes>"
      ]
     },
     "metadata": {
      "needs_background": "light"
     },
     "output_type": "display_data"
    }
   ],
   "source": [
    "reduced_data = pca.transform(df1.loc[:, DATA_COLUMNS])\n",
    "df1[\"pca1\"] = reduced_data[:, 0]\n",
    "df1[\"pca2\"] = reduced_data[:, 1]\n",
    "\n",
    "sns.scatterplot(data=df1, x=\"pca1\", y=\"pca2\")"
   ]
  },
  {
   "cell_type": "code",
   "execution_count": 57,
   "metadata": {},
   "outputs": [],
   "source": [
    "drop_index = df1[df1.dist >= df1.dist.quantile(0.99)].index"
   ]
  },
  {
   "cell_type": "code",
   "execution_count": 58,
   "metadata": {},
   "outputs": [],
   "source": [
    "df1.drop(drop_index, inplace=True)"
   ]
  },
  {
   "cell_type": "code",
   "execution_count": 60,
   "metadata": {},
   "outputs": [
    {
     "data": {
      "text/plain": [
       "array([0.37308994, 0.20449797])"
      ]
     },
     "execution_count": 60,
     "metadata": {},
     "output_type": "execute_result"
    }
   ],
   "source": [
    "pca = PCA(n_components=2)\n",
    "X = StandardScaler().fit_transform(df1.loc[:, DATA_COLUMNS])\n",
    "pca.fit(X)\n",
    "\n",
    "pca.explained_variance_ratio_"
   ]
  },
  {
   "cell_type": "code",
   "execution_count": 61,
   "metadata": {},
   "outputs": [
    {
     "data": {
      "text/plain": [
       "<AxesSubplot:xlabel='pca1', ylabel='pca2'>"
      ]
     },
     "execution_count": 61,
     "metadata": {},
     "output_type": "execute_result"
    },
    {
     "data": {
      "image/png": "[encoded data removed]",
      "text/plain": [
       "<Figure size 432x288 with 1 Axes>"
      ]
     },
     "metadata": {
      "needs_background": "light"
     },
     "output_type": "display_data"
    }
   ],
   "source": [
    "reduced_data = pca.transform(df1.loc[:, DATA_COLUMNS])\n",
    "df1[\"pca1\"] = reduced_data[:, 0]\n",
    "df1[\"pca2\"] = reduced_data[:, 1]\n",
    "\n",
    "sns.scatterplot(data=df1, x=\"pca1\", y=\"pca2\")"
   ]
  },
  {
   "cell_type": "code",
   "execution_count": 80,
   "metadata": {},
   "outputs": [
    {
     "data": {
      "text/plain": [
       "<matplotlib.legend.Legend at 0x1d4cdb63d30>"
      ]
     },
     "execution_count": 80,
     "metadata": {},
     "output_type": "execute_result"
    },
    {
     "data": {
      "image/png": "[encoded data removed]",
      "text/plain": [
       "<Figure size 576x432 with 1 Axes>"
      ]
     },
     "metadata": {
      "needs_background": "light"
     },
     "output_type": "display_data"
    }
   ],
   "source": [
    "import itertools\n",
    "from sklearn.mixture import GaussianMixture\n",
    "\n",
    "lowest_bic = np.infty\n",
    "bic = []\n",
    "n_components_range = range(1, 10)\n",
    "#cv_types = ['spherical', 'tied', 'diag', 'full']\n",
    "cv_types = ['tied']\n",
    "for cv_type in cv_types:\n",
    "    for n_components in n_components_range:\n",
    "        # Fit a Gaussian mixture with EM\n",
    "        gmm = GaussianMixture(n_components=n_components,\n",
    "                                      covariance_type=cv_type)\n",
    "        X = df1.loc[:, DATA_COLUMNS]\n",
    "        gmm.fit(X)\n",
    "        bic.append(gmm.bic(X))\n",
    "        if bic[-1] < lowest_bic:\n",
    "            lowest_bic = bic[-1]\n",
    "            best_gmm = gmm\n",
    "\n",
    "bic = np.array(bic)\n",
    "color_iter = itertools.cycle(['navy', 'turquoise', 'cornflowerblue',\n",
    "                              'darkorange'])\n",
    "clf = best_gmm\n",
    "bars = []\n",
    "\n",
    "# Plot the BIC scores\n",
    "plt.figure(figsize=(8, 6))\n",
    "spl = plt.subplot(2, 1, 1)\n",
    "for i, (cv_type, color) in enumerate(zip(cv_types, color_iter)):\n",
    "    xpos = np.array(n_components_range) #+ .2 * (i - 2)\n",
    "    bars.append(plt.bar(xpos, bic[i * len(n_components_range):\n",
    "                                  (i + 1) * len(n_components_range)],\n",
    "                        width=.2, color=color))\n",
    "plt.xticks(n_components_range)\n",
    "plt.ylim([bic.min() * 1.01 - .01 * bic.max(), bic.max()])\n",
    "plt.title('BIC score per model')\n",
    "xpos = np.mod(bic.argmin(), len(n_components_range)) + .65 +\\\n",
    "    .2 * np.floor(bic.argmin() / len(n_components_range))\n",
    "plt.text(xpos, bic.min() * 0.97 + .03 * bic.max(), '*', fontsize=14)\n",
    "spl.set_xlabel('Number of components')\n",
    "spl.legend([b[0] for b in bars], cv_types)"
   ]
  },
  {
   "cell_type": "code",
   "execution_count": 89,
   "metadata": {},
   "outputs": [
    {
     "data": {
      "text/plain": [
       "True"
      ]
     },
     "execution_count": 89,
     "metadata": {},
     "output_type": "execute_result"
    }
   ],
   "source": [
    "GM = GaussianMixture(n_components=7, covariance_type=\"tied\", reg_covar=1e-4)\n",
    "GM.fit(df1.loc[:, DATA_COLUMNS])\n",
    "GM.converged_"
   ]
  },
  {
   "cell_type": "code",
   "execution_count": 90,
   "metadata": {},
   "outputs": [
    {
     "data": {
      "text/plain": [
       "array([ 6., 85.,  1.,  3.,  1.,  1.,  3.])"
      ]
     },
     "execution_count": 90,
     "metadata": {},
     "output_type": "execute_result"
    }
   ],
   "source": [
    "(100 * GM.weights_).round()"
   ]
  },
  {
   "cell_type": "code",
   "execution_count": 94,
   "metadata": {},
   "outputs": [
    {
     "name": "stdout",
     "output_type": "stream",
     "text": [
      "  50    3    0   15    1 \n",
      "   5    1    0    4    0 \n",
      "  89   14    0  133    1 \n",
      " 102    9    0   25    3 \n",
      " 275    8    0   41    1 \n",
      " 183    6    0   43    1 \n",
      "  35    2    0   56    2 \n"
     ]
    }
   ],
   "source": [
    "for x in GM.means_:\n",
    "    for y in x:\n",
    "        print(f\"{y:4.0f}\", end=\" \")\n",
    "    print()"
   ]
  },
  {
   "cell_type": "code",
   "execution_count": 93,
   "metadata": {},
   "outputs": [
    {
     "name": "stdout",
     "output_type": "stream",
     "text": [
      "  104    -0    -0    25    -2 \n",
      "   -0    29     0     8    -1 \n",
      "   -0     0     0     0    -0 \n",
      "   25     8     0    69     0 \n",
      "   -2    -1    -0     0    15 \n"
     ]
    }
   ],
   "source": [
    "for x in GM.covariances_:\n",
    "    for y in x:\n",
    "        print(f\"{y:5.0f}\", end=\" \")\n",
    "    print()"
   ]
  },
  {
   "cell_type": "code",
   "execution_count": 118,
   "metadata": {},
   "outputs": [],
   "source": [
    "#for x in GM.covariances_:\n",
    "#    for y in x:\n",
    "#        for z in y:\n",
    "#            print(f\"{z:10.4f}\", end=\" \")\n",
    "#        print()\n",
    "#    print()"
   ]
  },
  {
   "cell_type": "code",
   "execution_count": 95,
   "metadata": {},
   "outputs": [],
   "source": [
    "df1[\"cluster\"] = GM.predict(df1.loc[:, DATA_COLUMNS])\n",
    "df1[\"cluster\"] = df1.cluster.apply(str)"
   ]
  },
  {
   "cell_type": "code",
   "execution_count": 96,
   "metadata": {},
   "outputs": [
    {
     "data": {
      "text/plain": [
       "cluster\n",
       "0     213\n",
       "1    2983\n",
       "2      24\n",
       "3     109\n",
       "4      21\n",
       "5      46\n",
       "6     100\n",
       "dtype: int64"
      ]
     },
     "execution_count": 96,
     "metadata": {},
     "output_type": "execute_result"
    }
   ],
   "source": [
    "df1.groupby(\"cluster\").size()"
   ]
  },
  {
   "cell_type": "code",
   "execution_count": 97,
   "metadata": {
    "scrolled": false
   },
   "outputs": [
    {
     "data": {
      "text/html": [
       "<div>\n",
       "<style scoped>\n",
       "    .dataframe tbody tr th:only-of-type {\n",
       "        vertical-align: middle;\n",
       "    }\n",
       "\n",
       "    .dataframe tbody tr th {\n",
       "        vertical-align: top;\n",
       "    }\n",
       "\n",
       "    .dataframe thead th {\n",
       "        text-align: right;\n",
       "    }\n",
       "</style>\n",
       "<table border=\"1\" class=\"dataframe\">\n",
       "  <thead>\n",
       "    <tr style=\"text-align: right;\">\n",
       "      <th></th>\n",
       "      <th>COD_DANE_MUN</th>\n",
       "      <th>ANNOH</th>\n",
       "      <th>Desaparicion</th>\n",
       "      <th>Explosión mina antipersonal</th>\n",
       "      <th>Munición sin Explotar</th>\n",
       "      <th>Secuestro a Civil</th>\n",
       "      <th>Secuestro a Combatiente</th>\n",
       "      <th>dist</th>\n",
       "      <th>pca1</th>\n",
       "      <th>pca2</th>\n",
       "      <th>cluster</th>\n",
       "    </tr>\n",
       "  </thead>\n",
       "  <tbody>\n",
       "    <tr>\n",
       "      <th>2624</th>\n",
       "      <td>68001</td>\n",
       "      <td>1980</td>\n",
       "      <td>78</td>\n",
       "      <td>0</td>\n",
       "      <td>0</td>\n",
       "      <td>22</td>\n",
       "      <td>0</td>\n",
       "      <td>823.980263</td>\n",
       "      <td>57.891533</td>\n",
       "      <td>16.461462</td>\n",
       "      <td>0</td>\n",
       "    </tr>\n",
       "    <tr>\n",
       "      <th>568</th>\n",
       "      <td>11001</td>\n",
       "      <td>2010</td>\n",
       "      <td>42</td>\n",
       "      <td>0</td>\n",
       "      <td>0</td>\n",
       "      <td>5</td>\n",
       "      <td>0</td>\n",
       "      <td>208.050901</td>\n",
       "      <td>27.132066</td>\n",
       "      <td>7.868250</td>\n",
       "      <td>0</td>\n",
       "    </tr>\n",
       "    <tr>\n",
       "      <th>3045</th>\n",
       "      <td>73443</td>\n",
       "      <td>2000</td>\n",
       "      <td>71</td>\n",
       "      <td>1</td>\n",
       "      <td>0</td>\n",
       "      <td>20</td>\n",
       "      <td>1</td>\n",
       "      <td>673.694726</td>\n",
       "      <td>53.283988</td>\n",
       "      <td>15.453507</td>\n",
       "      <td>0</td>\n",
       "    </tr>\n",
       "    <tr>\n",
       "      <th>3248</th>\n",
       "      <td>76563</td>\n",
       "      <td>2000</td>\n",
       "      <td>38</td>\n",
       "      <td>9</td>\n",
       "      <td>0</td>\n",
       "      <td>10</td>\n",
       "      <td>0</td>\n",
       "      <td>265.145589</td>\n",
       "      <td>31.954041</td>\n",
       "      <td>5.287507</td>\n",
       "      <td>0</td>\n",
       "    </tr>\n",
       "    <tr>\n",
       "      <th>3497</th>\n",
       "      <td>95025</td>\n",
       "      <td>1990</td>\n",
       "      <td>65</td>\n",
       "      <td>0</td>\n",
       "      <td>0</td>\n",
       "      <td>8</td>\n",
       "      <td>12</td>\n",
       "      <td>520.891507</td>\n",
       "      <td>43.814866</td>\n",
       "      <td>21.395851</td>\n",
       "      <td>0</td>\n",
       "    </tr>\n",
       "    <tr>\n",
       "      <th>556</th>\n",
       "      <td>8770</td>\n",
       "      <td>1990</td>\n",
       "      <td>6</td>\n",
       "      <td>0</td>\n",
       "      <td>0</td>\n",
       "      <td>0</td>\n",
       "      <td>0</td>\n",
       "      <td>2.835645</td>\n",
       "      <td>3.454470</td>\n",
       "      <td>1.020160</td>\n",
       "      <td>1</td>\n",
       "    </tr>\n",
       "    <tr>\n",
       "      <th>3356</th>\n",
       "      <td>85136</td>\n",
       "      <td>1980</td>\n",
       "      <td>1</td>\n",
       "      <td>0</td>\n",
       "      <td>0</td>\n",
       "      <td>0</td>\n",
       "      <td>0</td>\n",
       "      <td>0.932535</td>\n",
       "      <td>0.575745</td>\n",
       "      <td>0.170027</td>\n",
       "      <td>1</td>\n",
       "    </tr>\n",
       "    <tr>\n",
       "      <th>2649</th>\n",
       "      <td>68092</td>\n",
       "      <td>2000</td>\n",
       "      <td>9</td>\n",
       "      <td>0</td>\n",
       "      <td>0</td>\n",
       "      <td>1</td>\n",
       "      <td>0</td>\n",
       "      <td>6.052007</td>\n",
       "      <td>5.771860</td>\n",
       "      <td>1.675666</td>\n",
       "      <td>1</td>\n",
       "    </tr>\n",
       "    <tr>\n",
       "      <th>2380</th>\n",
       "      <td>52788</td>\n",
       "      <td>2010</td>\n",
       "      <td>0</td>\n",
       "      <td>0</td>\n",
       "      <td>0</td>\n",
       "      <td>2</td>\n",
       "      <td>0</td>\n",
       "      <td>1.264920</td>\n",
       "      <td>1.180312</td>\n",
       "      <td>0.290853</td>\n",
       "      <td>1</td>\n",
       "    </tr>\n",
       "    <tr>\n",
       "      <th>2807</th>\n",
       "      <td>68679</td>\n",
       "      <td>1970</td>\n",
       "      <td>1</td>\n",
       "      <td>0</td>\n",
       "      <td>0</td>\n",
       "      <td>0</td>\n",
       "      <td>0</td>\n",
       "      <td>0.932535</td>\n",
       "      <td>0.575745</td>\n",
       "      <td>0.170027</td>\n",
       "      <td>1</td>\n",
       "    </tr>\n",
       "    <tr>\n",
       "      <th>2434</th>\n",
       "      <td>54245</td>\n",
       "      <td>2000</td>\n",
       "      <td>42</td>\n",
       "      <td>5</td>\n",
       "      <td>0</td>\n",
       "      <td>108</td>\n",
       "      <td>0</td>\n",
       "      <td>4381.092985</td>\n",
       "      <td>90.237109</td>\n",
       "      <td>21.387333</td>\n",
       "      <td>2</td>\n",
       "    </tr>\n",
       "    <tr>\n",
       "      <th>2468</th>\n",
       "      <td>54498</td>\n",
       "      <td>1990</td>\n",
       "      <td>46</td>\n",
       "      <td>1</td>\n",
       "      <td>0</td>\n",
       "      <td>156</td>\n",
       "      <td>0</td>\n",
       "      <td>9310.649355</td>\n",
       "      <td>119.012383</td>\n",
       "      <td>30.215821</td>\n",
       "      <td>2</td>\n",
       "    </tr>\n",
       "    <tr>\n",
       "      <th>1291</th>\n",
       "      <td>20228</td>\n",
       "      <td>2000</td>\n",
       "      <td>142</td>\n",
       "      <td>6</td>\n",
       "      <td>0</td>\n",
       "      <td>149</td>\n",
       "      <td>4</td>\n",
       "      <td>9585.237263</td>\n",
       "      <td>173.028523</td>\n",
       "      <td>47.120750</td>\n",
       "      <td>2</td>\n",
       "    </tr>\n",
       "    <tr>\n",
       "      <th>2469</th>\n",
       "      <td>54498</td>\n",
       "      <td>2000</td>\n",
       "      <td>81</td>\n",
       "      <td>0</td>\n",
       "      <td>0</td>\n",
       "      <td>145</td>\n",
       "      <td>1</td>\n",
       "      <td>8207.311632</td>\n",
       "      <td>132.347126</td>\n",
       "      <td>35.624091</td>\n",
       "      <td>2</td>\n",
       "    </tr>\n",
       "    <tr>\n",
       "      <th>1051</th>\n",
       "      <td>18610</td>\n",
       "      <td>2000</td>\n",
       "      <td>95</td>\n",
       "      <td>10</td>\n",
       "      <td>0</td>\n",
       "      <td>108</td>\n",
       "      <td>1</td>\n",
       "      <td>4852.595759</td>\n",
       "      <td>123.209759</td>\n",
       "      <td>29.703928</td>\n",
       "      <td>2</td>\n",
       "    </tr>\n",
       "    <tr>\n",
       "      <th>2680</th>\n",
       "      <td>68190</td>\n",
       "      <td>1990</td>\n",
       "      <td>100</td>\n",
       "      <td>0</td>\n",
       "      <td>0</td>\n",
       "      <td>16</td>\n",
       "      <td>0</td>\n",
       "      <td>1275.331660</td>\n",
       "      <td>67.016986</td>\n",
       "      <td>19.329487</td>\n",
       "      <td>3</td>\n",
       "    </tr>\n",
       "    <tr>\n",
       "      <th>1014</th>\n",
       "      <td>18150</td>\n",
       "      <td>2000</td>\n",
       "      <td>102</td>\n",
       "      <td>13</td>\n",
       "      <td>0</td>\n",
       "      <td>44</td>\n",
       "      <td>3</td>\n",
       "      <td>1839.929599</td>\n",
       "      <td>91.139755</td>\n",
       "      <td>22.240997</td>\n",
       "      <td>3</td>\n",
       "    </tr>\n",
       "    <tr>\n",
       "      <th>3330</th>\n",
       "      <td>81736</td>\n",
       "      <td>2000</td>\n",
       "      <td>103</td>\n",
       "      <td>15</td>\n",
       "      <td>0</td>\n",
       "      <td>48</td>\n",
       "      <td>0</td>\n",
       "      <td>2020.650886</td>\n",
       "      <td>94.586168</td>\n",
       "      <td>20.113604</td>\n",
       "      <td>3</td>\n",
       "    </tr>\n",
       "    <tr>\n",
       "      <th>1279</th>\n",
       "      <td>20060</td>\n",
       "      <td>2000</td>\n",
       "      <td>90</td>\n",
       "      <td>0</td>\n",
       "      <td>0</td>\n",
       "      <td>58</td>\n",
       "      <td>1</td>\n",
       "      <td>1923.695809</td>\n",
       "      <td>86.185268</td>\n",
       "      <td>24.502203</td>\n",
       "      <td>3</td>\n",
       "    </tr>\n",
       "    <tr>\n",
       "      <th>1056</th>\n",
       "      <td>18753</td>\n",
       "      <td>1990</td>\n",
       "      <td>104</td>\n",
       "      <td>1</td>\n",
       "      <td>0</td>\n",
       "      <td>49</td>\n",
       "      <td>6</td>\n",
       "      <td>1911.054083</td>\n",
       "      <td>90.094007</td>\n",
       "      <td>29.107056</td>\n",
       "      <td>3</td>\n",
       "    </tr>\n",
       "    <tr>\n",
       "      <th>512</th>\n",
       "      <td>8001</td>\n",
       "      <td>2000</td>\n",
       "      <td>245</td>\n",
       "      <td>0</td>\n",
       "      <td>0</td>\n",
       "      <td>17</td>\n",
       "      <td>0</td>\n",
       "      <td>7892.525311</td>\n",
       "      <td>151.090156</td>\n",
       "      <td>44.128769</td>\n",
       "      <td>4</td>\n",
       "    </tr>\n",
       "    <tr>\n",
       "      <th>168</th>\n",
       "      <td>5234</td>\n",
       "      <td>2000</td>\n",
       "      <td>243</td>\n",
       "      <td>50</td>\n",
       "      <td>2</td>\n",
       "      <td>57</td>\n",
       "      <td>0</td>\n",
       "      <td>10920.934805</td>\n",
       "      <td>197.320437</td>\n",
       "      <td>33.949933</td>\n",
       "      <td>4</td>\n",
       "    </tr>\n",
       "    <tr>\n",
       "      <th>316</th>\n",
       "      <td>5579</td>\n",
       "      <td>2000</td>\n",
       "      <td>265</td>\n",
       "      <td>4</td>\n",
       "      <td>0</td>\n",
       "      <td>8</td>\n",
       "      <td>0</td>\n",
       "      <td>9377.835814</td>\n",
       "      <td>159.148840</td>\n",
       "      <td>45.052561</td>\n",
       "      <td>4</td>\n",
       "    </tr>\n",
       "    <tr>\n",
       "      <th>2504</th>\n",
       "      <td>54810</td>\n",
       "      <td>1990</td>\n",
       "      <td>333</td>\n",
       "      <td>1</td>\n",
       "      <td>0</td>\n",
       "      <td>59</td>\n",
       "      <td>15</td>\n",
       "      <td>14764.144319</td>\n",
       "      <td>229.093803</td>\n",
       "      <td>76.382944</td>\n",
       "      <td>4</td>\n",
       "    </tr>\n",
       "    <tr>\n",
       "      <th>3447</th>\n",
       "      <td>86757</td>\n",
       "      <td>2000</td>\n",
       "      <td>230</td>\n",
       "      <td>16</td>\n",
       "      <td>0</td>\n",
       "      <td>40</td>\n",
       "      <td>3</td>\n",
       "      <td>7154.998013</td>\n",
       "      <td>163.865873</td>\n",
       "      <td>42.546769</td>\n",
       "      <td>4</td>\n",
       "    </tr>\n",
       "    <tr>\n",
       "      <th>1357</th>\n",
       "      <td>23001</td>\n",
       "      <td>1990</td>\n",
       "      <td>196</td>\n",
       "      <td>0</td>\n",
       "      <td>0</td>\n",
       "      <td>20</td>\n",
       "      <td>0</td>\n",
       "      <td>4998.972606</td>\n",
       "      <td>124.649122</td>\n",
       "      <td>36.233746</td>\n",
       "      <td>5</td>\n",
       "    </tr>\n",
       "    <tr>\n",
       "      <th>2064</th>\n",
       "      <td>47551</td>\n",
       "      <td>2000</td>\n",
       "      <td>148</td>\n",
       "      <td>0</td>\n",
       "      <td>0</td>\n",
       "      <td>17</td>\n",
       "      <td>0</td>\n",
       "      <td>2825.063345</td>\n",
       "      <td>95.242898</td>\n",
       "      <td>27.636190</td>\n",
       "      <td>5</td>\n",
       "    </tr>\n",
       "    <tr>\n",
       "      <th>3281</th>\n",
       "      <td>76834</td>\n",
       "      <td>2000</td>\n",
       "      <td>198</td>\n",
       "      <td>3</td>\n",
       "      <td>0</td>\n",
       "      <td>41</td>\n",
       "      <td>6</td>\n",
       "      <td>5220.414462</td>\n",
       "      <td>140.420377</td>\n",
       "      <td>43.342192</td>\n",
       "      <td>5</td>\n",
       "    </tr>\n",
       "    <tr>\n",
       "      <th>2679</th>\n",
       "      <td>68190</td>\n",
       "      <td>1980</td>\n",
       "      <td>170</td>\n",
       "      <td>0</td>\n",
       "      <td>0</td>\n",
       "      <td>42</td>\n",
       "      <td>0</td>\n",
       "      <td>3952.137242</td>\n",
       "      <td>122.663184</td>\n",
       "      <td>35.012443</td>\n",
       "      <td>5</td>\n",
       "    </tr>\n",
       "    <tr>\n",
       "      <th>3498</th>\n",
       "      <td>95025</td>\n",
       "      <td>2000</td>\n",
       "      <td>173</td>\n",
       "      <td>4</td>\n",
       "      <td>0</td>\n",
       "      <td>14</td>\n",
       "      <td>0</td>\n",
       "      <td>3889.620408</td>\n",
       "      <td>109.721243</td>\n",
       "      <td>30.282676</td>\n",
       "      <td>5</td>\n",
       "    </tr>\n",
       "    <tr>\n",
       "      <th>690</th>\n",
       "      <td>13744</td>\n",
       "      <td>1990</td>\n",
       "      <td>72</td>\n",
       "      <td>3</td>\n",
       "      <td>0</td>\n",
       "      <td>61</td>\n",
       "      <td>0</td>\n",
       "      <td>1720.734578</td>\n",
       "      <td>78.844535</td>\n",
       "      <td>20.237022</td>\n",
       "      <td>6</td>\n",
       "    </tr>\n",
       "    <tr>\n",
       "      <th>632</th>\n",
       "      <td>13442</td>\n",
       "      <td>2000</td>\n",
       "      <td>54</td>\n",
       "      <td>0</td>\n",
       "      <td>0</td>\n",
       "      <td>44</td>\n",
       "      <td>0</td>\n",
       "      <td>910.430284</td>\n",
       "      <td>57.057085</td>\n",
       "      <td>15.580213</td>\n",
       "      <td>6</td>\n",
       "    </tr>\n",
       "    <tr>\n",
       "      <th>1726</th>\n",
       "      <td>27001</td>\n",
       "      <td>2010</td>\n",
       "      <td>39</td>\n",
       "      <td>2</td>\n",
       "      <td>0</td>\n",
       "      <td>41</td>\n",
       "      <td>2</td>\n",
       "      <td>682.914117</td>\n",
       "      <td>47.856404</td>\n",
       "      <td>13.539703</td>\n",
       "      <td>6</td>\n",
       "    </tr>\n",
       "    <tr>\n",
       "      <th>622</th>\n",
       "      <td>13430</td>\n",
       "      <td>2000</td>\n",
       "      <td>46</td>\n",
       "      <td>0</td>\n",
       "      <td>0</td>\n",
       "      <td>51</td>\n",
       "      <td>0</td>\n",
       "      <td>1069.657805</td>\n",
       "      <td>56.582217</td>\n",
       "      <td>15.237987</td>\n",
       "      <td>6</td>\n",
       "    </tr>\n",
       "    <tr>\n",
       "      <th>2370</th>\n",
       "      <td>52696</td>\n",
       "      <td>2000</td>\n",
       "      <td>10</td>\n",
       "      <td>1</td>\n",
       "      <td>0</td>\n",
       "      <td>39</td>\n",
       "      <td>0</td>\n",
       "      <td>550.279492</td>\n",
       "      <td>29.237326</td>\n",
       "      <td>7.079934</td>\n",
       "      <td>6</td>\n",
       "    </tr>\n",
       "  </tbody>\n",
       "</table>\n",
       "</div>"
      ],
      "text/plain": [
       "      COD_DANE_MUN  ANNOH  Desaparicion  Explosión mina antipersonal  \\\n",
       "2624         68001   1980            78                            0   \n",
       "568          11001   2010            42                            0   \n",
       "3045         73443   2000            71                            1   \n",
       "3248         76563   2000            38                            9   \n",
       "3497         95025   1990            65                            0   \n",
       "556           8770   1990             6                            0   \n",
       "3356         85136   1980             1                            0   \n",
       "2649         68092   2000             9                            0   \n",
       "2380         52788   2010             0                            0   \n",
       "2807         68679   1970             1                            0   \n",
       "2434         54245   2000            42                            5   \n",
       "2468         54498   1990            46                            1   \n",
       "1291         20228   2000           142                            6   \n",
       "2469         54498   2000            81                            0   \n",
       "1051         18610   2000            95                           10   \n",
       "2680         68190   1990           100                            0   \n",
       "1014         18150   2000           102                           13   \n",
       "3330         81736   2000           103                           15   \n",
       "1279         20060   2000            90                            0   \n",
       "1056         18753   1990           104                            1   \n",
       "512           8001   2000           245                            0   \n",
       "168           5234   2000           243                           50   \n",
       "316           5579   2000           265                            4   \n",
       "2504         54810   1990           333                            1   \n",
       "3447         86757   2000           230                           16   \n",
       "1357         23001   1990           196                            0   \n",
       "2064         47551   2000           148                            0   \n",
       "3281         76834   2000           198                            3   \n",
       "2679         68190   1980           170                            0   \n",
       "3498         95025   2000           173                            4   \n",
       "690          13744   1990            72                            3   \n",
       "632          13442   2000            54                            0   \n",
       "1726         27001   2010            39                            2   \n",
       "622          13430   2000            46                            0   \n",
       "2370         52696   2000            10                            1   \n",
       "\n",
       "      Munición sin Explotar  Secuestro a Civil  Secuestro a Combatiente  \\\n",
       "2624                      0                 22                        0   \n",
       "568                       0                  5                        0   \n",
       "3045                      0                 20                        1   \n",
       "3248                      0                 10                        0   \n",
       "3497                      0                  8                       12   \n",
       "556                       0                  0                        0   \n",
       "3356                      0                  0                        0   \n",
       "2649                      0                  1                        0   \n",
       "2380                      0                  2                        0   \n",
       "2807                      0                  0                        0   \n",
       "2434                      0                108                        0   \n",
       "2468                      0                156                        0   \n",
       "1291                      0                149                        4   \n",
       "2469                      0                145                        1   \n",
       "1051                      0                108                        1   \n",
       "2680                      0                 16                        0   \n",
       "1014                      0                 44                        3   \n",
       "3330                      0                 48                        0   \n",
       "1279                      0                 58                        1   \n",
       "1056                      0                 49                        6   \n",
       "512                       0                 17                        0   \n",
       "168                       2                 57                        0   \n",
       "316                       0                  8                        0   \n",
       "2504                      0                 59                       15   \n",
       "3447                      0                 40                        3   \n",
       "1357                      0                 20                        0   \n",
       "2064                      0                 17                        0   \n",
       "3281                      0                 41                        6   \n",
       "2679                      0                 42                        0   \n",
       "3498                      0                 14                        0   \n",
       "690                       0                 61                        0   \n",
       "632                       0                 44                        0   \n",
       "1726                      0                 41                        2   \n",
       "622                       0                 51                        0   \n",
       "2370                      0                 39                        0   \n",
       "\n",
       "              dist        pca1       pca2 cluster  \n",
       "2624    823.980263   57.891533  16.461462       0  \n",
       "568     208.050901   27.132066   7.868250       0  \n",
       "3045    673.694726   53.283988  15.453507       0  \n",
       "3248    265.145589   31.954041   5.287507       0  \n",
       "3497    520.891507   43.814866  21.395851       0  \n",
       "556       2.835645    3.454470   1.020160       1  \n",
       "3356      0.932535    0.575745   0.170027       1  \n",
       "2649      6.052007    5.771860   1.675666       1  \n",
       "2380      1.264920    1.180312   0.290853       1  \n",
       "2807      0.932535    0.575745   0.170027       1  \n",
       "2434   4381.092985   90.237109  21.387333       2  \n",
       "2468   9310.649355  119.012383  30.215821       2  \n",
       "1291   9585.237263  173.028523  47.120750       2  \n",
       "2469   8207.311632  132.347126  35.624091       2  \n",
       "1051   4852.595759  123.209759  29.703928       2  \n",
       "2680   1275.331660   67.016986  19.329487       3  \n",
       "1014   1839.929599   91.139755  22.240997       3  \n",
       "3330   2020.650886   94.586168  20.113604       3  \n",
       "1279   1923.695809   86.185268  24.502203       3  \n",
       "1056   1911.054083   90.094007  29.107056       3  \n",
       "512    7892.525311  151.090156  44.128769       4  \n",
       "168   10920.934805  197.320437  33.949933       4  \n",
       "316    9377.835814  159.148840  45.052561       4  \n",
       "2504  14764.144319  229.093803  76.382944       4  \n",
       "3447   7154.998013  163.865873  42.546769       4  \n",
       "1357   4998.972606  124.649122  36.233746       5  \n",
       "2064   2825.063345   95.242898  27.636190       5  \n",
       "3281   5220.414462  140.420377  43.342192       5  \n",
       "2679   3952.137242  122.663184  35.012443       5  \n",
       "3498   3889.620408  109.721243  30.282676       5  \n",
       "690    1720.734578   78.844535  20.237022       6  \n",
       "632     910.430284   57.057085  15.580213       6  \n",
       "1726    682.914117   47.856404  13.539703       6  \n",
       "622    1069.657805   56.582217  15.237987       6  \n",
       "2370    550.279492   29.237326   7.079934       6  "
      ]
     },
     "execution_count": 97,
     "metadata": {},
     "output_type": "execute_result"
    }
   ],
   "source": [
    "df1.groupby(\"cluster\").sample(5, replace=True)"
   ]
  },
  {
   "cell_type": "code",
   "execution_count": 98,
   "metadata": {},
   "outputs": [
    {
     "data": {
      "text/plain": [
       "PCA(n_components=2)"
      ]
     },
     "execution_count": 98,
     "metadata": {},
     "output_type": "execute_result"
    }
   ],
   "source": [
    "pca = PCA(n_components=2)\n",
    "X = StandardScaler().fit_transform(df1.loc[:, DATA_COLUMNS])\n",
    "pca.fit(X)"
   ]
  },
  {
   "cell_type": "code",
   "execution_count": 99,
   "metadata": {},
   "outputs": [
    {
     "data": {
      "text/plain": [
       "array([0.37308994, 0.20449797])"
      ]
     },
     "execution_count": 99,
     "metadata": {},
     "output_type": "execute_result"
    }
   ],
   "source": [
    "pca.explained_variance_ratio_"
   ]
  },
  {
   "cell_type": "code",
   "execution_count": 100,
   "metadata": {},
   "outputs": [],
   "source": [
    "reduced_data = pca.transform(df1.loc[:, DATA_COLUMNS])\n",
    "df1[\"pca1\"] = reduced_data[:, 0]\n",
    "df1[\"pca2\"] = reduced_data[:, 1]"
   ]
  },
  {
   "cell_type": "code",
   "execution_count": 101,
   "metadata": {},
   "outputs": [
    {
     "data": {
      "text/plain": [
       "<AxesSubplot:xlabel='pca1', ylabel='pca2'>"
      ]
     },
     "execution_count": 101,
     "metadata": {},
     "output_type": "execute_result"
    },
    {
     "data": {
      "image/png": "[encoded data removed]",
      "text/plain": [
       "<Figure size 432x288 with 1 Axes>"
      ]
     },
     "metadata": {
      "needs_background": "light"
     },
     "output_type": "display_data"
    }
   ],
   "source": [
    "sns.scatterplot(data=df1, x=\"pca1\", y=\"pca2\", hue=\"cluster\")"
   ]
  },
  {
   "cell_type": "code",
   "execution_count": 103,
   "metadata": {},
   "outputs": [],
   "source": [
    "from sklearn.manifold import TSNE\n",
    "\n",
    "tsne = TSNE(n_components=2, perplexity=5, early_exaggeration=10, learning_rate=1000)\n",
    "X = StandardScaler().fit_transform(df1.loc[:, DATA_COLUMNS])\n",
    "reduced_data = tsne.fit_transform(X)\n",
    "df1[\"tsne1\"] = reduced_data[:, 0]\n",
    "df1[\"tsne2\"] = reduced_data[:, 1]"
   ]
  },
  {
   "cell_type": "code",
   "execution_count": 104,
   "metadata": {
    "scrolled": true
   },
   "outputs": [
    {
     "data": {
      "text/plain": [
       "<AxesSubplot:xlabel='tsne1', ylabel='tsne2'>"
      ]
     },
     "execution_count": 104,
     "metadata": {},
     "output_type": "execute_result"
    },
    {
     "data": {
      "image/png": "[encoded data removed]",
      "text/plain": [
       "<Figure size 432x288 with 1 Axes>"
      ]
     },
     "metadata": {
      "needs_background": "light"
     },
     "output_type": "display_data"
    }
   ],
   "source": [
    "sns.scatterplot(data=df1, x=\"tsne1\", y=\"tsne2\", hue=\"cluster\")"
   ]
  }
 ],
 "metadata": {
  "kernelspec": {
   "display_name": "Python 3",
   "language": "python",
   "name": "python3"
  },
  "language_info": {
   "codemirror_mode": {
    "name": "ipython",
    "version": 3
   },
   "file_extension": ".py",
   "mimetype": "text/x-python",
   "name": "python",
   "nbconvert_exporter": "python",
   "pygments_lexer": "ipython3",
   "version": "3.8.5"
  }
 },
 "nbformat": 4,
 "nbformat_minor": 4
}
